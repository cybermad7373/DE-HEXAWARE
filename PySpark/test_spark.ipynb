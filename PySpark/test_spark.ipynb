{
 "cells": [
  {
   "cell_type": "code",
   "execution_count": 1,
   "id": "937bdb16-1377-498c-8c91-056eb117cdc3",
   "metadata": {},
   "outputs": [
    {
     "name": "stdout",
     "output_type": "stream",
     "text": [
      "root\n",
      " |-- First Name: string (nullable = true)\n",
      " |-- Middle Name: string (nullable = true)\n",
      " |-- Last Name: string (nullable = true)\n",
      " |-- Dob: string (nullable = true)\n",
      " |-- Gender: string (nullable = true)\n",
      " |-- Salary: long (nullable = true)\n",
      "\n",
      "None\n"
     ]
    }
   ],
   "source": [
    "from pyspark.sql import SparkSession\n",
    "\n",
    "spark = SparkSession.builder\\\n",
    "    .master(\"local\")\\\n",
    "        .appName(\"test\")\\\n",
    "            .getOrCreate()\n",
    "            \n",
    "data = [\n",
    "    ('James', '', 'Smith', '1991-04-01', 'M', 3000),\n",
    "    ('Michael', 'Rose', '', '2000-05-19', 'M', 4000),\n",
    "    ('Robert', '', 'Williams', '1978-09-05', 'M', 4000),\n",
    "    ('Maria', 'Anne', 'Jones', '1967-12-01', 'F', 4000),\n",
    "    ('Jen', 'Mary', 'Brown', '1980-02-17', 'F', -1)\n",
    "]\n",
    "\n",
    "\n",
    "columns = [\"First Name\", \"Middle Name\", \"Last Name\", \"Dob\", \"Gender\", \"Salary\"]\n",
    "\n",
    "df = spark.createDataFrame(data = data, schema = columns)\n",
    "\n",
    "print(df.printSchema())"
   ]
  },
  {
   "cell_type": "code",
   "execution_count": 2,
   "id": "25931ede-f90c-4134-862a-27e3547f896a",
   "metadata": {},
   "outputs": [
    {
     "name": "stdout",
     "output_type": "stream",
     "text": [
      "===== Checking Python =====\n",
      "Python Executable: C:\\Users\\ASUS\\anaconda3\\python.exe\n",
      "Python Version: 3.11.7 | packaged by Anaconda, Inc. | (main, Dec 15 2023, 18:05:47) [MSC v.1916 64 bit (AMD64)]\n",
      "\n",
      "===== Checking Java =====\n",
      "Java Version Info:\n",
      "java version \"11.0.27\" 2025-04-15 LTS\n",
      "Java(TM) SE Runtime Environment 18.9 (build 11.0.27+8-LTS-232)\n",
      "Java HotSpot(TM) 64-Bit Server VM 18.9 (build 11.0.27+8-LTS-232, mixed mode)\n",
      "\n",
      "===== Checking Spark and PySpark =====\n",
      "PySpark Version: 3.11\n",
      "Spark Version: 3.5.6\n"
     ]
    }
   ],
   "source": [
    "import os\n",
    "import sys\n",
    "import subprocess\n",
    "from pyspark.sql import SparkSession\n",
    "\n",
    "def check_python():\n",
    "    print(\"Python Executable:\", sys.executable)\n",
    "    print(\"Python Version:\", sys.version)\n",
    "\n",
    "def check_java():\n",
    "    try:\n",
    "        # Run 'java -version' command and capture output\n",
    "        result = subprocess.run([\"java\", \"-version\"], capture_output=True, text=True)\n",
    "        # Java version info is sent to stderr\n",
    "        if result.stderr:\n",
    "            print(\"Java Version Info:\")\n",
    "            print(result.stderr.strip())\n",
    "        else:\n",
    "            print(\"Java version info not found.\")\n",
    "    except FileNotFoundError:\n",
    "        print(\"Java is not installed or 'java' command is not in PATH.\")\n",
    "\n",
    "def check_spark():\n",
    "    try:\n",
    "        spark = SparkSession.builder.appName(\"DependencyCheck\").getOrCreate()\n",
    "        print(\"PySpark Version:\", spark.sparkContext.pythonVer)\n",
    "        print(\"Spark Version:\", spark.version)\n",
    "        spark.stop()\n",
    "    except Exception as e:\n",
    "        print(\"SparkSession could not be initialized:\", str(e))\n",
    "\n",
    "if __name__ == \"__main__\":\n",
    "    print(\"===== Checking Python =====\")\n",
    "    check_python()\n",
    "    print(\"\\n===== Checking Java =====\")\n",
    "    check_java()\n",
    "    print(\"\\n===== Checking Spark and PySpark =====\")\n",
    "    check_spark()\n"
   ]
  },
  {
   "cell_type": "code",
   "execution_count": 3,
   "id": "7caafdad-2109-42a1-bb1a-4c23b7a958ac",
   "metadata": {},
   "outputs": [
    {
     "name": "stdout",
     "output_type": "stream",
     "text": [
      "JAVA_HOME: C:\\Program Files\\Java\\jdk-11\n",
      "SPARK_HOME: C:\\spark\\spark-3.5.6-bin-hadoop3\n",
      "PATH: C:\\Users\\ASUS\\anaconda3;C:\\Users\\ASUS\\anaconda3\\Library\\mingw-w64\\bin;C:\\Users\\ASUS\\anaconda3\\Library\\usr\\bin;C:\\Users\\ASUS\\anaconda3\\Library\\bin;C:\\Users\\ASUS\\anaconda3\\Scripts;C:\\Program Files\\Common Files\\Oracle\\Java\\javapath;C:\\Program Files\\Microsoft MPI\\Bin\\;C:\\Program Files\\NVIDIA\\CUDNN\\v9.8\\bin;C:\\Program Files\\NVIDIA GPU Computing Toolkit\\CUDA\\v12.8\\bin;C:\\Program Files\\NVIDIA GPU Computing Toolkit\\CUDA\\v12.8\\libnvvp;C:\\Windows\\system32;C:\\Windows;C:\\Windows\\System32\\Wbem;C:\\Windows\\System32\\WindowsPowerShell\\v1.0\\;C:\\Windows\\System32\\OpenSSH\\;C:\\Program Files (x86)\\NVIDIA Corporation\\PhysX\\Common;C:\\Program Files\\NVIDIA Corporation\\NVIDIA NvDLISR;C:\\Program Files\\dotnet\\;C:\\Program Files\\Git\\cmd;C:\\WINDOWS\\system32;C:\\WINDOWS;C:\\WINDOWS\\System32\\Wbem;C:\\WINDOWS\\System32\\WindowsPowerShell\\v1.0\\;C:\\WINDOWS\\System32\\OpenSSH\\;C:\\Program Files\\Docker\\Docker\\resources\\bin;C:\\Program Files\\NVIDIA Corporation\\Nsight Compute 2025.1.0\\;C:\\Program Files\\NVIDIA GPU Computing Toolkit\\CUDA\\v12.8\\bin;C:\\Program Files\\NVIDIA GPU Computing Toolkit\\CUDA\\v12.8\\libnvvp;C:\\Program Files\\nodejs\\;C:\\Program Files\\nodejs\\node_modules\\npm\\bin;C:\\sqlite;C:\\Program Files\\Microsoft SQL Server\\Client SDK\\ODBC\\170\\Tools\\Binn\\;C:\\Program Files (x86)\\Microsoft SQL Server\\150\\Tools\\Binn\\;C:\\Program Files\\Microsoft SQL Server\\150\\Tools\\Binn\\;C:\\Program Files\\Microsoft SQL Server\\150\\DTS\\Binn\\;C:\\Program Files (x86)\\Microsoft SQL Server\\160\\Tools\\Binn\\;C:\\Program Files\\Microsoft SQL Server\\160\\Tools\\Binn\\;C:\\Program Files\\Microsoft SQL Server\\160\\DTS\\Binn\\;C:\\Program Files\\MongoDB\\Server\\8.0\\bin;C:\\Program Files\\Java\\jdk-11\\bin;C:\\hadoop\\bin;C:\\spark\\spark-3.5.6-bin-hadoop3\\bin;C:\\Users\\ASUS\\AppData\\Local\\Programs\\Python\\Python310\\Scripts\\;C:\\Users\\ASUS\\AppData\\Local\\Programs\\Python\\Python310\\;C:\\Users\\ASUS\\.local\\bin;C:\\Program Files\\MySQL\\MySQL Shell 8.0\\bin\\;C:\\Users\\ASUS\\AppData\\Local\\Programs\\Python\\Launcher\\;C:\\Users\\ASUS\\AppData\\Local\\Microsoft\\WindowsApps;C:\\Program Files\\JetBrains\\IntelliJ IDEA Community Edition 2024.1.1\\bin;;C:\\Users\\ASUS\\AppData\\Local\\Programs\\Microsoft VS Code\\bin;C:\\Users\\ASUS\\AppData\\Local\\Packages\\PythonSoftwareFoundation.Python.3.12_qbz5n2kfra8p0\\LocalCache\\local-packages\\Python312\\Scripts;C:\\Program Files\\NVIDIA GPU Computing Toolkit\\CUDA\\v12.8\\bin;C:\\Program Files\\NVIDIA GPU Computing Toolkit\\CUDA\\v12.8\\libnvvp;C:\\Users\\ASUS\\AppData\\Roaming\\npm;C:\\Program Files\\nodejs\\node_modules\\npm\\bin;C:\\Users\\ASUS\\AppData\\Local\\Pandoc\\;C:\\sqlite;C:\\Users\\ASUS\\AppData\\Local\\Programs\\MiKTeX\\miktex\\bin\\x64\\;C:\\Users\\ASUS\\AppData\\Local\\Programs\\Ollama;C:\\Program Files\\MongoDB\\Server\\8.0\\bin;C:\\Program Files\\mongosh\\;C:\\Program Files\\Java\\jdk-11\\bin;C:\\spark\\spark-3.5.6-bin-hadoop3\\bin;\n"
     ]
    }
   ],
   "source": [
    "import os\n",
    "\n",
    "print(\"JAVA_HOME:\", os.environ.get(\"JAVA_HOME\"))\n",
    "print(\"SPARK_HOME:\", os.environ.get(\"SPARK_HOME\"))\n",
    "print(\"PATH:\", os.environ.get(\"PATH\"))"
   ]
  },
  {
   "cell_type": "code",
   "execution_count": 4,
   "id": "8a71d463-54c2-456b-9dfc-4d4994456ff2",
   "metadata": {},
   "outputs": [
    {
     "name": "stdout",
     "output_type": "stream",
     "text": [
      "Name: pyspark\n",
      "Version: 3.5.1\n",
      "Summary: Apache Spark Python API\n",
      "Home-page: https://github.com/apache/spark/tree/master/python\n",
      "Author: Spark Developers\n",
      "Author-email: dev@spark.apache.org\n",
      "License: http://www.apache.org/licenses/LICENSE-2.0\n",
      "Location: C:\\Users\\ASUS\\anaconda3\\Lib\\site-packages\n",
      "Requires: py4j\n",
      "Required-by: \n"
     ]
    }
   ],
   "source": [
    "!pip show pyspark"
   ]
  },
  {
   "cell_type": "code",
   "execution_count": null,
   "id": "34ab333a-d1d0-4463-abd2-b91f68d8cd24",
   "metadata": {},
   "outputs": [],
   "source": []
  }
 ],
 "metadata": {
  "kernelspec": {
   "display_name": "Python [conda env:base] *",
   "language": "python",
   "name": "conda-base-py"
  },
  "language_info": {
   "codemirror_mode": {
    "name": "ipython",
    "version": 3
   },
   "file_extension": ".py",
   "mimetype": "text/x-python",
   "name": "python",
   "nbconvert_exporter": "python",
   "pygments_lexer": "ipython3",
   "version": "3.11.7"
  }
 },
 "nbformat": 4,
 "nbformat_minor": 5
}
