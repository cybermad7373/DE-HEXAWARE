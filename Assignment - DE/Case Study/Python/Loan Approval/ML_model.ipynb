{
 "cells": [
  {
   "cell_type": "code",
   "execution_count": 25,
   "id": "a844b6d1-7ee8-47e1-aada-d114b199afe8",
   "metadata": {},
   "outputs": [],
   "source": [
    "import pandas as pd\n",
    "import numpy as np\n",
    "import matplotlib.pyplot as plt\n",
    "import seaborn as sns\n",
    "from sklearn.model_selection import train_test_split\n",
    "from sklearn.ensemble import RandomForestClassifier\n",
    "from sklearn.metrics import accuracy_score, classification_report\n",
    "from sklearn.preprocessing import StandardScaler\n",
    "import pickle\n",
    "import warnings\n",
    "warnings.filterwarnings('ignore')\n",
    "\n",
    "%matplotlib inline\n",
    "sns.set_style('whitegrid')"
   ]
  },
  {
   "cell_type": "code",
   "execution_count": 27,
   "id": "e058b7a1-003b-4141-9c65-be7a8c65f3cf",
   "metadata": {},
   "outputs": [],
   "source": [
    "df = pd.read_csv(r'data/cleaned_data.csv')"
   ]
  },
  {
   "cell_type": "markdown",
   "id": "d71fd72b-83d2-44e9-b121-7802972e5f51",
   "metadata": {},
   "source": [
    "## Model Building"
   ]
  },
  {
   "cell_type": "code",
   "execution_count": 30,
   "id": "167262ea-4f10-4a3e-b862-479a47225bee",
   "metadata": {},
   "outputs": [],
   "source": [
    "X = df.drop(['Loan_Status'], axis=1)\n",
    "y = df['Loan_Status']"
   ]
  },
  {
   "cell_type": "code",
   "execution_count": 32,
   "id": "26d6e210-4f6c-4e86-90d7-dd698c604851",
   "metadata": {},
   "outputs": [],
   "source": [
    "# Split data\n",
    "X_train, X_test, y_train, y_test = train_test_split(X, y, test_size=0.2, random_state=42)"
   ]
  },
  {
   "cell_type": "code",
   "execution_count": 34,
   "id": "3438bcb0-3b1a-4429-ba52-711c7b80d009",
   "metadata": {},
   "outputs": [],
   "source": [
    "# Scale numerical features\n",
    "scaler = StandardScaler()\n",
    "num_cols = ['ApplicantIncome', 'CoapplicantIncome', 'LoanAmount', 'Loan_Amount_Term',\n",
    "            'TotalIncome', 'EMI', 'BalanceIncome']\n",
    "X_train[num_cols] = scaler.fit_transform(X_train[num_cols])\n",
    "X_test[num_cols] = scaler.transform(X_test[num_cols])"
   ]
  },
  {
   "cell_type": "code",
   "execution_count": 36,
   "id": "0c433125-07d9-4deb-bf29-264d3cb070b3",
   "metadata": {},
   "outputs": [
    {
     "data": {
      "text/html": [
       "<style>#sk-container-id-1 {color: black;background-color: white;}#sk-container-id-1 pre{padding: 0;}#sk-container-id-1 div.sk-toggleable {background-color: white;}#sk-container-id-1 label.sk-toggleable__label {cursor: pointer;display: block;width: 100%;margin-bottom: 0;padding: 0.3em;box-sizing: border-box;text-align: center;}#sk-container-id-1 label.sk-toggleable__label-arrow:before {content: \"▸\";float: left;margin-right: 0.25em;color: #696969;}#sk-container-id-1 label.sk-toggleable__label-arrow:hover:before {color: black;}#sk-container-id-1 div.sk-estimator:hover label.sk-toggleable__label-arrow:before {color: black;}#sk-container-id-1 div.sk-toggleable__content {max-height: 0;max-width: 0;overflow: hidden;text-align: left;background-color: #f0f8ff;}#sk-container-id-1 div.sk-toggleable__content pre {margin: 0.2em;color: black;border-radius: 0.25em;background-color: #f0f8ff;}#sk-container-id-1 input.sk-toggleable__control:checked~div.sk-toggleable__content {max-height: 200px;max-width: 100%;overflow: auto;}#sk-container-id-1 input.sk-toggleable__control:checked~label.sk-toggleable__label-arrow:before {content: \"▾\";}#sk-container-id-1 div.sk-estimator input.sk-toggleable__control:checked~label.sk-toggleable__label {background-color: #d4ebff;}#sk-container-id-1 div.sk-label input.sk-toggleable__control:checked~label.sk-toggleable__label {background-color: #d4ebff;}#sk-container-id-1 input.sk-hidden--visually {border: 0;clip: rect(1px 1px 1px 1px);clip: rect(1px, 1px, 1px, 1px);height: 1px;margin: -1px;overflow: hidden;padding: 0;position: absolute;width: 1px;}#sk-container-id-1 div.sk-estimator {font-family: monospace;background-color: #f0f8ff;border: 1px dotted black;border-radius: 0.25em;box-sizing: border-box;margin-bottom: 0.5em;}#sk-container-id-1 div.sk-estimator:hover {background-color: #d4ebff;}#sk-container-id-1 div.sk-parallel-item::after {content: \"\";width: 100%;border-bottom: 1px solid gray;flex-grow: 1;}#sk-container-id-1 div.sk-label:hover label.sk-toggleable__label {background-color: #d4ebff;}#sk-container-id-1 div.sk-serial::before {content: \"\";position: absolute;border-left: 1px solid gray;box-sizing: border-box;top: 0;bottom: 0;left: 50%;z-index: 0;}#sk-container-id-1 div.sk-serial {display: flex;flex-direction: column;align-items: center;background-color: white;padding-right: 0.2em;padding-left: 0.2em;position: relative;}#sk-container-id-1 div.sk-item {position: relative;z-index: 1;}#sk-container-id-1 div.sk-parallel {display: flex;align-items: stretch;justify-content: center;background-color: white;position: relative;}#sk-container-id-1 div.sk-item::before, #sk-container-id-1 div.sk-parallel-item::before {content: \"\";position: absolute;border-left: 1px solid gray;box-sizing: border-box;top: 0;bottom: 0;left: 50%;z-index: -1;}#sk-container-id-1 div.sk-parallel-item {display: flex;flex-direction: column;z-index: 1;position: relative;background-color: white;}#sk-container-id-1 div.sk-parallel-item:first-child::after {align-self: flex-end;width: 50%;}#sk-container-id-1 div.sk-parallel-item:last-child::after {align-self: flex-start;width: 50%;}#sk-container-id-1 div.sk-parallel-item:only-child::after {width: 0;}#sk-container-id-1 div.sk-dashed-wrapped {border: 1px dashed gray;margin: 0 0.4em 0.5em 0.4em;box-sizing: border-box;padding-bottom: 0.4em;background-color: white;}#sk-container-id-1 div.sk-label label {font-family: monospace;font-weight: bold;display: inline-block;line-height: 1.2em;}#sk-container-id-1 div.sk-label-container {text-align: center;}#sk-container-id-1 div.sk-container {/* jupyter's `normalize.less` sets `[hidden] { display: none; }` but bootstrap.min.css set `[hidden] { display: none !important; }` so we also need the `!important` here to be able to override the default hidden behavior on the sphinx rendered scikit-learn.org. See: https://github.com/scikit-learn/scikit-learn/issues/21755 */display: inline-block !important;position: relative;}#sk-container-id-1 div.sk-text-repr-fallback {display: none;}</style><div id=\"sk-container-id-1\" class=\"sk-top-container\"><div class=\"sk-text-repr-fallback\"><pre>RandomForestClassifier(random_state=42)</pre><b>In a Jupyter environment, please rerun this cell to show the HTML representation or trust the notebook. <br />On GitHub, the HTML representation is unable to render, please try loading this page with nbviewer.org.</b></div><div class=\"sk-container\" hidden><div class=\"sk-item\"><div class=\"sk-estimator sk-toggleable\"><input class=\"sk-toggleable__control sk-hidden--visually\" id=\"sk-estimator-id-1\" type=\"checkbox\" checked><label for=\"sk-estimator-id-1\" class=\"sk-toggleable__label sk-toggleable__label-arrow\">RandomForestClassifier</label><div class=\"sk-toggleable__content\"><pre>RandomForestClassifier(random_state=42)</pre></div></div></div></div></div>"
      ],
      "text/plain": [
       "RandomForestClassifier(random_state=42)"
      ]
     },
     "execution_count": 36,
     "metadata": {},
     "output_type": "execute_result"
    }
   ],
   "source": [
    "# Train Random Forest Classifier\n",
    "model = RandomForestClassifier(n_estimators=100, random_state=42)\n",
    "model.fit(X_train, y_train)"
   ]
  },
  {
   "cell_type": "code",
   "execution_count": 38,
   "id": "c33ed1ea-5eec-4537-898b-9b3c157cb70f",
   "metadata": {},
   "outputs": [
    {
     "name": "stdout",
     "output_type": "stream",
     "text": [
      "Model Accuracy: 0.7723577235772358\n",
      "\n",
      "Classification Report:\n",
      "              precision    recall  f1-score   support\n",
      "\n",
      "           0       0.80      0.47      0.59        43\n",
      "           1       0.77      0.94      0.84        80\n",
      "\n",
      "    accuracy                           0.77       123\n",
      "   macro avg       0.78      0.70      0.72       123\n",
      "weighted avg       0.78      0.77      0.75       123\n",
      "\n"
     ]
    }
   ],
   "source": [
    "# Evaluate model\n",
    "y_pred = model.predict(X_test)\n",
    "print(\"Model Accuracy:\", accuracy_score(y_test, y_pred))\n",
    "print(\"\\nClassification Report:\")\n",
    "print(classification_report(y_test, y_pred))"
   ]
  },
  {
   "cell_type": "code",
   "execution_count": 40,
   "id": "75e43c47-4299-4967-8094-7cfd4f2b3b61",
   "metadata": {},
   "outputs": [],
   "source": [
    "# Save model and scaler\n",
    "pickle.dump(model, open('loan_model.pkl', 'wb'))\n",
    "pickle.dump(scaler, open('scaler.pkl', 'wb'))"
   ]
  },
  {
   "cell_type": "code",
   "execution_count": null,
   "id": "daf029f3-a71f-4099-a4e9-013e69edaeee",
   "metadata": {},
   "outputs": [],
   "source": []
  },
  {
   "cell_type": "code",
   "execution_count": null,
   "id": "e8cc8419-5bb6-484c-b782-77608c0243f9",
   "metadata": {},
   "outputs": [],
   "source": []
  },
  {
   "cell_type": "code",
   "execution_count": 44,
   "id": "0f8355b6-bbef-4dc0-985b-f7a7ff5e49d1",
   "metadata": {},
   "outputs": [],
   "source": [
    "def predict_loan_eligibility(input_data):\n",
    "    \"\"\"\n",
    "    Predict loan eligibility in real-time based on customer details\n",
    "    \n",
    "    Parameters:\n",
    "    input_data (dict): Dictionary containing customer details with these keys:\n",
    "        - 'Gender' (str): 'Male' or 'Female'\n",
    "        - 'Married' (str): 'Yes' or 'No'\n",
    "        - 'Dependents' (int): 0, 1, 2, or 3\n",
    "        - 'Education' (str): 'Graduate' or 'Not Graduate'\n",
    "        - 'Self_Employed' (str): 'Yes' or 'No'\n",
    "        - 'ApplicantIncome' (float)\n",
    "        - 'CoapplicantIncome' (float)\n",
    "        - 'LoanAmount' (float)\n",
    "        - 'Loan_Amount_Term' (float)\n",
    "        - 'Credit_History' (int): 0 or 1\n",
    "        - 'Property_Area' (str): 'Urban', 'Semiurban', or 'Rural'\n",
    "    \n",
    "    Returns:\n",
    "    dict: Prediction and probability with keys:\n",
    "        - 'eligible' (bool): True if approved\n",
    "        - 'probability' (float): Confidence score\n",
    "        - 'message' (str): Explanation\n",
    "    \"\"\"\n",
    "    # Load model and scaler\n",
    "    model = pickle.load(open('loan_model.pkl', 'rb'))\n",
    "    scaler = pickle.load(open('scaler.pkl', 'rb'))\n",
    "    \n",
    "    # Create DataFrame from input\n",
    "    input_df = pd.DataFrame([input_data])\n",
    "    \n",
    "    # Feature engineering (same as training)\n",
    "    input_df['TotalIncome'] = input_df['ApplicantIncome'] + input_df['CoapplicantIncome']\n",
    "    input_df['EMI'] = input_df['LoanAmount'] / input_df['Loan_Amount_Term']\n",
    "    input_df['BalanceIncome'] = input_df['TotalIncome'] - (input_df['EMI'] * 1000)\n",
    "    \n",
    "    # Convert categorical to numerical\n",
    "    input_df['Gender'] = input_df['Gender'].map({'Male': 1, 'Female': 0})\n",
    "    input_df['Married'] = input_df['Married'].map({'Yes': 1, 'No': 0})\n",
    "    input_df['Education'] = input_df['Education'].map({'Graduate': 1, 'Not Graduate': 0})\n",
    "    input_df['Self_Employed'] = input_df['Self_Employed'].map({'Yes': 1, 'No': 0})\n",
    "    \n",
    "    # One-hot encoding for Property_Area\n",
    "    input_df['Property_Area_Semiurban'] = (input_df['Property_Area'] == 'Semiurban').astype(int)\n",
    "    input_df['Property_Area_Urban'] = (input_df['Property_Area'] == 'Urban').astype(int)\n",
    "    input_df.drop('Property_Area', axis=1, inplace=True)\n",
    "    \n",
    "    # Scale numerical features\n",
    "    num_cols = ['ApplicantIncome', 'CoapplicantIncome', 'LoanAmount', 'Loan_Amount_Term',\n",
    "                'TotalIncome', 'EMI', 'BalanceIncome']\n",
    "    input_df[num_cols] = scaler.transform(input_df[num_cols])\n",
    "    \n",
    "    # Make prediction\n",
    "    proba = model.predict_proba(input_df)[0][1]\n",
    "    prediction = model.predict(input_df)[0]\n",
    "    \n",
    "    # Prepare response\n",
    "    result = {\n",
    "        'eligible': bool(prediction),\n",
    "        'probability': float(proba),\n",
    "        'message': 'Approved' if prediction else 'Not Approved'\n",
    "    }\n",
    "    \n",
    "    # Add reason for rejection\n",
    "    if not prediction:\n",
    "        if input_data['Credit_History'] == 0:\n",
    "            result['message'] += ' - Poor Credit History'\n",
    "        elif input_df['BalanceIncome'].values[0] < 0:\n",
    "            result['message'] += ' - Insufficient Balance Income'\n",
    "        elif input_df['EMI'].values[0] > 0.5 * input_df['TotalIncome'].values[0]:\n",
    "            result['message'] += ' - High EMI to Income Ratio'\n",
    "    \n",
    "    return result"
   ]
  },
  {
   "cell_type": "code",
   "execution_count": 46,
   "id": "141ef250-f142-418d-9c84-3faa52003407",
   "metadata": {},
   "outputs": [
    {
     "name": "stdout",
     "output_type": "stream",
     "text": [
      "\n",
      "Prediction Result:\n",
      "eligible: True\n",
      "probability: 0.96\n",
      "message: Approved\n"
     ]
    }
   ],
   "source": [
    "# Example customer data\n",
    "customer_data = {\n",
    "    'Gender': 'Male',\n",
    "    'Married': 'Yes',\n",
    "    'Dependents': 2,\n",
    "    'Education': 'Graduate',\n",
    "    'Self_Employed': 'No',\n",
    "    'ApplicantIncome': 5000,\n",
    "    'CoapplicantIncome': 2000,\n",
    "    'LoanAmount': 150,\n",
    "    'Loan_Amount_Term': 360,\n",
    "    'Credit_History': 1,\n",
    "    'Property_Area': 'Urban'\n",
    "}\n",
    "\n",
    "# Get prediction\n",
    "prediction = predict_loan_eligibility(customer_data)\n",
    "print(\"\\nPrediction Result:\")\n",
    "for key, value in prediction.items():\n",
    "    print(f\"{key}: {value}\")"
   ]
  },
  {
   "cell_type": "code",
   "execution_count": null,
   "id": "971899f7-4644-4848-a6b2-eba5f330ed0e",
   "metadata": {},
   "outputs": [],
   "source": []
  }
 ],
 "metadata": {
  "kernelspec": {
   "display_name": "Python [conda env:base] *",
   "language": "python",
   "name": "conda-base-py"
  },
  "language_info": {
   "codemirror_mode": {
    "name": "ipython",
    "version": 3
   },
   "file_extension": ".py",
   "mimetype": "text/x-python",
   "name": "python",
   "nbconvert_exporter": "python",
   "pygments_lexer": "ipython3",
   "version": "3.11.7"
  }
 },
 "nbformat": 4,
 "nbformat_minor": 5
}
