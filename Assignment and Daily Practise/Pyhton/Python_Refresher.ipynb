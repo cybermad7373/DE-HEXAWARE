{
 "cells": [
  {
   "cell_type": "markdown",
   "id": "a0144de0-0a70-45cb-87b4-5df84aefd175",
   "metadata": {},
   "source": [
    "#### History of Python\n",
    "\n",
    "Python was conceived in the late 1980s by Guido van Rossum at CWI in the Netherlands as a successor to the ABC language.\n",
    "\n",
    "Key milestones:\n",
    "- **1991**: First public release (Python 0.9.0)\n",
    "- **1994**: Python 1.0 introduced functional programming tools\n",
    "- **2000**: Python 2.0 added list comprehensions and garbage collection\n",
    "- **2008**: Python 3.0 (backward-incompatible) with Unicode support\n",
    "- **2020**: Python 2 reached end-of-life\n",
    "\n",
    "Python's name comes from Monty Python's Flying Circus, not the snake. Its design philosophy emphasizes:\n",
    "- Readability over complexity\n",
    "- \"There should be one obvious way to do it\"\n",
    "- Batteries-included approach"
   ]
  },
  {
   "cell_type": "markdown",
   "id": "b4e26057-00e5-4156-bf3a-320466fd9ef3",
   "metadata": {},
   "source": [
    "# Python Programming\r\n",
    "\r\n",
    "Python is a high-level, interpreted programming language known for:\r\n",
    "- Simple and readable syntax\r\n",
    "- Dynamic typing and automatic memory management\r\n",
    "- Multi-paradigm support (OOP, functional, procedural)\r\n",
    "- Extensive standard library\r\n",
    "- Cross-platform compatibility"
   ]
  },
  {
   "cell_type": "code",
   "execution_count": 4,
   "id": "3cd3abed-aacb-4183-97c1-038189cf1c95",
   "metadata": {},
   "outputs": [
    {
     "name": "stdout",
     "output_type": "stream",
     "text": [
      "HlowwwWorlddd\n"
     ]
    }
   ],
   "source": [
    "print(\"HlowwwWorlddd\")"
   ]
  },
  {
   "cell_type": "markdown",
   "id": "403b4895-155c-42ac-ab36-e1fc23820703",
   "metadata": {},
   "source": [
    "## Variables and Data Types\n",
    "\n",
    "Variables are containers for storing data values. Python has several built-in data types:\n",
    "- Numeric: int, float, complex\n",
    "- Sequence: str, list, tuple\n",
    "- Boolean: bool\n",
    "- Set and Dictionary"
   ]
  },
  {
   "cell_type": "code",
   "execution_count": 6,
   "id": "d6a2736b-b379-4555-be45-5974e473713f",
   "metadata": {},
   "outputs": [
    {
     "name": "stdout",
     "output_type": "stream",
     "text": [
      "<class 'int'> <class 'float'> <class 'str'>\n"
     ]
    }
   ],
   "source": [
    "# Variable examples\n",
    "integer_var = 10\n",
    "float_var = 3.14\n",
    "string_var = \"Hello\"\n",
    "list_var = [1, 2, 3]\n",
    "bool_var = True\n",
    "\n",
    "print(type(integer_var), type(float_var), type(string_var))"
   ]
  },
  {
   "cell_type": "code",
   "execution_count": 7,
   "id": "4036102a-3435-4e27-a172-f486111e5f18",
   "metadata": {},
   "outputs": [
    {
     "name": "stdout",
     "output_type": "stream",
     "text": [
      "<class 'int'> <class 'float'> <class 'complex'>\n"
     ]
    }
   ],
   "source": [
    "num_int = 10\n",
    "num_float = 7.5\n",
    "num_complex = 2 + 3j\n",
    "print(type(num_int), type(num_float), type(num_complex))"
   ]
  },
  {
   "cell_type": "code",
   "execution_count": 8,
   "id": "0e337af9-0c96-48f1-b507-b73070ef80c3",
   "metadata": {},
   "outputs": [
    {
     "name": "stdout",
     "output_type": "stream",
     "text": [
      "1\n",
      "False\n",
      "3.14\n"
     ]
    }
   ],
   "source": [
    "is_valid = True\n",
    "print(int(is_valid))  # True → 1\n",
    "print(bool(0))       # 0 → False\n",
    "print(float(\"3.14\")) # string → float"
   ]
  },
  {
   "cell_type": "markdown",
   "id": "fcb9bce5-52ca-4081-b407-a497bcba552d",
   "metadata": {},
   "source": [
    "## Control Structures\n",
    "\n",
    "Control the flow of program execution:\n",
    "- Conditional statements (if-elif-else)\n",
    "- Loops (for, while)\n",
    "- Control statements (break, continue, pass)"
   ]
  },
  {
   "cell_type": "code",
   "execution_count": 10,
   "id": "2aaeabc3-7663-4d36-9ed1-4b4bd6f0e0bd",
   "metadata": {},
   "outputs": [
    {
     "name": "stdout",
     "output_type": "stream",
     "text": [
      "Adult\n",
      "1 2 3 4 5 "
     ]
    }
   ],
   "source": [
    "# If-elif-else example\n",
    "age = 20\n",
    "if age < 13:\n",
    "    print(\"Child\")\n",
    "elif age < 20:\n",
    "    print(\"Teen\")\n",
    "else:\n",
    "    print(\"Adult\")\n",
    "\n",
    "# For loop example\n",
    "for i in range(1, 6):\n",
    "    print(i, end=' ')"
   ]
  },
  {
   "cell_type": "code",
   "execution_count": 11,
   "id": "3a40e2f6-d690-48ac-8fdf-846c1f5d0667",
   "metadata": {},
   "outputs": [
    {
     "name": "stdout",
     "output_type": "stream",
     "text": [
      "3\n",
      "2\n",
      "1\n",
      "Blastoff!\n"
     ]
    }
   ],
   "source": [
    "count = 3\n",
    "while count > 0:\n",
    "    print(count)\n",
    "    count -= 1\n",
    "print(\"Blastoff!\")"
   ]
  },
  {
   "cell_type": "markdown",
   "id": "9d01faa6-01e2-4cdc-a2a7-66cac5bf1def",
   "metadata": {},
   "source": [
    "## Functions\n",
    "\n",
    "Functions are reusable blocks of code that:\n",
    "- Improve modularity\n",
    "- Avoid code repetition\n",
    "- Can accept parameters and return values\n",
    "\n",
    "Types:\n",
    "- Built-in functions\n",
    "- User-defined functions\n",
    "- Lambda functions"
   ]
  },
  {
   "cell_type": "code",
   "execution_count": 13,
   "id": "4778c5a1-c03d-4f86-8737-adc935bc66f9",
   "metadata": {},
   "outputs": [
    {
     "name": "stdout",
     "output_type": "stream",
     "text": [
      "Hello, Alice!\n",
      "25\n"
     ]
    }
   ],
   "source": [
    "# Function examples\n",
    "def greet(name):\n",
    "    return f\"Hello, {name}!\"\n",
    "\n",
    "# Lambda function\n",
    "square = lambda x: x*x\n",
    "\n",
    "print(greet(\"Alice\"))\n",
    "print(square(5))"
   ]
  },
  {
   "cell_type": "markdown",
   "id": "89864d49-5a9a-480b-9a28-e8f19becca73",
   "metadata": {},
   "source": [
    "## Data Structures\n",
    "\n",
    "Python's built-in data structures:\n",
    "1. Lists: Ordered, mutable collections\n",
    "2. Tuples: Ordered, immutable collections\n",
    "3. Sets: Unordered, unique elements\n",
    "4. Dictionaries: Key-value pairs"
   ]
  },
  {
   "cell_type": "code",
   "execution_count": 15,
   "id": "4f5095c0-e52f-403f-855b-4d45f0aba925",
   "metadata": {},
   "outputs": [
    {
     "name": "stdout",
     "output_type": "stream",
     "text": [
      "1 2 {1, 2, 3} John\n"
     ]
    }
   ],
   "source": [
    "# Data structure examples\n",
    "my_list = [1, 2, 3]\n",
    "my_tuple = (1, 2, 3)\n",
    "my_set = {1, 2, 2, 3}  # Duplicates removed\n",
    "my_dict = {'name': 'John', 'age': 25}\n",
    "\n",
    "print(my_list[0], my_tuple[1], my_set, my_dict['name'])"
   ]
  },
  {
   "cell_type": "code",
   "execution_count": 16,
   "id": "d6e46042-8ce8-4c8c-a424-6f0d674617ea",
   "metadata": {},
   "outputs": [
    {
     "name": "stdout",
     "output_type": "stream",
     "text": [
      "['apple', 'banana', 'orange']\n"
     ]
    }
   ],
   "source": [
    "# LIst\n",
    "fruits = ['apple', 'banana', 'cherry']\n",
    "fruits.append('orange')\n",
    "fruits.insert(1, 'kiwi')\n",
    "print(fruits[::2])  # Every other item"
   ]
  },
  {
   "cell_type": "code",
   "execution_count": 17,
   "id": "08b11d52-4ab9-4686-85d4-f37054c320cc",
   "metadata": {},
   "outputs": [
    {
     "name": "stdout",
     "output_type": "stream",
     "text": [
      "Alice dict_keys(['name', 'age', 'courses'])\n"
     ]
    }
   ],
   "source": [
    "# Dictionary\n",
    "student = {\n",
    "    'name': 'Alice',\n",
    "    'age': 20,\n",
    "    'courses': ['Math', 'Physics']\n",
    "}\n",
    "print(student.get('name'), student.keys())"
   ]
  },
  {
   "cell_type": "code",
   "execution_count": 18,
   "id": "1884827b-cdf4-4e25-9715-c1d72ac0a075",
   "metadata": {},
   "outputs": [
    {
     "name": "stdout",
     "output_type": "stream",
     "text": [
      "{1, 2, 3, 4, 5}\n"
     ]
    }
   ],
   "source": [
    "#Sets\n",
    "a = {1, 2, 3, 3}\n",
    "b = {3, 4, 5}\n",
    "print(a.union(b))  # {1, 2, 3, 4, 5}"
   ]
  },
  {
   "cell_type": "markdown",
   "id": "3cae5636-035e-4178-9c5b-ac5c9cc4e3de",
   "metadata": {},
   "source": [
    "## Object-Oriented Programming\n",
    "\n",
    "Key OOP concepts in Python:\n",
    "- Classes and Objects\n",
    "- Inheritance\n",
    "- Polymorphism\n",
    "- Encapsulation\n",
    "- Abstraction"
   ]
  },
  {
   "cell_type": "code",
   "execution_count": 20,
   "id": "c2b09827-28f4-4563-be3d-f5979a928dd1",
   "metadata": {},
   "outputs": [
    {
     "name": "stdout",
     "output_type": "stream",
     "text": [
      "Python Crash Course by Eric Matthes\n"
     ]
    }
   ],
   "source": [
    "# Class & Object\n",
    "class Book:\n",
    "    def __init__(self, title, author):\n",
    "        self.title = title\n",
    "        self.author = author\n",
    "    \n",
    "    def info(self):\n",
    "        return f\"{self.title} by {self.author}\"\n",
    "\n",
    "book1 = Book(\"Python Crash Course\", \"Eric Matthes\")\n",
    "print(book1.info())"
   ]
  },
  {
   "cell_type": "code",
   "execution_count": 21,
   "id": "c7644d2a-ecc6-40c9-99c2-649a4c5cf8c6",
   "metadata": {},
   "outputs": [
    {
     "name": "stdout",
     "output_type": "stream",
     "text": [
      "Fluent Python by Luciano Ramalho (10MB)\n"
     ]
    }
   ],
   "source": [
    "# Inheritance\n",
    "class EBook(Book):\n",
    "    def __init__(self, title, author, file_size):\n",
    "        super().__init__(title, author)\n",
    "        self.file_size = file_size\n",
    "    \n",
    "    def info(self):\n",
    "        return f\"{super().info()} ({self.file_size}MB)\"\n",
    "\n",
    "ebook = EBook(\"Fluent Python\", \"Luciano Ramalho\", 10)\n",
    "print(ebook.info())"
   ]
  },
  {
   "cell_type": "markdown",
   "id": "9b718400-0c46-4112-845d-084baaa49f5a",
   "metadata": {},
   "source": [
    "## File Handling\n",
    "\n",
    "Python provides built-in functions for:\n",
    "- Creating, reading, updating, deleting files\n",
    "- Working with both text and binary files\n",
    "- File modes: 'r' (read), 'w' (write), 'a' (append)"
   ]
  },
  {
   "cell_type": "code",
   "execution_count": 23,
   "id": "1687cd40-305b-4966-9fa2-feb94143fd95",
   "metadata": {},
   "outputs": [
    {
     "ename": "FileNotFoundError",
     "evalue": "[Errno 2] No such file or directory: 'example.txt'",
     "output_type": "error",
     "traceback": [
      "\u001b[1;31m---------------------------------------------------------------------------\u001b[0m",
      "\u001b[1;31mFileNotFoundError\u001b[0m                         Traceback (most recent call last)",
      "Cell \u001b[1;32mIn[23], line 5\u001b[0m\n\u001b[0;32m      2\u001b[0m \u001b[38;5;28;01mwith\u001b[39;00m \u001b[38;5;28mopen\u001b[39m(\u001b[38;5;124mr\u001b[39m\u001b[38;5;124m'\u001b[39m\u001b[38;5;124mdata/example.txt\u001b[39m\u001b[38;5;124m'\u001b[39m, \u001b[38;5;124m'\u001b[39m\u001b[38;5;124mw\u001b[39m\u001b[38;5;124m'\u001b[39m) \u001b[38;5;28;01mas\u001b[39;00m f:\n\u001b[0;32m      3\u001b[0m     f\u001b[38;5;241m.\u001b[39mwrite(\u001b[38;5;124m\"\u001b[39m\u001b[38;5;124mThis is line 1\u001b[39m\u001b[38;5;130;01m\\n\u001b[39;00m\u001b[38;5;124mThis is line 2\u001b[39m\u001b[38;5;124m\"\u001b[39m)\n\u001b[1;32m----> 5\u001b[0m \u001b[38;5;28;01mwith\u001b[39;00m \u001b[38;5;28mopen\u001b[39m(\u001b[38;5;124m'\u001b[39m\u001b[38;5;124mexample.txt\u001b[39m\u001b[38;5;124m'\u001b[39m) \u001b[38;5;28;01mas\u001b[39;00m f:\n\u001b[0;32m      6\u001b[0m     \u001b[38;5;28mprint\u001b[39m(f\u001b[38;5;241m.\u001b[39mread())\n",
      "File \u001b[1;32m~\\anaconda3\\Lib\\site-packages\\IPython\\core\\interactiveshell.py:310\u001b[0m, in \u001b[0;36m_modified_open\u001b[1;34m(file, *args, **kwargs)\u001b[0m\n\u001b[0;32m    303\u001b[0m \u001b[38;5;28;01mif\u001b[39;00m file \u001b[38;5;129;01min\u001b[39;00m {\u001b[38;5;241m0\u001b[39m, \u001b[38;5;241m1\u001b[39m, \u001b[38;5;241m2\u001b[39m}:\n\u001b[0;32m    304\u001b[0m     \u001b[38;5;28;01mraise\u001b[39;00m \u001b[38;5;167;01mValueError\u001b[39;00m(\n\u001b[0;32m    305\u001b[0m         \u001b[38;5;124mf\u001b[39m\u001b[38;5;124m\"\u001b[39m\u001b[38;5;124mIPython won\u001b[39m\u001b[38;5;124m'\u001b[39m\u001b[38;5;124mt let you open fd=\u001b[39m\u001b[38;5;132;01m{\u001b[39;00mfile\u001b[38;5;132;01m}\u001b[39;00m\u001b[38;5;124m by default \u001b[39m\u001b[38;5;124m\"\u001b[39m\n\u001b[0;32m    306\u001b[0m         \u001b[38;5;124m\"\u001b[39m\u001b[38;5;124mas it is likely to crash IPython. If you know what you are doing, \u001b[39m\u001b[38;5;124m\"\u001b[39m\n\u001b[0;32m    307\u001b[0m         \u001b[38;5;124m\"\u001b[39m\u001b[38;5;124myou can use builtins\u001b[39m\u001b[38;5;124m'\u001b[39m\u001b[38;5;124m open.\u001b[39m\u001b[38;5;124m\"\u001b[39m\n\u001b[0;32m    308\u001b[0m     )\n\u001b[1;32m--> 310\u001b[0m \u001b[38;5;28;01mreturn\u001b[39;00m io_open(file, \u001b[38;5;241m*\u001b[39margs, \u001b[38;5;241m*\u001b[39m\u001b[38;5;241m*\u001b[39mkwargs)\n",
      "\u001b[1;31mFileNotFoundError\u001b[0m: [Errno 2] No such file or directory: 'example.txt'"
     ]
    }
   ],
   "source": [
    "# File operations\n",
    "with open(r'data/example.txt', 'w') as f:\n",
    "    f.write(\"This is line 1\\nThis is line 2\")\n",
    "\n",
    "with open(r'example.txt') as f:\n",
    "    print(f.read())"
   ]
  },
  {
   "cell_type": "markdown",
   "id": "3b082e2c-e0c1-4a0d-9f07-0906daaf1eff",
   "metadata": {},
   "source": [
    "## Exception Handling\n",
    "\n",
    "Mechanism to handle runtime errors:\n",
    "- try: Block of code to attempt\n",
    "- except: Handle the exception\n",
    "- finally: Always execute\n",
    "- raise: Force an exception"
   ]
  },
  {
   "cell_type": "code",
   "execution_count": null,
   "id": "c8bbcd4e-5037-473d-aa50-c336d1bba686",
   "metadata": {},
   "outputs": [],
   "source": [
    "# Exception handling example\n",
    "try:\n",
    "    result = 10 / 0\n",
    "except ZeroDivisionError as e:\n",
    "    print(f\"Error occurred: {e}\")\n",
    "finally:\n",
    "    print(\"This always executes\")"
   ]
  },
  {
   "cell_type": "markdown",
   "id": "64426d6c-73ea-483d-bf12-93d28e48b5c0",
   "metadata": {},
   "source": [
    "## Modules and Packages\n",
    "\n",
    "Modules are Python files containing reusable code\n",
    "Packages are collections of modules\n",
    "\n",
    "Key concepts:\n",
    "- Importing modules\n",
    "- Standard library modules\n",
    "- Creating custom modules\n",
    "- Package hierarchy"
   ]
  },
  {
   "cell_type": "code",
   "execution_count": null,
   "id": "e087fbdc-0395-4d05-b775-647484370133",
   "metadata": {},
   "outputs": [],
   "source": [
    "from math import sqrt, pi\n",
    "print(sqrt(16), pi)\n",
    "print(math.sqrt(16))\n",
    "\n",
    "import datetime as dt\n",
    "print(dt.datetime.now())"
   ]
  },
  {
   "cell_type": "markdown",
   "id": "3951e3dc-ca50-449c-9090-0b8298a28119",
   "metadata": {},
   "source": [
    "## Map & Mapping Functions\n",
    "\n",
    "The `map()` function applies a given function to each item of an iterable:\n",
    "\n",
    "- **Purpose**: Transform data without explicit loops\n",
    "- **Syntax**: `map(function, iterable)`\n",
    "- **Returns**: Iterator object (convert to list to view)\n",
    "- **Advantages**:\n",
    "  - Cleaner functional programming style\n",
    "  - Lazy evaluation (memory efficient)\n",
    "  - Parallel processing potential\n",
    "\n",
    "Mapping dictionaries involves transforming key-value pairs through:\n",
    "- Dictionary comprehensions\n",
    "- `map()` with lambda functions\n",
    "- Built-in methods like `dict.update()`"
   ]
  },
  {
   "cell_type": "code",
   "execution_count": null,
   "id": "0a8eb246-43aa-4b52-9d8e-4b9c97836578",
   "metadata": {},
   "outputs": [],
   "source": [
    "# Map function\n",
    "numbers = [1, 2, 3]\n",
    "squared = map(lambda x: x**2, numbers)\n",
    "print(list(squared))  # [1, 4, 9]\n",
    "\n",
    "# Mapping dictionary\n",
    "student_grades = {'Alice': 85, 'Bob': 72}\n",
    "upgraded = {k: v+5 for k,v in student_grades.items()}\n",
    "print(upgraded)  # {'Alice': 90, 'Bob': 77}"
   ]
  },
  {
   "cell_type": "markdown",
   "id": "a27ca96f-b4a2-418c-b638-44a359833c3f",
   "metadata": {},
   "source": [
    "## String Functions\n",
    "\n",
    "Python strings are immutable sequences with rich methods:\n",
    "\n",
    "**Core Operations**:\n",
    "- **Case manipulation**: `lower()`, `upper()`, `title()`\n",
    "- **Searching**: `find()`, `index()`, `count()`\n",
    "- **Validation**: `isalpha()`, `isdigit()`, `isspace()`\n",
    "- **Formatting**: `strip()`, `ljust()`, `format()`\n",
    "\n",
    "**Key Features**:\n",
    "- Unicode support by default\n",
    "- Triple-quoted multi-line strings\n",
    "- F-strings (formatted string literals) since Python 3.6\n",
    "- String interpolation (`%` operator) for backward compatibility"
   ]
  },
  {
   "cell_type": "code",
   "execution_count": null,
   "id": "20e58b49-f714-46ff-804e-fbc41afa6071",
   "metadata": {},
   "outputs": [],
   "source": [
    "text = \"  Python Programming  \"\n",
    "print(text.strip())        # \"Python Programming\"\n",
    "print(text.lower())       # \"  python programming  \"\n",
    "print(text.upper())       # \"  PYTHON PROGRAMMING  \"\n",
    "print(text.find(\"Pro\"))   # 9\n",
    "print(text.replace(\"P\", \"J\")) # \"  Jython Jrogramming  \"\n",
    "print(\"Pro\" in text)      # True"
   ]
  },
  {
   "cell_type": "markdown",
   "id": "8c14250c-ea0f-4701-9a2f-4c24a73a1fff",
   "metadata": {},
   "source": [
    "## Number Functions\n",
    "\n",
    "Python provides several numeric types and operations:\n",
    "\n",
    "**Numeric Types**:\n",
    "- Integers (`int`): Unlimited precision\n",
    "- Floating-point (`float`): Double precision\n",
    "- Complex (`complex`): Real + imaginary parts\n",
    "- Boolean (`bool`): Subtype of integers\n",
    "\n",
    "**Core Functions**:\n",
    "- **Basic ops**: `abs()`, `round()`, `divmod()`\n",
    "- **Math module**: `sqrt()`, `log()`, `trigonometric`\n",
    "- **Type conversion**: `int()`, `float()`, `complex()`\n",
    "\n",
    "**Special Cases**:\n",
    "- Integer division (`//`) vs true division (`/`)\n",
    "- Decimal module for financial calculations\n",
    "- Infinity representation: `float('inf')`"
   ]
  },
  {
   "cell_type": "code",
   "execution_count": null,
   "id": "1f2447e3-d1a1-4fd5-b012-7ead2818b590",
   "metadata": {},
   "outputs": [],
   "source": [
    "import math\n",
    "\n",
    "print(abs(-5))           # 5\n",
    "print(round(3.14159, 2)) # 3.14\n",
    "print(math.ceil(4.2))    # 5\n",
    "print(math.floor(4.9))   # 4\n",
    "print(math.gcd(12, 15)) # 3\n",
    "print(pow(2, 3))        # 8"
   ]
  },
  {
   "cell_type": "markdown",
   "id": "995a5682-5ac5-4591-b02b-7c7defc71f63",
   "metadata": {},
   "source": [
    "## Date and Time Functions\n",
    "\n",
    "Python handles temporal data through:\n",
    "\n",
    "**Core Modules**:\n",
    "- `datetime`: Basic date/time operations\n",
    "- `time`: Time access and conversions\n",
    "- `calendar`: Date-related functions\n",
    "- `pytz` (third-party): Timezone support\n",
    "\n",
    "**Key Concepts**:\n",
    "- **Naive vs Aware** objects (timezone awareness)\n",
    "- **Timedelta**: Relative time periods\n",
    "- **Formatting**:\n",
    "  - `strftime()`: Date → String\n",
    "  - `strptime()`: String → Date\n",
    "- **Epoch time**: Seconds since 1970-01-01"
   ]
  },
  {
   "cell_type": "code",
   "execution_count": null,
   "id": "b40f4876-dd22-4838-bf49-64f991a23a8a",
   "metadata": {},
   "outputs": [],
   "source": [
    "from datetime import datetime, timedelta\n",
    "\n",
    "now = datetime.now()\n",
    "print(now.strftime(\"%Y-%m-%d %H:%M:%S\"))  # 2023-08-20 14:30:00\n",
    "\n",
    "future_date = now + timedelta(days=7)\n",
    "print(future_date.date())\n",
    "\n",
    "# Timezone handling\n",
    "from pytz import timezone\n",
    "tz = timezone('Asia/Kolkata')\n",
    "print(now.astimezone(tz))"
   ]
  },
  {
   "cell_type": "markdown",
   "id": "5086ec2d-6e15-416c-b366-cf61aa20bb7f",
   "metadata": {},
   "source": [
    "## Special Parameters\n",
    "\n",
    "Python 3.8+ introduced parameter syntax restrictions:\n",
    "\n",
    "1. **Positional-only** (`/`):\n",
    "   - Parameters before `/` can't be keyword arguments\n",
    "   - Enforces API design clarity\n",
    "\n",
    "2. **Keyword-only** (`*`):\n",
    "   - Parameters after `*` must be keyword arguments\n",
    "   - Prevents accidental positional usage\n",
    "\n",
    "**Use Cases**:\n",
    "- Library API design\n",
    "- Preventing parameter name changes from breaking code\n",
    "- Making interfaces more explicit"
   ]
  },
  {
   "cell_type": "code",
   "execution_count": null,
   "id": "07b067e0-f646-48ed-baa0-ac9090427131",
   "metadata": {},
   "outputs": [],
   "source": [
    "def func(a, b, /, c, *, d):\n",
    "    print(a, b, c, d)\n",
    "    \n",
    "func(1, 2, c=3, d=4)  # Correct\n",
    "# func(1, b=2, c=3, d=4)  # Error (b is positional-only)"
   ]
  },
  {
   "cell_type": "markdown",
   "id": "0f583817-4f33-43d5-bf36-9cf190f7e64a",
   "metadata": {},
   "source": [
    "## Arbitrary Argument Lists\n",
    "\n",
    "Python supports variable-length arguments:\n",
    "\n",
    "1. `*args`:\n",
    "   - Captures extra positional arguments as tuple\n",
    "   - Conventionally named `args` (any name valid)\n",
    "\n",
    "2. `**kwargs`:\n",
    "   - Captures extra keyword arguments as dict\n",
    "   - Conventionally named `kwargs`\n",
    "\n",
    "**Applications**:\n",
    "- Wrapper/decorator functions\n",
    "- Mathematical operations on variable inputs\n",
    "- Implementing function overloading patterns"
   ]
  },
  {
   "cell_type": "code",
   "execution_count": null,
   "id": "93083350-0c89-4a2d-a841-c571f91ba8f3",
   "metadata": {},
   "outputs": [],
   "source": [
    "def concatenate(*args, sep=\" \"):\n",
    "    return sep.join(args)\n",
    "\n",
    "print(concatenate(\"Hello\", \"World\"))            # Hello World\n",
    "print(concatenate(\"a\", \"b\", \"c\", sep=\"-\"))     # a-b-c"
   ]
  },
  {
   "cell_type": "markdown",
   "id": "f64142db-22c6-4ace-a7bb-4f6a7fb2d0a5",
   "metadata": {},
   "source": [
    "## Access Specifiers\n",
    "\n",
    "Python uses naming conventions for encapsulation:\n",
    "\n",
    "1. **Public**:\n",
    "   - No special syntax\n",
    "   - Accessible from anywhere\n",
    "\n",
    "2. **Protected** (`_prefix`):\n",
    "   - Convention only (not enforced)\n",
    "   - Signals \"internal use\" to developers\n",
    "\n",
    "3. **Private** (`__prefix`):\n",
    "   - Name mangling applied (`_Class__name`)\n",
    "   - Still technically accessible\n",
    "   - Stronger \"don't touch\" signal\n",
    "\n",
    "**Philosophy**:\n",
    "- \"We're all consenting adults\"\n",
    "- Documentation over enforcement"
   ]
  },
  {
   "cell_type": "code",
   "execution_count": null,
   "id": "186b9652-8151-435b-9557-ba32bdf2bdce",
   "metadata": {},
   "outputs": [],
   "source": [
    "class AccessDemo:\n",
    "    def __init__(self):\n",
    "        self.public = 1\n",
    "        self._protected = 2\n",
    "        self.__private = 3\n",
    "\n",
    "obj = AccessDemo()\n",
    "print(obj.public)        # 1\n",
    "print(obj._protected)    # 2 (accessible but convention says don't)\n",
    "# print(obj.__private)   # Error (mangled to _AccessDemo__private)"
   ]
  },
  {
   "cell_type": "markdown",
   "id": "83084b12-2f90-4b53-b080-5732a4aa686b",
   "metadata": {},
   "source": [
    "## Constructors\n",
    "\n",
    "Special methods for object initialization:\n",
    "\n",
    "1. `__init__()`:\n",
    "   - Instance initializer (not true constructor)\n",
    "   - First parameter `self` references new instance\n",
    "   - Can take additional parameters\n",
    "\n",
    "2. `__new__()`:\n",
    "   - Actual constructor (rarely overridden)\n",
    "   - Controls instance creation process\n",
    "\n",
    "**Key Points**:\n",
    "- `__init__` returns `None`\n",
    "- Superclass `__init__` must be called explicitly\n",
    "- Immutable types often override `__new__` instead"
   ]
  },
  {
   "cell_type": "code",
   "execution_count": null,
   "id": "45062b1a-2639-4741-b5d3-cebf243f4566",
   "metadata": {},
   "outputs": [],
   "source": [
    "class Person:\n",
    "    def __init__(self, name, age):\n",
    "        self.name = name\n",
    "        self.age = age\n",
    "        \n",
    "    def __str__(self):\n",
    "        return f\"{self.name} ({self.age})\"\n",
    "\n",
    "p = Person(\"Alice\", 25)\n",
    "print(p)  # Alice (25)"
   ]
  },
  {
   "cell_type": "markdown",
   "id": "8fb18606-0b9a-402f-a556-f883a6c5d179",
   "metadata": {},
   "source": [
    "## Method Overriding\n",
    "\n",
    "Polymorphism mechanism in inheritance:\n",
    "\n",
    "**Rules**:\n",
    "- Subclass defines method with same name\n",
    "- Completely replaces parent implementation\n",
    "- Can access parent method via `super()`\n",
    "\n",
    "**Use Cases**:\n",
    "- Specializing behavior\n",
    "- Extending functionality\n",
    "- Implementing abstract methods\n",
    "\n",
    "**vs Overloading**:\n",
    "- Python doesn't support traditional overloading\n",
    "- Achieved via default parameters or variable arguments"
   ]
  },
  {
   "cell_type": "code",
   "execution_count": null,
   "id": "889e0f5d-7c75-4f38-9fa5-4eb0bdeb29ea",
   "metadata": {},
   "outputs": [],
   "source": [
    "class Parent:\n",
    "    def show(self):\n",
    "        print(\"Parent method\")\n",
    "\n",
    "class Child(Parent):\n",
    "    def show(self):\n",
    "        print(\"Child method\")\n",
    "        super().show()  # Call parent method\n",
    "\n",
    "Child().show()\n",
    "# Output:\n",
    "# Child method\n",
    "# Parent method"
   ]
  },
  {
   "cell_type": "markdown",
   "id": "d6732729-20ca-40d2-b3db-947eb116f4c6",
   "metadata": {},
   "source": [
    "## Executing Modules as Scripts\n",
    "\n",
    "Dual-purpose module design pattern:\n",
    "\n",
    "**`__name__` Variable**:\n",
    "- `\"__main__\"` when run directly\n",
    "- Module name when imported\n",
    "\n",
    "**Applications**:\n",
    "- Module self-tests\n",
    "- Command-line interfaces\n",
    "- Preventing code execution on import\n",
    "\n",
    "**Best Practices**:\n",
    "- Put main code in `main()` function\n",
    "- Use `if __name__ == \"__main__\":` guard\n",
    "- Document script usage in docstring"
   ]
  },
  {
   "cell_type": "code",
   "execution_count": null,
   "id": "0c947265-2d4e-49dc-a3fc-02214f061030",
   "metadata": {},
   "outputs": [],
   "source": []
  },
  {
   "cell_type": "markdown",
   "id": "578197ef-35ef-4708-b44f-e15e20debcd2",
   "metadata": {},
   "source": [
    "## Importing * From a Package\n",
    "\n",
    "Controlling wildcard imports:\n",
    "\n",
    "**`__all__` Convention**:\n",
    "- List of names to export\n",
    "- Defined in `__init__.py`\n",
    "- Affects `from module import *`\n",
    "\n",
    "**Purpose**:\n",
    "- Document public API\n",
    "- Prevent private names from leaking\n",
    "- Manage namespace pollution\n",
    "\n",
    "**Alternatives**:\n",
    "- Explicit imports preferred in production code\n",
    "- Relative imports for intra-package references"
   ]
  },
  {
   "cell_type": "code",
   "execution_count": null,
   "id": "50e8fa28-67cf-4a14-a18b-8f91ded9b98f",
   "metadata": {},
   "outputs": [],
   "source": []
  },
  {
   "cell_type": "markdown",
   "id": "ac042f60-60db-40c0-96dc-c4f3bb360b38",
   "metadata": {},
   "source": [
    "## Intra-package References\n",
    "\n",
    "Importing within package hierarchies:\n",
    "\n",
    "**Syntax Options**:\n",
    "1. Absolute imports:\n",
    "   ```python\n",
    "   from package.submodule import name"
   ]
  },
  {
   "cell_type": "code",
   "execution_count": null,
   "id": "336e66d0-6652-420d-9592-fd92dbac1856",
   "metadata": {},
   "outputs": [],
   "source": [
    "# Within a package\n",
    "from . import sibling_module\n",
    "from .. import parent_package"
   ]
  },
  {
   "cell_type": "code",
   "execution_count": null,
   "id": "d24a76c5-71e1-40b0-a1ab-1cf8b5a93b68",
   "metadata": {},
   "outputs": [],
   "source": []
  }
 ],
 "metadata": {
  "kernelspec": {
   "display_name": "Python [conda env:base] *",
   "language": "python",
   "name": "conda-base-py"
  },
  "language_info": {
   "codemirror_mode": {
    "name": "ipython",
    "version": 3
   },
   "file_extension": ".py",
   "mimetype": "text/x-python",
   "name": "python",
   "nbconvert_exporter": "python",
   "pygments_lexer": "ipython3",
   "version": "3.11.7"
  }
 },
 "nbformat": 4,
 "nbformat_minor": 5
}
