{
 "cells": [
  {
   "cell_type": "markdown",
   "id": "2bb978ea-efe9-4117-8747-b34e55528e58",
   "metadata": {},
   "source": [
    "# Pandas Fundamentals\n",
    "\n",
    "## 1.1 What is Pandas?\n",
    "- Primary library for data analysis in Python\n",
    "- Built on top of NumPy\n",
    "- Provides two key data structures:\n",
    "  - `Series`: 1D labeled array\n",
    "  - `DataFrame`: 2D labeled tabular data\n",
    "\n",
    "## 1.2 Key Features\n",
    "- Handling missing data\n",
    "- Data alignment by labels\n",
    "- Powerful grouping/aggregation\n",
    "- Time series functionality\n",
    "- Easy I/O with CSV, Excel, SQL, etc."
   ]
  },
  {
   "cell_type": "code",
   "execution_count": 2,
   "id": "40f5fb2c-a26e-4807-9e46-156404ad7f4c",
   "metadata": {},
   "outputs": [
    {
     "name": "stdout",
     "output_type": "stream",
     "text": [
      "Pandas version: 2.2.3\n",
      "\n",
      "Simple Series:\n",
      " 0    1.0\n",
      "1    3.0\n",
      "2    5.0\n",
      "3    NaN\n",
      "4    6.0\n",
      "dtype: float64\n",
      "\n",
      "Sample DataFrame:\n",
      "      A          B    C  D      E    F\n",
      "0  1.0 2023-01-01  1.0  3   test  foo\n",
      "1  1.0 2023-01-01  1.0  3  train  foo\n",
      "2  1.0 2023-01-01  1.0  3   test  foo\n",
      "3  1.0 2023-01-01  1.0  3  train  foo\n"
     ]
    }
   ],
   "source": [
    "import pandas as pd\n",
    "import numpy as np  # Often used together\n",
    "\n",
    "print(\"Pandas version:\", pd.__version__)\n",
    "\n",
    "# Create basic Series\n",
    "s = pd.Series([1, 3, 5, np.nan, 6])\n",
    "print(\"\\nSimple Series:\\n\", s)\n",
    "\n",
    "# Create basic DataFrame\n",
    "df = pd.DataFrame({'A': 1.,\n",
    "                   'B': pd.Timestamp('20230101'),\n",
    "                   'C': pd.Series(1, index=list(range(4)), dtype='float32'),\n",
    "                   'D': np.array([3] * 4, dtype='int32'),\n",
    "                   'E': pd.Categorical([\"test\", \"train\", \"test\", \"train\"]),\n",
    "                   'F': 'foo'})\n",
    "print(\"\\nSample DataFrame:\\n\", df)"
   ]
  },
  {
   "cell_type": "markdown",
   "id": "31657f7b-3901-46e6-af03-e80a0ea79e27",
   "metadata": {},
   "source": [
    "## 2.1 Series\n",
    "- 1D array with axis labels\n",
    "- Homogeneous data type\n",
    "- Behaves like a NumPy array + labels\n",
    "\n",
    "## 2.2 DataFrame\n",
    "- 2D labeled structure (like spreadsheet)\n",
    "- Columns can be different types\n",
    "- Primary workhorse for data analysis\n",
    "\n",
    "## 2.3 Index Objects\n",
    "- Immutable array holding axis labels\n",
    "- Can be integers, strings, timestamps\n",
    "- Enables fast lookups and alignment"
   ]
  },
  {
   "cell_type": "code",
   "execution_count": 4,
   "id": "1f09f2c7-a640-4dad-aeee-2adae5465fa0",
   "metadata": {},
   "outputs": [
    {
     "name": "stdout",
     "output_type": "stream",
     "text": [
      "Custom Series:\n",
      " a    10\n",
      "b    20\n",
      "c    30\n",
      "d    40\n",
      "Name: my_series, dtype: int64\n",
      "\n",
      "DataFrame from dict:\n",
      "   Country  Population   GDP\n",
      "0     USA         331  25.3\n",
      "1   China        1441  17.7\n",
      "2   India        1393   3.2\n",
      "\n",
      "DataFrame index: RangeIndex(start=0, stop=3, step=1)\n",
      "DataFrame columns: Index(['Country', 'Population', 'GDP'], dtype='object')\n"
     ]
    }
   ],
   "source": [
    "# Series creation\n",
    "s = pd.Series([10, 20, 30, 40], \n",
    "               index=['a', 'b', 'c', 'd'],\n",
    "               name='my_series')\n",
    "print(\"Custom Series:\\n\", s)\n",
    "\n",
    "# DataFrame from dict\n",
    "data = {'Country': ['USA', 'China', 'India'],\n",
    "        'Population': [331, 1441, 1393],\n",
    "        'GDP': [25.3, 17.7, 3.2]}  # in trillions\n",
    "\n",
    "df = pd.DataFrame(data)\n",
    "print(\"\\nDataFrame from dict:\\n\", df)\n",
    "\n",
    "# Index attributes\n",
    "print(\"\\nDataFrame index:\", df.index)\n",
    "print(\"DataFrame columns:\", df.columns)"
   ]
  },
  {
   "cell_type": "markdown",
   "id": "5dded4fd-5fa1-4bba-a13f-51288bcffe61",
   "metadata": {},
   "source": [
    "## 3.1 Reading Data\n",
    "- `pd.read_csv()`: Most common method\n",
    "- `pd.read_excel()`: Excel files\n",
    "- `pd.read_sql()`: From databases\n",
    "- `pd.read_json()`: JSON data\n",
    "\n",
    "## 3.2 Writing Data\n",
    "- `to_csv()`\n",
    "- `to_excel()`\n",
    "- `to_sql()`\n",
    "- `to_json()`\n",
    "\n",
    "## 3.3 Common Parameters\n",
    "- `index_col`: Column to use as index\n",
    "- `parse_dates`: Convert to datetime\n",
    "- `na_values`: Strings to recognize as NA"
   ]
  },
  {
   "cell_type": "code",
   "execution_count": 6,
   "id": "8a652db1-156b-4012-8b5e-e2831e89855d",
   "metadata": {},
   "outputs": [
    {
     "name": "stdout",
     "output_type": "stream",
     "text": [
      "Loaded DataFrame:\n",
      "         Date Product  Sales\n",
      "0 2023-01-01       A    100\n",
      "1 2023-01-02       B    200\n",
      "2 2023-01-03       A    150\n"
     ]
    }
   ],
   "source": [
    "# Create sample data\n",
    "df = pd.DataFrame({'Date': pd.date_range('20230101', periods=3),\n",
    "                   'Product': ['A', 'B', 'A'],\n",
    "                   'Sales': [100, 200, 150]})\n",
    "\n",
    "# Save to CSV\n",
    "df.to_csv(r'data/sales_data.csv', index=False)\n",
    "\n",
    "# Read back\n",
    "loaded = pd.read_csv(r'data/sales_data.csv', parse_dates=['Date'])\n",
    "print(\"Loaded DataFrame:\\n\", loaded)\n",
    "\n",
    "# Excel example (requires openpyxl)\n",
    "# df.to_excel('sales.xlsx', sheet_name='Data')\n",
    "# pd.read_excel('sales.xlsx', sheet_name='Data')"
   ]
  },
  {
   "cell_type": "markdown",
   "id": "0feedd39-af72-4232-bc90-340b60e364a8",
   "metadata": {},
   "source": [
    "## 4.1 Basic Inspection\n",
    "- `head()`/`tail()`: View first/last rows\n",
    "- `info()`: Structure overview\n",
    "- `describe()`: Statistical summary\n",
    "- `shape`: (rows, columns) tuple\n",
    "\n",
    "## 4.2 Data Types\n",
    "- `dtypes`: Column data types\n",
    "- `select_dtypes()`: Filter by type\n",
    "- `astype()`: Type conversion\n",
    "\n",
    "## 4.3 Missing Data\n",
    "- `isna()`: Detect missing values\n",
    "- `dropna()`: Remove missing\n",
    "- `fillna()`: Fill missing values"
   ]
  },
  {
   "cell_type": "code",
   "execution_count": 8,
   "id": "0f6074f2-f0eb-4aba-a620-6646428e5d9c",
   "metadata": {},
   "outputs": [
    {
     "name": "stdout",
     "output_type": "stream",
     "text": [
      "Data Overview:\n",
      "<class 'pandas.core.frame.DataFrame'>\n",
      "RangeIndex: 4 entries, 0 to 3\n",
      "Data columns (total 3 columns):\n",
      " #   Column  Non-Null Count  Dtype  \n",
      "---  ------  --------------  -----  \n",
      " 0   A       3 non-null      float64\n",
      " 1   B       3 non-null      object \n",
      " 2   C       3 non-null      object \n",
      "dtypes: float64(1), object(2)\n",
      "memory usage: 228.0+ bytes\n",
      "None\n",
      "\n",
      "Statistics:\n",
      "                A    B     C\n",
      "count   3.000000    3     3\n",
      "unique       NaN    3     2\n",
      "top          NaN    x  True\n",
      "freq         NaN    1     2\n",
      "mean    2.333333  NaN   NaN\n",
      "std     1.527525  NaN   NaN\n",
      "min     1.000000  NaN   NaN\n",
      "25%     1.500000  NaN   NaN\n",
      "50%     2.000000  NaN   NaN\n",
      "75%     3.000000  NaN   NaN\n",
      "max     4.000000  NaN   NaN\n",
      "\n",
      "Missing values:\n",
      " A    1\n",
      "B    1\n",
      "C    1\n",
      "dtype: int64\n",
      "\n",
      "After filling:\n",
      "           A        B      C\n",
      "0  1.000000        x   True\n",
      "1  2.000000  UNKNOWN  False\n",
      "2  2.333333        y   True\n",
      "3  4.000000        z  False\n"
     ]
    },
    {
     "name": "stderr",
     "output_type": "stream",
     "text": [
      "C:\\Users\\ASUS\\AppData\\Local\\Temp\\ipykernel_24000\\4092386125.py:14: FutureWarning: Downcasting object dtype arrays on .fillna, .ffill, .bfill is deprecated and will change in a future version. Call result.infer_objects(copy=False) instead. To opt-in to the future behavior, set `pd.set_option('future.no_silent_downcasting', True)`\n",
      "  filled = df.fillna({'A': df['A'].mean(),\n"
     ]
    }
   ],
   "source": [
    "# Create sample data with missing values\n",
    "df = pd.DataFrame({'A': [1, 2, None, 4],\n",
    "                   'B': ['x', None, 'y', 'z'],\n",
    "                   'C': [True, False, True, None]})\n",
    "\n",
    "print(\"Data Overview:\")\n",
    "print(df.info())\n",
    "\n",
    "print(\"\\nStatistics:\\n\", df.describe(include='all'))\n",
    "\n",
    "print(\"\\nMissing values:\\n\", df.isna().sum())\n",
    "\n",
    "# Handle missing data\n",
    "filled = df.fillna({'A': df['A'].mean(), \n",
    "                    'B': 'UNKNOWN',\n",
    "                    'C': False})\n",
    "print(\"\\nAfter filling:\\n\", filled)"
   ]
  },
  {
   "cell_type": "markdown",
   "id": "77e1cadb-6a83-4bc3-a838-a8e0eadebacb",
   "metadata": {},
   "source": [
    "## 5.1 Selection Methods\n",
    "- Column access: `df['col']` or `df.col`\n",
    "- Row selection: `loc[]` (label-based) / `iloc[]` (position-based)\n",
    "- Boolean indexing: `df[df['col'] > value]`\n",
    "\n",
    "## 5.2 Setting Values\n",
    "- Direct assignment: `df['new_col'] = values`\n",
    "- `loc[]/iloc[]` assignment\n",
    "- `where()`: Conditional replacement\n",
    "\n",
    "## 5.3 Multi-indexing\n",
    "- Hierarchical indexing\n",
    "- `set_index()` to create\n",
    "- `reset_index()` to flatten"
   ]
  },
  {
   "cell_type": "code",
   "execution_count": 10,
   "id": "c0fcc43c-23ff-46e2-abe3-09a4b873d22d",
   "metadata": {},
   "outputs": [
    {
     "name": "stdout",
     "output_type": "stream",
     "text": [
      "Product column:\n",
      " 0    A\n",
      "1    B\n",
      "2    A\n",
      "3    C\n",
      "4    B\n",
      "Name: Product, dtype: object\n",
      "\n",
      "First 2 rows:\n",
      "         Date Product  Sales\n",
      "0 2023-01-01       A    100\n",
      "1 2023-01-02       B    200\n",
      "\n",
      "Date > Jan 3:\n",
      "         Date Product  Sales\n",
      "3 2023-01-04       C    300\n",
      "4 2023-01-05       B    250\n",
      "\n",
      "MultiIndex DataFrame:\n",
      "                     Sales\n",
      "Date       Product       \n",
      "2023-01-01 A          100\n",
      "2023-01-02 B          200\n",
      "2023-01-03 A          150\n",
      "2023-01-04 C          300\n",
      "2023-01-05 B          250\n",
      "\n",
      "Cross-section:\n",
      "             Sales\n",
      "Date             \n",
      "2023-01-01    100\n",
      "2023-01-03    150\n"
     ]
    }
   ],
   "source": [
    "df = pd.DataFrame({'Date': pd.date_range('20230101', periods=5),\n",
    "                   'Product': ['A', 'B', 'A', 'C', 'B'],\n",
    "                   'Sales': [100, 200, 150, 300, 250]})\n",
    "\n",
    "# Column selection\n",
    "print(\"Product column:\\n\", df['Product'])\n",
    "\n",
    "# Row selection\n",
    "print(\"\\nFirst 2 rows:\\n\", df.iloc[:2])\n",
    "print(\"\\nDate > Jan 3:\\n\", df[df['Date'] > '2023-01-03'])\n",
    "\n",
    "# Multi-index\n",
    "multi_df = df.set_index(['Date', 'Product'])\n",
    "print(\"\\nMultiIndex DataFrame:\\n\", multi_df)\n",
    "print(\"\\nCross-section:\\n\", multi_df.xs('A', level='Product'))"
   ]
  },
  {
   "cell_type": "markdown",
   "id": "8e3a41b5-9ce5-473b-a203-0226150b1e90",
   "metadata": {},
   "source": [
    "## 6.1 Handling Duplicates\n",
    "- `duplicated()`: Identify duplicates\n",
    "- `drop_duplicates()`: Remove duplicates\n",
    "\n",
    "## 6.2 Value Replacement\n",
    "- `replace()`: Specific value replacement\n",
    "- `map()`: Element-wise transformation\n",
    "- `apply()`: Custom functions\n",
    "\n",
    "## 6.3 String Operations\n",
    "- Access via `str` attribute\n",
    "- Contains methods like `upper()`, `contains()`\n",
    "- Regular expression support"
   ]
  },
  {
   "cell_type": "code",
   "execution_count": 12,
   "id": "3b1e4f3f-bb7f-4fd1-b49f-47e5dc7e9b05",
   "metadata": {},
   "outputs": [
    {
     "name": "stdout",
     "output_type": "stream",
     "text": [
      "Duplicates:\n",
      " 0    False\n",
      "1    False\n",
      "2     True\n",
      "3    False\n",
      "4    False\n",
      "dtype: bool\n",
      "\n",
      "After dropping:\n",
      "    A  B\n",
      "0  1  x\n",
      "1  2  y\n",
      "3  3  z\n",
      "4  2  x\n",
      "\n",
      "Text operations:\n",
      "      Text   Upper  Length\n",
      "0   Hello   HELLO       5\n",
      "1  pandas  PANDAS       6\n",
      "2   WORLD   WORLD       5\n",
      "\n",
      "Percentage cleaning:\n",
      "   Values  Clean\n",
      "0    10%    0.1\n",
      "1    20%    0.2\n",
      "2    30%    0.3\n"
     ]
    }
   ],
   "source": [
    "# Duplicate data\n",
    "dup_df = pd.DataFrame({'A': [1, 2, 2, 3, 2],\n",
    "                       'B': ['x', 'y', 'y', 'z', 'x']})\n",
    "\n",
    "print(\"Duplicates:\\n\", dup_df.duplicated())\n",
    "print(\"\\nAfter dropping:\\n\", dup_df.drop_duplicates())\n",
    "\n",
    "# String operations\n",
    "text_df = pd.DataFrame({'Text': ['Hello', 'pandas', 'WORLD']})\n",
    "text_df['Upper'] = text_df['Text'].str.upper()\n",
    "text_df['Length'] = text_df['Text'].str.len()\n",
    "print(\"\\nText operations:\\n\", text_df)\n",
    "\n",
    "# Custom cleaning\n",
    "df = pd.DataFrame({'Values': ['10%', '20%', '30%']})\n",
    "df['Clean'] = df['Values'].str.replace('%', '').astype(float) / 100\n",
    "print(\"\\nPercentage cleaning:\\n\", df)"
   ]
  },
  {
   "cell_type": "markdown",
   "id": "a80ee554-7c24-40de-ad2b-9d50572dd821",
   "metadata": {},
   "source": [
    "## 7.1 GroupBy Operations\n",
    "\n",
    "### Key Concepts:\n",
    "- Split-Apply-Combine pattern\n",
    "- Groups data using one or more keys\n",
    "- Enables powerful aggregations\n",
    "\n",
    "### Common Methods:\n",
    "- `groupby()`: Create groups\n",
    "- `agg()`: Multiple aggregations\n",
    "- `transform()`: Group-wise transformations\n",
    "- `filter()`: Group filtering\n",
    "\n",
    "## 7.2 Pivot Tables\n",
    "- Reshape data for analysis\n",
    "- Similar to Excel pivot tables\n",
    "- `pivot_table()` function"
   ]
  },
  {
   "cell_type": "code",
   "execution_count": 14,
   "id": "fb14973b-15a9-4ba4-a395-ad45bb9ffa98",
   "metadata": {},
   "outputs": [
    {
     "name": "stdout",
     "output_type": "stream",
     "text": [
      "Sum by region:\n",
      "        Product  Sales\n",
      "Region               \n",
      "East        BB    650\n",
      "North       AA    250\n",
      "South       BA    500\n",
      "\n",
      "Multi-aggregation:\n",
      "         Sales                  \n",
      "          sum        mean count\n",
      "Product                        \n",
      "A         550  183.333333     3\n",
      "B         850  283.333333     3\n",
      "\n",
      "Pivot table:\n",
      " Product      A      B\n",
      "Region               \n",
      "East       NaN  650.0\n",
      "North    250.0    NaN\n",
      "South    300.0  200.0\n"
     ]
    },
    {
     "name": "stderr",
     "output_type": "stream",
     "text": [
      "C:\\Users\\ASUS\\AppData\\Local\\Temp\\ipykernel_24000\\1721321225.py:17: FutureWarning: The provided callable <function sum at 0x0000017E4C8F54E0> is currently using DataFrameGroupBy.sum. In a future version of pandas, the provided callable will be used directly. To keep current behavior pass the string \"sum\" instead.\n",
      "  pivot = pd.pivot_table(sales,\n"
     ]
    }
   ],
   "source": [
    "# Sample sales data\n",
    "sales = pd.DataFrame({\n",
    "    'Region': ['North', 'South', 'North', 'South', 'East', 'East'],\n",
    "    'Product': ['A', 'B', 'A', 'A', 'B', 'B'],\n",
    "    'Sales': [100, 200, 150, 300, 250, 400]\n",
    "})\n",
    "\n",
    "# GroupBy basics\n",
    "grouped = sales.groupby('Region')\n",
    "print(\"Sum by region:\\n\", grouped.sum())\n",
    "\n",
    "# Multiple aggregations\n",
    "print(\"\\nMulti-aggregation:\\n\", \n",
    "      sales.groupby('Product').agg({'Sales': ['sum', 'mean', 'count']}))\n",
    "\n",
    "# Pivot table\n",
    "pivot = pd.pivot_table(sales, \n",
    "                       values='Sales', \n",
    "                       index='Region', \n",
    "                       columns='Product', \n",
    "                       aggfunc=np.sum)\n",
    "print(\"\\nPivot table:\\n\", pivot)"
   ]
  },
  {
   "cell_type": "markdown",
   "id": "56a34dfe-690b-4c82-bdaa-7ff08fc54634",
   "metadata": {},
   "source": [
    "## 8.1 Time Handling\n",
    "\n",
    "### Key Features:\n",
    "- `to_datetime()`: Convert to datetime\n",
    "- `Timestamp`: Scalar type\n",
    "- `DatetimeIndex`: Index for time series\n",
    "\n",
    "### Operations:\n",
    "- Time-based indexing\n",
    "- Resampling (`resample()`)\n",
    "- Shifting (`shift()`)\n",
    "- Rolling windows (`rolling()`)\n",
    "\n",
    "## 8.2 Date Ranges\n",
    "- `date_range()`: Generate time sequences\n",
    "- `period_range()`: Period sequences\n",
    "- `timedelta_range()`: Time difference sequences"
   ]
  },
  {
   "cell_type": "code",
   "execution_count": 16,
   "id": "5d089b39-253c-4cf2-9c5c-41484aa63b76",
   "metadata": {},
   "outputs": [
    {
     "name": "stdout",
     "output_type": "stream",
     "text": [
      "Time series:\n",
      " 2023-01-31    100\n",
      "2023-02-28    120\n",
      "2023-03-31     90\n",
      "2023-04-30    150\n",
      "2023-05-31    200\n",
      "2023-06-30    180\n",
      "Freq: ME, dtype: int64\n",
      "\n",
      "Q1 2023 data:\n",
      " 2023-01-31    100\n",
      "2023-02-28    120\n",
      "2023-03-31     90\n",
      "Freq: ME, dtype: int64\n",
      "\n",
      "Quarterly averages:\n",
      " 2023-03-31    103.333333\n",
      "2023-06-30    176.666667\n",
      "Freq: QE-DEC, dtype: float64\n",
      "\n",
      "3-month rolling:\n",
      " 2023-01-31      NaN\n",
      "2023-02-28    110.0\n",
      "2023-03-31    105.0\n",
      "2023-04-30    120.0\n",
      "2023-05-31    175.0\n",
      "2023-06-30    190.0\n",
      "Freq: ME, dtype: float64\n",
      "\n",
      "Parsed dates:\n",
      " date     datetime64[ns]\n",
      "value             int64\n",
      "dtype: object\n"
     ]
    },
    {
     "name": "stderr",
     "output_type": "stream",
     "text": [
      "C:\\Users\\ASUS\\AppData\\Local\\Temp\\ipykernel_24000\\2136348937.py:2: FutureWarning: 'M' is deprecated and will be removed in a future version, please use 'ME' instead.\n",
      "  dates = pd.date_range('2023-01-01', periods=6, freq='M')\n",
      "C:\\Users\\ASUS\\AppData\\Local\\Temp\\ipykernel_24000\\2136348937.py:10: FutureWarning: 'Q' is deprecated and will be removed in a future version, please use 'QE' instead.\n",
      "  print(\"\\nQuarterly averages:\\n\", ts.resample('Q').mean())\n"
     ]
    }
   ],
   "source": [
    "# Create time series\n",
    "dates = pd.date_range('2023-01-01', periods=6, freq='M')\n",
    "ts = pd.Series([100, 120, 90, 150, 200, 180], index=dates)\n",
    "print(\"Time series:\\n\", ts)\n",
    "\n",
    "# Time-based selection\n",
    "print(\"\\nQ1 2023 data:\\n\", ts['2023-01':'2023-03'])\n",
    "\n",
    "# Resampling\n",
    "print(\"\\nQuarterly averages:\\n\", ts.resample('Q').mean())\n",
    "\n",
    "# Rolling windows\n",
    "print(\"\\n3-month rolling:\\n\", ts.rolling(window=2).mean())\n",
    "\n",
    "# Date parsing\n",
    "df = pd.DataFrame({'date': ['2023-01-01', '2023-02-01', '2023-03-01'],\n",
    "                   'value': [10, 20, 30]})\n",
    "df['date'] = pd.to_datetime(df['date'])\n",
    "print(\"\\nParsed dates:\\n\", df.dtypes)"
   ]
  },
  {
   "cell_type": "markdown",
   "id": "3431ae61-e52f-4646-b901-877c78ce6784",
   "metadata": {},
   "source": [
    "## 9.1 Merge/Join Operations\n",
    "\n",
    "### Types of Joins:\n",
    "- `inner`: Only matching keys\n",
    "- `outer`: All keys\n",
    "- `left`: All left keys\n",
    "- `right`: All right keys\n",
    "\n",
    "### Key Functions:\n",
    "- `merge()`: Database-style joins\n",
    "- `join()`: Convenience method\n",
    "- `concat()`: Stack DataFrames\n",
    "\n",
    "## 9.2 Comparison with SQL\n",
    "- Similar to SQL JOIN operations\n",
    "- `on` parameter = JOIN key\n",
    "- `how` parameter = JOIN type"
   ]
  },
  {
   "cell_type": "code",
   "execution_count": 18,
   "id": "caa86cb3-614f-4adf-b104-4ec693e6f428",
   "metadata": {},
   "outputs": [
    {
     "name": "stdout",
     "output_type": "stream",
     "text": [
      "Inner join:\n",
      "    id    name  dept_id    dept_name\n",
      "0   1  Ruthra      101           HR\n",
      "1   2     Ram      102  Engineering\n",
      "\n",
      "Left join:\n",
      "    id    name  dept_id    dept_name\n",
      "0   1  Ruthra      101           HR\n",
      "1   2     Ram      102  Engineering\n",
      "2   3     Sam      103          NaN\n",
      "\n",
      "Concatenated:\n",
      "     A   B\n",
      "0  A0  B0\n",
      "1  A1  B1\n",
      "2  A2  B2\n",
      "3  A3  B3\n"
     ]
    }
   ],
   "source": [
    "# Sample DataFrames\n",
    "employees = pd.DataFrame({\n",
    "    'id': [1, 2, 3],\n",
    "    'name': ['Ruthra', 'Ram', 'Sam'],\n",
    "    'dept_id': [101, 102, 103]\n",
    "})\n",
    "\n",
    "departments = pd.DataFrame({\n",
    "    'dept_id': [101, 102, 104],\n",
    "    'dept_name': ['HR', 'Engineering', 'Marketing']\n",
    "})\n",
    "\n",
    "# Inner join\n",
    "merged = pd.merge(employees, departments, on='dept_id', how='inner')\n",
    "print(\"Inner join:\\n\", merged)\n",
    "\n",
    "# Left join\n",
    "left_merged = pd.merge(employees, departments, on='dept_id', how='left')\n",
    "print(\"\\nLeft join:\\n\", left_merged)\n",
    "\n",
    "# Concatenation\n",
    "df1 = pd.DataFrame({'A': ['A0', 'A1'], 'B': ['B0', 'B1']})\n",
    "df2 = pd.DataFrame({'A': ['A2', 'A3'], 'B': ['B2', 'B3']})\n",
    "combined = pd.concat([df1, df2], ignore_index=True)\n",
    "print(\"\\nConcatenated:\\n\", combined)"
   ]
  },
  {
   "cell_type": "markdown",
   "id": "21ab2ed9-6187-4307-892b-d2c8d7d47b99",
   "metadata": {},
   "source": [
    "## 10.1 Efficiency Tips\n",
    "\n",
    "### Best Practices:\n",
    "1. Use vectorized operations\n",
    "2. Avoid iterating with `iterrows()`\n",
    "3. Use proper data types\n",
    "4. Use categoricals for low-cardinality strings\n",
    "\n",
    "### Methods:\n",
    "- `eval()`: Expression evaluation\n",
    "- `query()`: Fast filtering\n",
    "- `memory_usage()`: Check memory\n",
    "\n",
    "## 10.2 When to Use\n",
    "- Critical for large datasets (>1M rows)\n",
    "- Essential for production pipelines\n",
    "- Before optimizing, profile first!"
   ]
  },
  {
   "cell_type": "code",
   "execution_count": 20,
   "id": "85df38cb-af96-44fa-b9d1-0ed6cb83917a",
   "metadata": {},
   "outputs": [
    {
     "name": "stdout",
     "output_type": "stream",
     "text": [
      "3.01 ms ± 104 µs per loop (mean ± std. dev. of 7 runs, 100 loops each)\n",
      "26.4 s ± 397 ms per loop (mean ± std. dev. of 7 runs, 1 loop each)\n",
      "12.7 ms ± 387 µs per loop (mean ± std. dev. of 7 runs, 100 loops each)\n",
      "\n",
      "Memory usage (MB):\n",
      " Index    0.000126\n",
      "A        7.629395\n",
      "B        7.629395\n",
      "C        7.629395\n",
      "D        7.629395\n",
      "E        7.629395\n",
      "dtype: float64\n",
      "\n",
      "Before categorical:\n",
      " Index      132\n",
      "color    24000\n",
      "dtype: int64\n",
      "After categorical:\n",
      " Index     132\n",
      "color    3124\n",
      "dtype: int64\n"
     ]
    }
   ],
   "source": [
    "# Create large DataFrame\n",
    "big_df = pd.DataFrame(np.random.rand(1_000_000, 5),\n",
    "                       columns=list('ABCDE'))\n",
    "\n",
    "# Vectorized vs iteration\n",
    "%timeit big_df['A'] + big_df['B']  # Vectorized\n",
    "\n",
    "# Slow iteration example\n",
    "def slow_add():\n",
    "    result = []\n",
    "    for _, row in big_df.iterrows():\n",
    "        result.append(row['A'] + row['B'])\n",
    "    return result\n",
    "%timeit slow_add()  # Much slower\n",
    "\n",
    "# Efficient filtering\n",
    "%timeit big_df.query('A > 0.5 & B < 0.5')\n",
    "\n",
    "# Memory optimization\n",
    "print(\"\\nMemory usage (MB):\\n\", \n",
    "      big_df.memory_usage(deep=True) / 1024**2)\n",
    "\n",
    "# Categorical example\n",
    "df = pd.DataFrame({'color': ['red', 'blue', 'red'] * 1000})\n",
    "print(\"\\nBefore categorical:\\n\", df.memory_usage())\n",
    "df['color'] = df['color'].astype('category')\n",
    "print(\"After categorical:\\n\", df.memory_usage())"
   ]
  },
  {
   "cell_type": "markdown",
   "id": "6e15d042-d159-4fbb-9f55-17219ac8c387",
   "metadata": {},
   "source": [
    "## 11.1 Plotting with Pandas\n",
    "\n",
    "### Integration:\n",
    "- Built on Matplotlib\n",
    "- Simple `.plot()` method\n",
    "- Works with Series and DataFrames\n",
    "\n",
    "### Common Plot Types:\n",
    "- Line: `plot.line()`\n",
    "- Bar: `plot.bar()`\n",
    "- Histogram: `plot.hist()`\n",
    "- Scatter: `plot.scatter()`\n",
    "- Box: `plot.box()`\n",
    "\n",
    "## 11.2 Customization\n",
    "- `title`: Plot title\n",
    "- `xlabel`/`ylabel`: Axis labels\n",
    "- `figsize`: Figure dimensions\n",
    "- `color`: Color customization"
   ]
  },
  {
   "cell_type": "code",
   "execution_count": 22,
   "id": "9ce31e51-00cf-4b1a-a124-f72bf88bc951",
   "metadata": {},
   "outputs": [
    {
     "data": {
      "image/png": "[encoded data removed]",
      "text/plain": [
       "<Figure size 1000x400 with 1 Axes>"
      ]
     },
     "metadata": {},
     "output_type": "display_data"
    },
    {
     "data": {
      "image/png": "[encoded data removed]",
      "text/plain": [
       "<Figure size 640x480 with 1 Axes>"
      ]
     },
     "metadata": {},
     "output_type": "display_data"
    },
    {
     "data": {
      "image/png": "[encoded data removed]",
      "text/plain": [
       "<Figure size 640x480 with 2 Axes>"
      ]
     },
     "metadata": {},
     "output_type": "display_data"
    }
   ],
   "source": [
    "import matplotlib.pyplot as plt\n",
    "\n",
    "# Sample data\n",
    "ts = pd.Series(np.random.randn(1000),\n",
    "               index=pd.date_range('2023-01-01', periods=1000))\n",
    "ts = ts.cumsum()\n",
    "\n",
    "# Basic plotting\n",
    "ts.plot(title='Random Walk', \n",
    "        figsize=(10, 4),\n",
    "        color='green')\n",
    "plt.show()\n",
    "\n",
    "# DataFrame plotting\n",
    "df = pd.DataFrame(np.random.rand(10, 4), \n",
    "                  columns=['A', 'B', 'C', 'D'])\n",
    "df.plot.bar(stacked=True)\n",
    "plt.show()\n",
    "\n",
    "# Scatter plot\n",
    "df.plot.scatter(x='A', y='B', c='C', colormap='viridis')\n",
    "plt.show()"
   ]
  },
  {
   "cell_type": "code",
   "execution_count": null,
   "id": "ac1bb2c0-4b03-4c72-a6a6-5bc0bc9e06de",
   "metadata": {},
   "outputs": [],
   "source": []
  },
  {
   "cell_type": "code",
   "execution_count": null,
   "id": "fbd85f84-c03d-4342-ae2b-3129cbbf573e",
   "metadata": {},
   "outputs": [],
   "source": []
  }
 ],
 "metadata": {
  "kernelspec": {
   "display_name": "Python [conda env:base] *",
   "language": "python",
   "name": "conda-base-py"
  },
  "language_info": {
   "codemirror_mode": {
    "name": "ipython",
    "version": 3
   },
   "file_extension": ".py",
   "mimetype": "text/x-python",
   "name": "python",
   "nbconvert_exporter": "python",
   "pygments_lexer": "ipython3",
   "version": "3.11.7"
  }
 },
 "nbformat": 4,
 "nbformat_minor": 5
}
