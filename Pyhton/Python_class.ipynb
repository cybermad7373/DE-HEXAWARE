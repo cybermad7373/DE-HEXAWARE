{
 "cells": [
  {
   "cell_type": "code",
   "execution_count": 1,
   "id": "1bc6b645-95aa-4983-b1c2-f71428fee840",
   "metadata": {},
   "outputs": [
    {
     "name": "stdout",
     "output_type": "stream",
     "text": [
      "[68.18, 69.44, 71.42, 72.5, 72.86, 72.14, 71.24000000000001, 70.16, 69.62, 68.18]\n"
     ]
    }
   ],
   "source": [
    "# Example of list comprehension for temperature conversion\n",
    "cvalues = [20.1, 20.8, 21.9, 22.5, 22.7, 22.3, 21.8, 21.2, 20.9, 20.1]\n",
    "fvalues = [x * 9/5 + 32 for x in cvalues]\n",
    "print(fvalues)"
   ]
  },
  {
   "cell_type": "code",
   "execution_count": null,
   "id": "222e532b-bd7c-4ada-bc06-66a3d4a3e3b9",
   "metadata": {},
   "outputs": [],
   "source": [
    "import json\n",
    "\n",
    "with open(r'data/data.json') as json_file:\n",
    "    data = json.load(json_file)\n",
    "    print(\"Type:\", type(data))\n",
    "    # Access nested data\n",
    "    print(data['people1'][0])\n",
    "    # Iterate through nested dictionary\n",
    "    for i in data['people1']:\n",
    "        print(\"Name:\", i['name'])\n",
    "        print(\"Website:\", i['website'])\n",
    "        print(\"From:\", i['from'])"
   ]
  },
  {
   "cell_type": "code",
   "execution_count": 7,
   "id": "53074d4e-5fea-4dc2-84be-027f52337ca1",
   "metadata": {},
   "outputs": [
    {
     "name": "stdout",
     "output_type": "stream",
     "text": [
      "{'id': 121, 'name': 'Naveen', 'course': 'MERN Stack'}\n",
      "121\n"
     ]
    }
   ],
   "source": [
    "import json\n",
    "\n",
    "json_string = '{ \"id\": 121, \"name\": \"Naveen\", \"course\": \"MERN Stack\"}'\n",
    "student_info = json.loads(json_string)\n",
    "print(student_info)\n",
    "print(student_info['id'])"
   ]
  },
  {
   "cell_type": "code",
   "execution_count": 9,
   "id": "cbdeb48e-8b9b-4e6e-b330-d0875acadaff",
   "metadata": {},
   "outputs": [
    {
     "name": "stdout",
     "output_type": "stream",
     "text": [
      "{\n",
      "    \"id\": \"04\",\n",
      "    \"name\": \"sunil\",\n",
      "    \"department\": \"HR\"\n",
      "}\n"
     ]
    }
   ],
   "source": [
    "import json\n",
    "\n",
    "dictionary = {\n",
    "    \"id\": \"04\",\n",
    "    \"name\": \"sunil\",\n",
    "    \"department\": \"HR\"\n",
    "}\n",
    "json_object = json.dumps(dictionary, indent=4)\n",
    "print(json_object)"
   ]
  },
  {
   "cell_type": "code",
   "execution_count": null,
   "id": "dcc548ff-25ff-4200-ba99-c8b416cadb3a",
   "metadata": {},
   "outputs": [],
   "source": []
  }
 ],
 "metadata": {
  "kernelspec": {
   "display_name": "Python [conda env:base] *",
   "language": "python",
   "name": "conda-base-py"
  },
  "language_info": {
   "codemirror_mode": {
    "name": "ipython",
    "version": 3
   },
   "file_extension": ".py",
   "mimetype": "text/x-python",
   "name": "python",
   "nbconvert_exporter": "python",
   "pygments_lexer": "ipython3",
   "version": "3.11.7"
  }
 },
 "nbformat": 4,
 "nbformat_minor": 5
}
