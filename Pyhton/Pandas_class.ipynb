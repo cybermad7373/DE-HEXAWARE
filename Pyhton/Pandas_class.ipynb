{
 "cells": [
  {
   "cell_type": "code",
   "execution_count": 1,
   "id": "a3e845c5-2c71-4b4b-b46b-c06808acdd12",
   "metadata": {},
   "outputs": [
    {
     "name": "stdout",
     "output_type": "stream",
     "text": [
      "Empty Series: Series([], dtype: object)\n",
      "Series from array:\n",
      " 0    H\n",
      "1    e\n",
      "2    x\n",
      "3    a\n",
      "4    a\n",
      "dtype: object\n"
     ]
    }
   ],
   "source": [
    "import pandas as pd\n",
    "import numpy as np\n",
    "\n",
    "# Empty Series\n",
    "ser = pd.Series()\n",
    "print(\"Empty Series:\", ser)\n",
    "\n",
    "# Series from array\n",
    "data = np.array(['H', 'e', 'x', 'a', 'a'])\n",
    "ser = pd.Series(data)\n",
    "print(\"Series from array:\\n\", ser)"
   ]
  },
  {
   "cell_type": "code",
   "execution_count": 3,
   "id": "a34d895c-6e80-47c7-90a1-2c974cb4daac",
   "metadata": {},
   "outputs": [
    {
     "name": "stdout",
     "output_type": "stream",
     "text": [
      "  First Name Middle Name Last Name  Age Gender  Salary\n",
      "0      James                 Smith   30      M   60000\n",
      "1    Michael        Rose             50      M   70000\n",
      "2     Robert              Williams   42         400000\n",
      "3      Maria        Anne     Jones   38      F  500000\n",
      "4        Jen        Mary     Brown   45   None       0\n"
     ]
    }
   ],
   "source": [
    "# From a list of lists\n",
    "data = [\n",
    "    [\"James\", \"\", \"Smith\", 30, \"M\", 60000],\n",
    "    [\"Michael\", \"Rose\", \"\", 50, \"M\", 70000],\n",
    "    [\"Robert\", \"\", \"Williams\", 42, \"\", 400000],\n",
    "    [\"Maria\", \"Anne\", \"Jones\", 38, \"F\", 500000],\n",
    "    [\"Jen\", \"Mary\", \"Brown\", 45, None, 0]\n",
    "]\n",
    "columns = ['First Name', 'Middle Name', 'Last Name', 'Age', 'Gender', 'Salary']\n",
    "df = pd.DataFrame(data=data, columns=columns)\n",
    "print(df)"
   ]
  },
  {
   "cell_type": "code",
   "execution_count": 5,
   "id": "a5593a21-8679-485b-bc77-31f09f2400d1",
   "metadata": {},
   "outputs": [
    {
     "name": "stdout",
     "output_type": "stream",
     "text": [
      "Column-wise counts:\n",
      " Name         6\n",
      "Physics      5\n",
      "Chemistry    5\n",
      "Math         4\n",
      "dtype: int64\n",
      "Row-wise counts:\n",
      " 0    4\n",
      "1    4\n",
      "2    3\n",
      "3    3\n",
      "4    2\n",
      "5    4\n",
      "dtype: int64\n",
      "Null values per column:\n",
      " Name         0\n",
      "Physics      1\n",
      "Chemistry    1\n",
      "Math         2\n",
      "dtype: int64\n",
      "Total null values: 4\n",
      "Students with Physics > 11:\n",
      "       Name  Physics  Chemistry  Math\n",
      "1  Vaibhav     12.0       14.0  10.0\n",
      "2    Vimal     13.0        NaN  15.0\n",
      "3  Sourabh     14.0       18.0   NaN\n"
     ]
    }
   ],
   "source": [
    "NaN = np.nan\n",
    "df = pd.DataFrame({\n",
    "    'Name': ['Shobhit', 'Vaibhav', 'Vimal', 'Sourabh', 'Rahul', 'Shobhit'],\n",
    "    'Physics': [11, 12, 13, 14, NaN, 11],\n",
    "    'Chemistry': [10, 14, NaN, 18, 20, 10],\n",
    "    'Math': [13, 10, 15, NaN, NaN, 13]\n",
    "})\n",
    "\n",
    "# Count non-null values\n",
    "print(\"Column-wise counts:\\n\", df.count())\n",
    "print(\"Row-wise counts:\\n\", df.count(axis=1))\n",
    "\n",
    "# Null value summary\n",
    "print(\"Null values per column:\\n\", df.isnull().sum())\n",
    "print(\"Total null values:\", df.isnull().sum().sum())\n",
    "\n",
    "# Filtering\n",
    "print(\"Students with Physics > 11:\\n\", df[df['Physics'] > 11])"
   ]
  },
  {
   "cell_type": "code",
   "execution_count": 7,
   "id": "126005f5-8a78-4b94-9b13-fcb3d3239af3",
   "metadata": {},
   "outputs": [
    {
     "name": "stdout",
     "output_type": "stream",
     "text": [
      "Created Dataframe\n",
      "      Name  Physics  Chemistry  Math\n",
      "0  Shobhit     11.0       10.0  13.0\n",
      "1  Vaibhav     12.0       14.0  10.0\n",
      "2    Vimal     13.0        NaN  15.0\n",
      "3  Sourabh     14.0       18.0   NaN\n",
      "4    Rahul      NaN       20.0   NaN\n",
      "5  Shobhit     11.0       10.0  13.0\n",
      "\n",
      "Count of all values wrt columns\n",
      "Name         6\n",
      "Physics      5\n",
      "Chemistry    5\n",
      "Math         4\n",
      "dtype: int64\n",
      "\n",
      "Count of all values wrt rows\n",
      "0    4\n",
      "1    4\n",
      "2    3\n",
      "3    3\n",
      "4    2\n",
      "5    4\n",
      "dtype: int64\n",
      "0    4\n",
      "1    4\n",
      "2    3\n",
      "3    3\n",
      "4    2\n",
      "5    4\n",
      "dtype: int64\n",
      "\n",
      "Null Values counts\n",
      "Name         0\n",
      "Physics      1\n",
      "Chemistry    1\n",
      "Math         2\n",
      "dtype: int64\n",
      "Total null values: 4\n",
      "\n",
      "Count of students with physics marks greater than 11 is-> 3\n",
      "\n",
      "Students with Physics > 11:\n",
      "      Name  Physics  Chemistry  Math\n",
      "1  Vaibhav     12.0       14.0  10.0\n",
      "2    Vimal     13.0        NaN  15.0\n",
      "3  Sourabh     14.0       18.0   NaN\n",
      "\n",
      "Count of students with Physics>10, Chemistry>11, Math>9: 1\n",
      "\n",
      "These students are:\n",
      "      Name  Physics  Chemistry  Math\n",
      "1  Vaibhav     12.0       14.0  10.0\n"
     ]
    }
   ],
   "source": [
    "# importing Libraries\n",
    "import pandas as pd\n",
    "import numpy as np\n",
    "\n",
    "# Creating dataframe using dictionary\n",
    "NaN = np.nan\n",
    "dataframe = pd.DataFrame({\n",
    "    'Name': ['Shobhit', 'Vaibhav', 'Vimal', 'Sourabh', 'Rahul', 'Shobhit'],\n",
    "    'Physics': [11, 12, 13, 14, NaN, 11],\n",
    "    'Chemistry': [10, 14, NaN, 18, 20, 10],\n",
    "    'Math': [13, 10, 15, NaN, NaN, 13]\n",
    "})\n",
    "\n",
    "print(\"Created Dataframe\")\n",
    "print(dataframe)\n",
    "\n",
    "# finding Count of all columns\n",
    "print(\"\\nCount of all values wrt columns\")\n",
    "print(dataframe.count())\n",
    "\n",
    "# Count according to rows\n",
    "print(\"\\nCount of all values wrt rows\")\n",
    "print(dataframe.count(axis=1))\n",
    "print(dataframe.count(axis='columns'))\n",
    "\n",
    "# count of null values\n",
    "print(\"\\nNull Values counts\")\n",
    "print(dataframe.isnull().sum())\n",
    "print(\"Total null values:\", dataframe.isnull().sum().sum())\n",
    "\n",
    "# count of students with greater than 11 marks in physics\n",
    "print(\"\\nCount of students with physics marks greater than 11 is->\", \n",
    "      dataframe[dataframe['Physics'] > 11]['Name'].count())\n",
    "\n",
    "# resultant of above dataframe\n",
    "print(\"\\nStudents with Physics > 11:\")\n",
    "print(dataframe[dataframe['Physics'] > 11])\n",
    "\n",
    "# count of students meeting multiple criteria\n",
    "print(\"\\nCount of students with Physics>10, Chemistry>11, Math>9:\", \n",
    "      dataframe[(dataframe['Physics'] > 10) & \n",
    "               (dataframe['Chemistry'] > 11) & \n",
    "               (dataframe['Math'] > 9)]['Name'].count())\n",
    "\n",
    "print(\"\\nThese students are:\")\n",
    "print(dataframe[(dataframe['Physics'] > 10) & \n",
    "               (dataframe['Chemistry'] > 11) & \n",
    "               (dataframe['Math'] > 9)])"
   ]
  },
  {
   "cell_type": "code",
   "execution_count": 9,
   "id": "5cbe1987-8957-4856-8505-e8a9abba827d",
   "metadata": {},
   "outputs": [
    {
     "name": "stdout",
     "output_type": "stream",
     "text": [
      "  First Name Middle Name Last Name  Age Gender  Salary\n",
      "0      James                 Smith   30      M   60000\n",
      "1    Michael        Rose             50      M   70000\n",
      "2     Robert              Williams   42         400000\n",
      "3      Maria        Anne     Jones   38      F  500000\n",
      "4        Jen        Mary     Brown   45   None       0\n"
     ]
    }
   ],
   "source": [
    "data = [[\"James\",\"\",\"Smith\",30,\"M\",60000],\n",
    "[\"Michael\",\"Rose\",\"\",50,\"M\",70000],\n",
    "[\"Robert\",\"\",\"Williams\",42,\"\",400000],\n",
    "[\"Maria\",\"Anne\",\"Jones\",38,\"F\",500000],\n",
    "[\"Jen\",\"Mary\",\"Brown\",45,None,0]]\n",
    "columns=['First Name','Middle Name','Last Name','Age','Gender','Salary']\n",
    "\n",
    "# Create the pandas DataFrame\n",
    "pandasDF=pd.DataFrame(data=data, columns=columns)\n",
    "# print dataframe.\n",
    "print(pandasDF)"
   ]
  },
  {
   "cell_type": "code",
   "execution_count": null,
   "id": "9880e2b2-1076-4997-ab5d-7261e2ca91c5",
   "metadata": {},
   "outputs": [],
   "source": []
  }
 ],
 "metadata": {
  "kernelspec": {
   "display_name": "Python [conda env:base] *",
   "language": "python",
   "name": "conda-base-py"
  },
  "language_info": {
   "codemirror_mode": {
    "name": "ipython",
    "version": 3
   },
   "file_extension": ".py",
   "mimetype": "text/x-python",
   "name": "python",
   "nbconvert_exporter": "python",
   "pygments_lexer": "ipython3",
   "version": "3.11.7"
  }
 },
 "nbformat": 4,
 "nbformat_minor": 5
}
