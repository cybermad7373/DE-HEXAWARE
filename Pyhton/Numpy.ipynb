{
 "cells": [
  {
   "cell_type": "markdown",
   "id": "8168e9b2-6066-4866-89c6-727d2e8b1777",
   "metadata": {},
   "source": [
    "# NumPy Fundamentals\n",
    "\n",
    "## 1.1 What is NumPy?\n",
    "- Core library for numerical computing in Python\n",
    "- Provides high-performance multidimensional array object\n",
    "- Contains tools for:\n",
    "  - Linear algebra\n",
    "  - Fourier transforms\n",
    "  - Random number generation\n",
    "\n",
    "## 1.2 Key Advantages\n",
    "- **50x faster** than Python lists for vector operations\n",
    "- Memory-efficient contiguous storage\n",
    "- Vectorized operations (eliminates loops)\n",
    "- Foundation for Pandas, SciPy, Matplotlib"
   ]
  },
  {
   "cell_type": "code",
   "execution_count": 51,
   "id": "7b4f987b-f534-4000-b063-2e0aa01a9d46",
   "metadata": {},
   "outputs": [
    {
     "name": "stdout",
     "output_type": "stream",
     "text": [
      "NumPy version: 1.23.5\n",
      "Python list size: 8056 bytes\n",
      "NumPy array size: 4000 bytes\n"
     ]
    }
   ],
   "source": [
    "import numpy as np\n",
    "print(\"NumPy version:\", np.__version__)\n",
    "\n",
    "# Memory comparison example\n",
    "import sys\n",
    "py_list = list(range(1000))\n",
    "np_array = np.arange(1000)\n",
    "\n",
    "print(\"Python list size:\", sys.getsizeof(py_list), \"bytes\")\n",
    "print(\"NumPy array size:\", np_array.nbytes, \"bytes\")"
   ]
  },
  {
   "cell_type": "markdown",
   "id": "8108a184-1561-4455-a807-059da1004f90",
   "metadata": {},
   "source": [
    "## 2.1 Creating Arrays\n",
    "\n",
    "### Methods:\n",
    "1. From Python sequences: `np.array()`\n",
    "2. Initial placeholders:\n",
    "   - `np.zeros()` - Array of 0s\n",
    "   - `np.ones()` - Array of 1s\n",
    "   - `np.empty()` - Uninitialized array\n",
    "3. Ranges:\n",
    "   - `np.arange()` - Similar to range()\n",
    "   - `np.linspace()` - Evenly spaced numbers\n",
    "\n",
    "### Key Properties:\n",
    "- Fixed size at creation\n",
    "- Homogeneous data type\n",
    "- Shape defined as (rows, columns)"
   ]
  },
  {
   "cell_type": "code",
   "execution_count": 53,
   "id": "db05238e-67e0-420b-b9a7-a3a1ddd19093",
   "metadata": {},
   "outputs": [
    {
     "name": "stdout",
     "output_type": "stream",
     "text": [
      "1D Array: [1 2 3 4]\n",
      "\n",
      "Zeros array:\n",
      " [[0. 0. 0.]\n",
      " [0. 0. 0.]]\n",
      "\n",
      "Ones array:\n",
      " [[1. 1.]\n",
      " [1. 1.]\n",
      " [1. 1.]]\n",
      "\n",
      "Range array: [0 2 4 6 8]\n",
      "\n",
      "Linear spaced: [0.   0.25 0.5  0.75 1.  ]\n"
     ]
    }
   ],
   "source": [
    "# From Python list\n",
    "arr1 = np.array([1, 2, 3, 4])\n",
    "print(\"1D Array:\", arr1)\n",
    "\n",
    "# Special arrays\n",
    "zeros = np.zeros((2,3))\n",
    "print(\"\\nZeros array:\\n\", zeros)\n",
    "\n",
    "ones = np.ones((3,2))\n",
    "print(\"\\nOnes array:\\n\", ones)\n",
    "\n",
    "# Ranges\n",
    "range_arr = np.arange(0, 10, 2)  # start, stop, step\n",
    "print(\"\\nRange array:\", range_arr)\n",
    "\n",
    "linear = np.linspace(0, 1, 5)    # start, stop, num_points\n",
    "print(\"\\nLinear spaced:\", linear)"
   ]
  },
  {
   "cell_type": "markdown",
   "id": "9ab5b95f-b9a1-4153-8507-f0468920c9a3",
   "metadata": {},
   "source": [
    "## 3.1 Array Attributes\n",
    "\n",
    "### Essential Attributes:\n",
    "- `ndim`: Number of dimensions\n",
    "- `shape`: Tuple of array dimensions\n",
    "- `size`: Total number of elements\n",
    "- `dtype`: Data type of elements\n",
    "- `itemsize`: Bytes per element\n",
    "- `nbytes`: Total memory used\n",
    "\n",
    "### Memory Layout:\n",
    "- Contiguous block of memory\n",
    "- Fixed-type storage (unlike Python lists)"
   ]
  },
  {
   "cell_type": "code",
   "execution_count": 55,
   "id": "349f45bb-2b62-4c58-bb77-1ee61845faa7",
   "metadata": {},
   "outputs": [
    {
     "name": "stdout",
     "output_type": "stream",
     "text": [
      "Array:\n",
      " [[2 9 1 5]\n",
      " [3 8 2 4]\n",
      " [6 7 5 4]]\n",
      "\n",
      "Dimensions: 2\n",
      "Shape (rows, cols): (3, 4)\n",
      "Total elements: 12\n",
      "Data type: int32\n",
      "Bytes per element: 4\n",
      "Total memory used: 48 bytes\n",
      "\n",
      "After type conversion: float32\n"
     ]
    }
   ],
   "source": [
    "arr = np.random.randint(10, size=(3,4))\n",
    "\n",
    "print(\"Array:\\n\", arr)\n",
    "print(\"\\nDimensions:\", arr.ndim)\n",
    "print(\"Shape (rows, cols):\", arr.shape)\n",
    "print(\"Total elements:\", arr.size)\n",
    "print(\"Data type:\", arr.dtype)\n",
    "print(\"Bytes per element:\", arr.itemsize)\n",
    "print(\"Total memory used:\", arr.nbytes, \"bytes\")\n",
    "\n",
    "# Type conversion\n",
    "float_arr = arr.astype('float32')\n",
    "print(\"\\nAfter type conversion:\", float_arr.dtype)"
   ]
  },
  {
   "cell_type": "markdown",
   "id": "e0f91945-f6ac-420a-838e-27685e8d1f49",
   "metadata": {},
   "source": [
    "## 4.1 Array Indexing\n",
    "\n",
    "### Basic Rules:\n",
    "- Zero-based indexing\n",
    "- Negative indices count from end\n",
    "- Multidimensional: `arr[row,col]`\n",
    "\n",
    "### Slicing Syntax:\n",
    "`array[start:stop:step]`\n",
    "\n",
    "### Important Notes:\n",
    "- Slices return **views** (not copies)\n",
    "- Use `copy()` for explicit duplication"
   ]
  },
  {
   "cell_type": "code",
   "execution_count": 57,
   "id": "9275e54f-2140-49bf-8537-1a742dd7bb37",
   "metadata": {},
   "outputs": [
    {
     "name": "stdout",
     "output_type": "stream",
     "text": [
      "Original array: [10 11 12 13 14 15 16 17 18 19]\n",
      "Element at index 3: 13\n",
      "Last element: 19\n",
      "\n",
      "Elements 3-7: [13 14 15 16]\n",
      "Every other element: [10 12 14 16 18]\n",
      "\n",
      "2D array:\n",
      " [[1 2 3]\n",
      " [4 5 6]\n",
      " [7 8 9]]\n",
      "First row: [1 2 3]\n",
      "Last column: [3 6 9]\n",
      "Subarray:\n",
      " [[4 5]\n",
      " [7 8]]\n"
     ]
    }
   ],
   "source": [
    "arr = np.arange(10, 20)\n",
    "print(\"Original array:\", arr)\n",
    "\n",
    "# Basic indexing\n",
    "print(\"Element at index 3:\", arr[3])\n",
    "print(\"Last element:\", arr[-1])\n",
    "\n",
    "# Slicing\n",
    "print(\"\\nElements 3-7:\", arr[3:7])\n",
    "print(\"Every other element:\", arr[::2])\n",
    "\n",
    "# 2D array example\n",
    "arr2d = np.array([[1,2,3],[4,5,6],[7,8,9]])\n",
    "print(\"\\n2D array:\\n\", arr2d)\n",
    "print(\"First row:\", arr2d[0])\n",
    "print(\"Last column:\", arr2d[:,-1])\n",
    "print(\"Subarray:\\n\", arr2d[1:, :2])"
   ]
  },
  {
   "cell_type": "markdown",
   "id": "b70f63a7-8158-4b88-9dae-5ab1ff5df193",
   "metadata": {},
   "source": [
    "## 5.1 Vectorized Operations\n",
    "\n",
    "### Key Features:\n",
    "- Operations applied element-wise\n",
    "- No explicit loops needed\n",
    "- Supports broadcasting\n",
    "\n",
    "### Operation Types:\n",
    "1. Arithmetic: `+`, `-`, `*`, `/`, `**`\n",
    "2. Comparison: `>`, `<`, `==`\n",
    "3. Mathematical functions: `np.sin()`, `np.log()`\n",
    "\n",
    "## 5.2 Broadcasting Rules\n",
    "1. Arrays must have compatible shapes\n",
    "2. Dimensions are compared from right to left\n",
    "3. Two dimensions are compatible when:\n",
    "   - They are equal, or\n",
    "   - One of them is 1"
   ]
  },
  {
   "cell_type": "code",
   "execution_count": 59,
   "id": "3f82e6c1-ff83-462c-a2d6-65883d46b957",
   "metadata": {},
   "outputs": [
    {
     "name": "stdout",
     "output_type": "stream",
     "text": [
      "Addition: [5 7 9]\n",
      "Multiplication: [2 4 6]\n",
      "Exponentiation: [1 4 9]\n",
      "\n",
      "Greater than: [False False  True]\n",
      "Equal to: [False False False]\n",
      "\n",
      "Broadcasting example:\n",
      " [[2 3 4]\n",
      " [3 4 5]\n",
      " [4 5 6]]\n",
      "\n",
      "Square roots: [1.         1.41421356 1.73205081]\n",
      "Exponentials: [ 2.71828183  7.3890561  20.08553692]\n"
     ]
    }
   ],
   "source": [
    "a = np.array([1, 2, 3])\n",
    "b = np.array([4, 5, 6])\n",
    "\n",
    "# Arithmetic operations\n",
    "print(\"Addition:\", a + b)\n",
    "print(\"Multiplication:\", a * 2)\n",
    "print(\"Exponentiation:\", a ** 2)\n",
    "\n",
    "# Comparison\n",
    "print(\"\\nGreater than:\", a > 2)\n",
    "print(\"Equal to:\", a == b)\n",
    "\n",
    "# Broadcasting\n",
    "c = np.array([[1], [2], [3]])\n",
    "print(\"\\nBroadcasting example:\\n\", c + a)\n",
    "\n",
    "# Mathematical functions\n",
    "print(\"\\nSquare roots:\", np.sqrt(a))\n",
    "print(\"Exponentials:\", np.exp(a))"
   ]
  },
  {
   "cell_type": "markdown",
   "id": "2392d6ac-8330-4264-9995-93b9044a9a14",
   "metadata": {},
   "source": [
    "## 6.1 Reshaping Arrays\n",
    "\n",
    "### Key Methods:\n",
    "- `reshape()`: Returns view with new shape\n",
    "- `flatten()`: Returns 1D copy\n",
    "- `ravel()`: Returns 1D view\n",
    "- `transpose()`: Swaps dimensions\n",
    "\n",
    "### Important Rules:\n",
    "- Total size must remain unchanged\n",
    "- Reshape order: 'C' (row-major) or 'F' (column-major)\n",
    "\n",
    "## 6.2 Combining Arrays\n",
    "\n",
    "### Methods:\n",
    "- `np.concatenate()`: Join along existing axis\n",
    "- `np.vstack()`: Vertical stacking (row-wise)\n",
    "- `np.hstack()`: Horizontal stacking (column-wise)\n",
    "- `np.stack()`: New axis stacking"
   ]
  },
  {
   "cell_type": "code",
   "execution_count": 61,
   "id": "40feae16-31b6-4752-b737-cd2a8c4bbbb3",
   "metadata": {},
   "outputs": [
    {
     "name": "stdout",
     "output_type": "stream",
     "text": [
      "Original array: [ 0  1  2  3  4  5  6  7  8  9 10 11]\n",
      "\n",
      "Reshaped (3x4):\n",
      " [[ 0  1  2  3]\n",
      " [ 4  5  6  7]\n",
      " [ 8  9 10 11]]\n",
      "\n",
      "Flattened (copy): [ 0  1  2  3  4  5  6  7  8  9 10 11]\n",
      "Raveled (view): [ 0  1  2  3  4  5  6  7  8  9 10 11]\n",
      "\n",
      "Vertical stack:\n",
      " [[1 2]\n",
      " [3 4]\n",
      " [5 6]\n",
      " [7 8]]\n",
      "\n",
      "Horizontal stack:\n",
      " [[1 2 5 6]\n",
      " [3 4 7 8]]\n",
      "\n",
      "Concatenate along axis 0:\n",
      " [[1 2]\n",
      " [3 4]\n",
      " [5 6]\n",
      " [7 8]]\n"
     ]
    }
   ],
   "source": [
    "# Reshaping examples\n",
    "arr = np.arange(12)\n",
    "print(\"Original array:\", arr)\n",
    "\n",
    "reshaped = arr.reshape(3, 4)\n",
    "print(\"\\nReshaped (3x4):\\n\", reshaped)\n",
    "\n",
    "# Flatten vs ravel\n",
    "flattened = reshaped.flatten()\n",
    "raveled = reshaped.ravel()\n",
    "print(\"\\nFlattened (copy):\", flattened)\n",
    "print(\"Raveled (view):\", raveled)\n",
    "\n",
    "# Combining arrays\n",
    "a = np.array([[1, 2], [3, 4]])\n",
    "b = np.array([[5, 6], [7, 8]])\n",
    "\n",
    "print(\"\\nVertical stack:\\n\", np.vstack((a, b)))\n",
    "print(\"\\nHorizontal stack:\\n\", np.hstack((a, b)))\n",
    "print(\"\\nConcatenate along axis 0:\\n\", np.concatenate((a, b), axis=0))"
   ]
  },
  {
   "cell_type": "markdown",
   "id": "487628cb-0417-4411-aef5-b97e0b5bb49e",
   "metadata": {},
   "source": [
    "## 7.1 Statistical Operations\n",
    "\n",
    "### Basic Aggregations:\n",
    "- `sum()`/`np.sum()`: Sum of elements\n",
    "- `mean()`/`np.mean()`: Arithmetic average\n",
    "- `std()`/`np.std()`: Standard deviation\n",
    "- `min()`/`max()`: Minimum/maximum values\n",
    "\n",
    "### Additional Methods:\n",
    "- `argmin()`/`argmax()`: Index of min/max\n",
    "- `cumsum()`: Cumulative sum\n",
    "- `cumprod()`: Cumulative product\n",
    "\n",
    "### Axis Parameter:\n",
    "- `axis=0`: Column-wise operation\n",
    "- `axis=1`: Row-wise operation\n",
    "- `axis=None`: All elements"
   ]
  },
  {
   "cell_type": "code",
   "execution_count": 63,
   "id": "5bcd3a4b-920b-491a-a687-9a2befdb6ae7",
   "metadata": {},
   "outputs": [
    {
     "name": "stdout",
     "output_type": "stream",
     "text": [
      "Array:\n",
      " [[4 0 2 1]\n",
      " [0 6 1 9]\n",
      " [7 6 4 2]]\n",
      "\n",
      "Global sum: 42\n",
      "Column sums: [11 12  7 12]\n",
      "Row means: [1.75 4.   4.75]\n",
      "\n",
      "Max value: 9\n",
      "Index of min: 1\n",
      "\n",
      "Cumulative sum:\n",
      " [[ 4  4  6  7]\n",
      " [ 0  6  7 16]\n",
      " [ 7 13 17 19]]\n",
      "\n",
      "Cumulative product:\n",
      " [[ 4  0  2  1]\n",
      " [ 0  0  2  9]\n",
      " [ 0  0  8 18]]\n"
     ]
    }
   ],
   "source": [
    "arr = np.random.randint(0, 10, size=(3, 4))\n",
    "print(\"Array:\\n\", arr)\n",
    "\n",
    "print(\"\\nGlobal sum:\", np.sum(arr))\n",
    "print(\"Column sums:\", np.sum(arr, axis=0))\n",
    "print(\"Row means:\", np.mean(arr, axis=1))\n",
    "\n",
    "print(\"\\nMax value:\", arr.max())\n",
    "print(\"Index of min:\", arr.argmin())\n",
    "\n",
    "# Cumulative operations\n",
    "print(\"\\nCumulative sum:\\n\", np.cumsum(arr, axis=1))\n",
    "print(\"\\nCumulative product:\\n\", np.cumprod(arr, axis=0))"
   ]
  },
  {
   "cell_type": "markdown",
   "id": "d8f6c1fc-0c36-4ef5-81b5-84d1d2e386e7",
   "metadata": {},
   "source": [
    "## 8.1 Broadcasting Rules\n",
    "\n",
    "### Three Rules:\n",
    "1. Shape Alignment: Trailing dimensions matched\n",
    "2. Compatibility: Dimensions equal or one is 1\n",
    "3. Operation: Applied element-wise\n",
    "\n",
    "### Common Cases:\n",
    "- Array + Scalar\n",
    "- Array (n,) + Array (n,1)\n",
    "- Array (m,n) + Array (1,n)\n",
    "\n",
    "### Limitations:\n",
    "- Does not actually expand memory\n",
    "- Fails when shapes are incompatible"
   ]
  },
  {
   "cell_type": "code",
   "execution_count": 65,
   "id": "06b578bf-5103-4d80-bdcd-28648e47176f",
   "metadata": {},
   "outputs": [
    {
     "name": "stdout",
     "output_type": "stream",
     "text": [
      "Array + 5:\n",
      " [[ 6  7  8]\n",
      " [ 9 10 11]]\n",
      "\n",
      "Vector:\n",
      " [10 20 30]\n",
      "\n",
      "Column vector:\n",
      " [[10]\n",
      " [20]\n",
      " [30]]\n",
      "\n",
      "Broadcasted addition:\n",
      " [[20 30 40]\n",
      " [30 40 50]\n",
      " [40 50 60]]\n",
      "\n",
      "Error: operands could not be broadcast together with shapes (2,) (1,3) \n"
     ]
    }
   ],
   "source": [
    "# Array + scalar\n",
    "arr = np.array([[1, 2, 3], [4, 5, 6]])\n",
    "print(\"Array + 5:\\n\", arr + 5)\n",
    "\n",
    "# Vector + column vector\n",
    "vector = np.array([10, 20, 30])\n",
    "col_vector = vector.reshape(3, 1)\n",
    "print(\"\\nVector:\\n\", vector)\n",
    "print(\"\\nColumn vector:\\n\", col_vector)\n",
    "print(\"\\nBroadcasted addition:\\n\", vector + col_vector)\n",
    "\n",
    "# Incompatible shapes example\n",
    "try:\n",
    "    np.array([1, 2]) + np.array([[1, 2, 3]])\n",
    "except ValueError as e:\n",
    "    print(\"\\nError:\", e)"
   ]
  },
  {
   "cell_type": "markdown",
   "id": "0414d2ca-2243-418e-96f2-026483c94323",
   "metadata": {},
   "source": [
    "## 9.1 Basic Linear Algebra\n",
    "\n",
    "### Core Operations:\n",
    "- `np.dot()`: Dot product/matrix multiplication\n",
    "- `@` operator: Matrix multiplication (Python 3.5+)\n",
    "- `np.linalg.inv()`: Matrix inverse\n",
    "- `np.linalg.det()`: Determinant\n",
    "- `np.linalg.solve()`: Solve linear equations\n",
    "\n",
    "### Special Matrices:\n",
    "- Identity: `np.eye()`\n",
    "- Diagonal: `np.diag()`\n",
    "- Triangular: `np.triu()`, `np.tril()`"
   ]
  },
  {
   "cell_type": "code",
   "execution_count": 67,
   "id": "96c8794f-f9c6-4d06-aa11-15ec8faa8b13",
   "metadata": {},
   "outputs": [
    {
     "name": "stdout",
     "output_type": "stream",
     "text": [
      "Matrix multiplication (@):\n",
      " [[19 22]\n",
      " [43 50]]\n",
      "\n",
      "dot product equivalent:\n",
      " [[19 22]\n",
      " [43 50]]\n",
      "\n",
      "Determinant: -2.0000000000000004\n",
      "Inverse:\n",
      " [[-2.   1. ]\n",
      " [ 1.5 -0.5]]\n",
      "\n",
      "Solution: [1. 3.]\n"
     ]
    }
   ],
   "source": [
    "# Matrix multiplication\n",
    "A = np.array([[1, 2], [3, 4]])\n",
    "B = np.array([[5, 6], [7, 8]])\n",
    "\n",
    "print(\"Matrix multiplication (@):\\n\", A @ B)\n",
    "print(\"\\ndot product equivalent:\\n\", np.dot(A, B))\n",
    "\n",
    "# Matrix properties\n",
    "print(\"\\nDeterminant:\", np.linalg.det(A))\n",
    "print(\"Inverse:\\n\", np.linalg.inv(A))\n",
    "\n",
    "# Solving equations\n",
    "# 2x + y = 5\n",
    "# x + 3y = 10\n",
    "coeff = np.array([[2, 1], [1, 3]])\n",
    "const = np.array([5, 10]) \n",
    "solution = np.linalg.solve(coeff, const)\n",
    "print(\"\\nSolution:\", solution)"
   ]
  },
  {
   "cell_type": "markdown",
   "id": "abdc7e53-6710-4974-b66f-77f3cc04a8fa",
   "metadata": {},
   "source": [
    "## 10.1 Random Module\n",
    "\n",
    "### Key Functions:\n",
    "- `np.random.rand()`: Uniform [0,1)\n",
    "- `np.random.randn()`: Standard normal\n",
    "- `np.random.randint()`: Random integers\n",
    "- `np.random.choice()`: Random selection\n",
    "- `np.random.shuffle()`: In-place shuffling\n",
    "\n",
    "### Distributions:\n",
    "- Uniform: `random()`\n",
    "- Normal: `normal()`\n",
    "- Binomial: `binomial()`\n",
    "- Poisson: `poisson()`\n",
    "\n",
    "### Seed for Reproducibility:\n",
    "`np.random.seed()` sets the random seed`"
   ]
  },
  {
   "cell_type": "code",
   "execution_count": 69,
   "id": "8df13f4f-e0c7-4095-b9dc-6368813d1409",
   "metadata": {},
   "outputs": [
    {
     "name": "stdout",
     "output_type": "stream",
     "text": [
      "Random float [0,1): 0.3745401188473625\n",
      "Random integers: [7 4 6 9 2]\n",
      "\n",
      "Random choice: ['blue' 'blue' 'red' 'red' 'blue']\n",
      "\n",
      "Shuffled array: [3 2 7 4 6 1 0 8 9 5]\n"
     ]
    }
   ],
   "source": [
    "# Set seed for reproducibility\n",
    "np.random.seed(42)\n",
    "\n",
    "# Basic random numbers\n",
    "print(\"Random float [0,1):\", np.random.rand())\n",
    "print(\"Random integers:\", np.random.randint(0, 10, size=5))\n",
    "\n",
    "# Distributions\n",
    "normal = np.random.normal(loc=0, scale=1, size=1000)\n",
    "uniform = np.random.uniform(low=0, high=10, size=1000)\n",
    "\n",
    "# Random choice\n",
    "colors = ['red', 'green', 'blue']\n",
    "print(\"\\nRandom choice:\", np.random.choice(colors, size=5))\n",
    "\n",
    "# Shuffling\n",
    "arr = np.arange(10)\n",
    "np.random.shuffle(arr)\n",
    "print(\"\\nShuffled array:\", arr)"
   ]
  },
  {
   "cell_type": "markdown",
   "id": "469d40e4-a7f0-4d15-94e9-ce5d9114f0a1",
   "metadata": {},
   "source": [
    "## 11.1 Boolean Indexing\n",
    "\n",
    "### Key Concepts:\n",
    "- Select elements using logical conditions\n",
    "- Returns a **copy** not a view\n",
    "- Can combine multiple conditions with:\n",
    "  - `&` (AND)\n",
    "  - `|` (OR)\n",
    "  - `~` (NOT)\n",
    "\n",
    "## 11.2 Fancy Indexing\n",
    "- Indexing with integer arrays\n",
    "- Returns a **copy** not a view\n",
    "- Can be used for:\n",
    "  - Reordering elements\n",
    "  - Selecting specific indices\n",
    "  - Multi-dimensional selection"
   ]
  },
  {
   "cell_type": "code",
   "execution_count": 71,
   "id": "53e1047b-3980-4629-8b1d-a834ac4c1ff7",
   "metadata": {},
   "outputs": [
    {
     "name": "stdout",
     "output_type": "stream",
     "text": [
      "Original array:\n",
      " [[ 1  2  3  4]\n",
      " [ 5  6  7  8]\n",
      " [ 9 10 11 12]]\n",
      "\n",
      "Elements > 5:\n",
      " [ 6  7  8  9 10 11 12]\n",
      "\n",
      "Elements > 3 AND even:\n",
      " [ 4  6  8 10 12]\n",
      "\n",
      "Selected elements:\n",
      " [ 2 12]\n",
      "\n",
      "Reordered rows:\n",
      " [[ 9 10 11 12]\n",
      " [ 5  6  7  8]\n",
      " [ 1  2  3  4]]\n"
     ]
    }
   ],
   "source": [
    "# Boolean indexing\n",
    "arr = np.arange(1, 13).reshape(3, 4)\n",
    "print(\"Original array:\\n\", arr)\n",
    "\n",
    "# Simple condition\n",
    "print(\"\\nElements > 5:\\n\", arr[arr > 5])\n",
    "\n",
    "# Multiple conditions\n",
    "condition = (arr > 3) & (arr % 2 == 0)\n",
    "print(\"\\nElements > 3 AND even:\\n\", arr[condition])\n",
    "\n",
    "# Fancy indexing\n",
    "rows = np.array([0, 2])\n",
    "cols = np.array([1, 3])\n",
    "print(\"\\nSelected elements:\\n\", arr[rows, cols])\n",
    "\n",
    "# Reordering\n",
    "order = np.array([2, 1, 0])\n",
    "print(\"\\nReordered rows:\\n\", arr[order])"
   ]
  },
  {
   "cell_type": "markdown",
   "id": "98798e1c-1fef-4f5e-a64a-e0e8264fc764",
   "metadata": {},
   "source": [
    "## 12.1 File Operations\n",
    "\n",
    "### Text Files:\n",
    "- `np.loadtxt()`: Load from text file\n",
    "- `np.savetxt()`: Save to text file\n",
    "\n",
    "### Binary Files:\n",
    "- `np.save()`: Save as .npy binary\n",
    "- `np.load()`: Load .npy file\n",
    "- `np.savez()`: Save multiple arrays as .npz\n",
    "\n",
    "### CSV Files:\n",
    "- Best handled with Pandas\n",
    "- Can use `np.genfromtxt()` for basic CSV"
   ]
  },
  {
   "cell_type": "code",
   "execution_count": 73,
   "id": "e577699d-8492-4c40-ad28-0c7ae2ea30ba",
   "metadata": {},
   "outputs": [
    {
     "name": "stdout",
     "output_type": "stream",
     "text": [
      "Loaded from text file:\n",
      " [[1.2 3.4]\n",
      " [5.6 7.8]]\n",
      "\n",
      "Loaded from binary file:\n",
      " [[1.2 3.4]\n",
      " [5.6 7.8]]\n",
      "\n",
      "Array 1: [0 1 2 3 4]\n",
      "Array 2:\n",
      " [[0.90738016 0.23885666 0.46964177]\n",
      " [0.4504653  0.47297135 0.6225197 ]\n",
      " [0.46974376 0.44746814 0.47428842]]\n"
     ]
    }
   ],
   "source": [
    "# Text files\n",
    "data = np.array([[1.2, 3.4], [5.6, 7.8]])\n",
    "np.savetxt('data.txt', data, fmt='%.2f')\n",
    "loaded = np.loadtxt('data.txt')\n",
    "print(\"Loaded from text file:\\n\", loaded)\n",
    "\n",
    "# Binary files\n",
    "np.save('data.npy', data)\n",
    "binary_loaded = np.load('data.npy')\n",
    "print(\"\\nLoaded from binary file:\\n\", binary_loaded)\n",
    "\n",
    "# Multiple arrays\n",
    "arr1 = np.arange(5)\n",
    "arr2 = np.random.rand(3,3)\n",
    "np.savez('multi.npz', a=arr1, b=arr2)\n",
    "with np.load('multi.npz') as data:\n",
    "    print(\"\\nArray 1:\", data['a'])\n",
    "    print(\"Array 2:\\n\", data['b'])"
   ]
  },
  {
   "cell_type": "markdown",
   "id": "d937516d-2068-4ff0-b330-72a47c42f94c",
   "metadata": {},
   "source": [
    "## 13.1 Optimization Techniques\n",
    "\n",
    "### Key Strategies:\n",
    "1. **Vectorization**: Replace loops with array operations\n",
    "2. **Pre-allocation**: Initialize arrays before filling\n",
    "3. **In-place operations**: Use `+=`, `*=`, etc.\n",
    "4. **Avoid copies**: Use views when possible\n",
    "\n",
    "### Useful Functions:\n",
    "- `np.einsum()`: Einstein summation\n",
    "- `np.apply_along_axis()`: Apply function along axis\n",
    "- `np.vectorize()`: Vectorize Python functions"
   ]
  },
  {
   "cell_type": "code",
   "execution_count": null,
   "id": "dff63922-9f0d-4cd7-adad-7bc4c8ab43e1",
   "metadata": {},
   "outputs": [
    {
     "name": "stdout",
     "output_type": "stream",
     "text": [
      "256 ms ± 3.86 ms per loop (mean ± std. dev. of 7 runs, 1 loop each)\n"
     ]
    }
   ],
   "source": [
    "# Vectorization example\n",
    "size = 1000000\n",
    "\n",
    "# Slow Python loop\n",
    "def slow_add(a, b):\n",
    "    result = np.empty_like(a)\n",
    "    for i in range(len(a)):\n",
    "        result[i] = a[i] + b[i]\n",
    "    return result\n",
    "\n",
    "# Fast vectorized operation\n",
    "a = np.random.rand(size)\n",
    "b = np.random.rand(size)\n",
    "\n",
    "%timeit slow_add(a, b)  # ~300ms\n",
    "%timeit a + b           # ~1ms\n",
    "\n",
    "# In-place operations\n",
    "arr = np.ones(10)\n",
    "print(\"\\nBefore:\", arr)\n",
    "arr *= 5  # In-place\n",
    "print(\"After:\", arr)\n",
    "\n",
    "# Einsum example\n",
    "A = np.random.rand(3,3)\n",
    "B = np.random.rand(3,3)\n",
    "print(\"\\nMatrix multiplication with einsum:\\n\", np.einsum('ij,jk->ik', A, B))"
   ]
  },
  {
   "cell_type": "code",
   "execution_count": null,
   "id": "de6e7091-8c1c-497a-8363-627be768a3d6",
   "metadata": {},
   "outputs": [],
   "source": []
  },
  {
   "cell_type": "markdown",
   "id": "18f6da4d-f9c5-412d-ab4a-fb071c9842f7",
   "metadata": {},
   "source": [
    "## 14.1 NumPy ↔ Pandas Conversion\n",
    "\n",
    "### Conversion Methods:\n",
    "- `df.values`: Get NumPy array (view)\n",
    "- `df.to_numpy()`: Get NumPy array (copy)\n",
    "- `pd.DataFrame(arr)`: Create DataFrame from array\n",
    "\n",
    "### Best Practices:\n",
    "- Handle missing data (NaN → None)\n",
    "- Preserve dtypes during conversion\n",
    "- Use `.loc[]` for Pandas-style indexing"
   ]
  },
  {
   "cell_type": "code",
   "execution_count": null,
   "id": "b147ca13-3c28-4245-af15-996e60441e43",
   "metadata": {},
   "outputs": [],
   "source": [
    "import pandas as pd\n",
    "\n",
    "# DataFrame to NumPy\n",
    "df = pd.DataFrame({'A': [1, 2, 3], 'B': [4.5, 5.5, 6.5]})\n",
    "arr = df.to_numpy()\n",
    "print(\"DataFrame to array:\\n\", arr)\n",
    "\n",
    "# NumPy to DataFrame\n",
    "new_arr = np.random.rand(3, 2)\n",
    "new_df = pd.DataFrame(new_arr, columns=['X', 'Y'])\n",
    "print(\"\\nArray to DataFrame:\\n\", new_df)\n",
    "\n",
    "# Handling missing data\n",
    "arr_with_nan = np.array([1, 2, np.nan, 4])\n",
    "df_nan = pd.DataFrame(arr_with_nan, columns=['Values'])\n",
    "print(\"\\nWith missing values:\\n\", df_nan)"
   ]
  },
  {
   "cell_type": "markdown",
   "id": "16adc4ac-87b7-49c0-a6a7-358570be8dd2",
   "metadata": {},
   "source": [
    "## 15.1 Images as NumPy Arrays\n",
    "\n",
    "### Key Concepts:\n",
    "- Images are 3D arrays (height × width × channels)\n",
    "- Grayscale: 2D array\n",
    "- RGB: 3D array (last dim = 3)\n",
    "- Common operations:\n",
    "  - Cropping\n",
    "  - Color channel manipulation\n",
    "  - Filtering\n",
    "  - Normalization"
   ]
  },
  {
   "cell_type": "code",
   "execution_count": null,
   "id": "74b78cfc-2091-45ae-94cb-8d8609498105",
   "metadata": {},
   "outputs": [],
   "source": [
    "from matplotlib import image as mpimg\n",
    "import matplotlib.pyplot as plt\n",
    "\n",
    "# Load image\n",
    "img = mpimg.imread('example.jpg')  # Replace with your image\n",
    "print(\"Image shape:\", img.shape)\n",
    "\n",
    "# Display original\n",
    "plt.imshow(img)\n",
    "plt.title(\"Original Image\")\n",
    "plt.show()\n",
    "\n",
    "# Grayscale conversion\n",
    "gray = np.mean(img, axis=2)\n",
    "plt.imshow(gray, cmap='gray')\n",
    "plt.title(\"Grayscale\")\n",
    "plt.show()\n",
    "\n",
    "# Color channel manipulation\n",
    "modified = img.copy()\n",
    "modified[:, :, 1] = 0  # Remove green channel\n",
    "plt.imshow(modified)\n",
    "plt.title(\"No Green Channel\")\n",
    "plt.show()\n",
    "\n",
    "# Cropping\n",
    "cropped = img[100:400, 200:500]\n",
    "plt.imshow(cropped)\n",
    "plt.title(\"Cropped\")\n",
    "plt.show()"
   ]
  },
  {
   "cell_type": "code",
   "execution_count": null,
   "id": "136a44c1-5301-41bd-ac2c-12cea297b107",
   "metadata": {},
   "outputs": [],
   "source": []
  }
 ],
 "metadata": {
  "kernelspec": {
   "display_name": "Python [conda env:base] *",
   "language": "python",
   "name": "conda-base-py"
  },
  "language_info": {
   "codemirror_mode": {
    "name": "ipython",
    "version": 3
   },
   "file_extension": ".py",
   "mimetype": "text/x-python",
   "name": "python",
   "nbconvert_exporter": "python",
   "pygments_lexer": "ipython3",
   "version": "3.11.7"
  }
 },
 "nbformat": 4,
 "nbformat_minor": 5
}
