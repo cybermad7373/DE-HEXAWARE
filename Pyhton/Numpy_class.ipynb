{
 "cells": [
  {
   "cell_type": "code",
   "execution_count": 2,
   "id": "c5c6ec71-f570-4ed4-a41a-45223fed8311",
   "metadata": {},
   "outputs": [
    {
     "name": "stdout",
     "output_type": "stream",
     "text": [
      "[20.1 20.8 21.9 22.5 22.7 22.3 21.8 21.2 20.9 20.1]\n",
      "[ 1.          1.18367347  1.36734694  1.55102041  1.73469388  1.91836735\n",
      "  2.10204082  2.28571429  2.46938776  2.65306122  2.83673469  3.02040816\n",
      "  3.20408163  3.3877551   3.57142857  3.75510204  3.93877551  4.12244898\n",
      "  4.30612245  4.48979592  4.67346939  4.85714286  5.04081633  5.2244898\n",
      "  5.40816327  5.59183673  5.7755102   5.95918367  6.14285714  6.32653061\n",
      "  6.51020408  6.69387755  6.87755102  7.06122449  7.24489796  7.42857143\n",
      "  7.6122449   7.79591837  7.97959184  8.16326531  8.34693878  8.53061224\n",
      "  8.71428571  8.89795918  9.08163265  9.26530612  9.44897959  9.63265306\n",
      "  9.81632653 10.        ]\n",
      "[ 1.   2.5  4.   5.5  7.   8.5 10. ]\n",
      "[1.         2.28571429 3.57142857 4.85714286 6.14285714 7.42857143\n",
      " 8.71428571]\n"
     ]
    }
   ],
   "source": [
    "import numpy as np\n",
    "\n",
    "# From a list\n",
    "cvalues = [20.1, 20.8, 21.9, 22.5, 22.7, 22.3, 21.8, 21.2, 20.9, 20.1]\n",
    "data = np.array(cvalues)\n",
    "print(data)\n",
    "\n",
    "# Linspace examples\n",
    "print(np.linspace(1, 10))          # 50 values between 1 and 10\n",
    "print(np.linspace(1, 10, 7))       # 7 values\n",
    "print(np.linspace(1, 10, 7, endpoint=False))  # Exclude endpoint"
   ]
  },
  {
   "cell_type": "code",
   "execution_count": 4,
   "id": "72f17b67-0d34-40a8-a2ce-e675722e21ec",
   "metadata": {},
   "outputs": [
    {
     "name": "stdout",
     "output_type": "stream",
     "text": [
      "Zeros array:\n",
      " [[0. 0. 0. 0.]\n",
      " [0. 0. 0. 0.]\n",
      " [0. 0. 0. 0.]]\n",
      "Complex array:\n",
      " [[6.+0.j 6.+0.j 6.+0.j]\n",
      " [6.+0.j 6.+0.j 6.+0.j]\n",
      " [6.+0.j 6.+0.j 6.+0.j]]\n",
      "Random array:\n",
      " [[0.97134297 0.53782156]\n",
      " [0.56245681 0.54887467]]\n"
     ]
    }
   ],
   "source": [
    "import numpy as np\n",
    "\n",
    "# Zero matrix\n",
    "zeros_arr = np.zeros((3, 4))\n",
    "print(\"Zeros array:\\n\", zeros_arr)\n",
    "\n",
    "# Constant value array (complex type)\n",
    "complex_arr = np.full((3, 3), 6, dtype='complex')\n",
    "print(\"Complex array:\\n\", complex_arr)\n",
    "\n",
    "# Random array\n",
    "random_arr = np.random.random((2, 2))\n",
    "print(\"Random array:\\n\", random_arr)"
   ]
  },
  {
   "cell_type": "code",
   "execution_count": null,
   "id": "7d7a8ba7-01d8-4efd-be31-c9aab197791d",
   "metadata": {},
   "outputs": [],
   "source": []
  }
 ],
 "metadata": {
  "kernelspec": {
   "display_name": "Python [conda env:base] *",
   "language": "python",
   "name": "conda-base-py"
  },
  "language_info": {
   "codemirror_mode": {
    "name": "ipython",
    "version": 3
   },
   "file_extension": ".py",
   "mimetype": "text/x-python",
   "name": "python",
   "nbconvert_exporter": "python",
   "pygments_lexer": "ipython3",
   "version": "3.11.7"
  }
 },
 "nbformat": 4,
 "nbformat_minor": 5
}
