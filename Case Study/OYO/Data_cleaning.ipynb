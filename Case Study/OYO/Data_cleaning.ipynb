{
 "cells": [
  {
   "cell_type": "code",
   "execution_count": 1,
   "id": "aacd9142-c559-4d76-9452-5089202035d3",
   "metadata": {},
   "outputs": [],
   "source": [
    "import pandas as pd"
   ]
  },
  {
   "cell_type": "markdown",
   "id": "21e8d97d-bddb-45e2-87b4-1e5b2e525a80",
   "metadata": {},
   "source": [
    "### city_df"
   ]
  },
  {
   "cell_type": "code",
   "execution_count": 104,
   "id": "c0d633fe-ccb3-4369-98b2-c10d15c9f448",
   "metadata": {},
   "outputs": [],
   "source": [
    "city_df = pd.read_csv('oyo_city.csv')"
   ]
  },
  {
   "cell_type": "code",
   "execution_count": 106,
   "id": "3fdec8cc-21f9-4539-9939-872069fa1b61",
   "metadata": {},
   "outputs": [
    {
     "data": {
      "text/html": [
       "<div>\n",
       "<style scoped>\n",
       "    .dataframe tbody tr th:only-of-type {\n",
       "        vertical-align: middle;\n",
       "    }\n",
       "\n",
       "    .dataframe tbody tr th {\n",
       "        vertical-align: top;\n",
       "    }\n",
       "\n",
       "    .dataframe thead th {\n",
       "        text-align: right;\n",
       "    }\n",
       "</style>\n",
       "<table border=\"1\" class=\"dataframe\">\n",
       "  <thead>\n",
       "    <tr style=\"text-align: right;\">\n",
       "      <th></th>\n",
       "      <th>hotel_id</th>\n",
       "      <th>city</th>\n",
       "    </tr>\n",
       "  </thead>\n",
       "  <tbody>\n",
       "    <tr>\n",
       "      <th>0</th>\n",
       "      <td>3.0</td>\n",
       "      <td>Gurgaon</td>\n",
       "    </tr>\n",
       "    <tr>\n",
       "      <th>1</th>\n",
       "      <td>13.0</td>\n",
       "      <td>Gurgaon</td>\n",
       "    </tr>\n",
       "    <tr>\n",
       "      <th>2</th>\n",
       "      <td>16.0</td>\n",
       "      <td>Gurgaon</td>\n",
       "    </tr>\n",
       "    <tr>\n",
       "      <th>3</th>\n",
       "      <td>21.0</td>\n",
       "      <td>Gurgaon</td>\n",
       "    </tr>\n",
       "    <tr>\n",
       "      <th>4</th>\n",
       "      <td>25.0</td>\n",
       "      <td>Delhi</td>\n",
       "    </tr>\n",
       "  </tbody>\n",
       "</table>\n",
       "</div>"
      ],
      "text/plain": [
       "   hotel_id     city\n",
       "0       3.0  Gurgaon\n",
       "1      13.0  Gurgaon\n",
       "2      16.0  Gurgaon\n",
       "3      21.0  Gurgaon\n",
       "4      25.0    Delhi"
      ]
     },
     "execution_count": 106,
     "metadata": {},
     "output_type": "execute_result"
    }
   ],
   "source": [
    "city_df.head()"
   ]
  },
  {
   "cell_type": "code",
   "execution_count": 108,
   "id": "48f0473a-9bc0-4bd5-8e2b-8ceb262f247e",
   "metadata": {},
   "outputs": [
    {
     "name": "stdout",
     "output_type": "stream",
     "text": [
      "9994\n"
     ]
    }
   ],
   "source": [
    "print(len(city_df))"
   ]
  },
  {
   "cell_type": "code",
   "execution_count": 110,
   "id": "3433bb25-04a1-45b8-b63a-8943fa62aabf",
   "metadata": {},
   "outputs": [
    {
     "name": "stdout",
     "output_type": "stream",
     "text": [
      "hotel_id    float64\n",
      "city         object\n",
      "dtype: object\n"
     ]
    }
   ],
   "source": [
    "print(city_df.dtypes)"
   ]
  },
  {
   "cell_type": "code",
   "execution_count": 115,
   "id": "22d69cd7-f2ed-4015-a58c-3b23dfe6e9af",
   "metadata": {},
   "outputs": [
    {
     "data": {
      "text/plain": [
       "hotel_id    9637\n",
       "city        9637\n",
       "dtype: int64"
      ]
     },
     "execution_count": 115,
     "metadata": {},
     "output_type": "execute_result"
    }
   ],
   "source": [
    "city_df.isnull().sum()"
   ]
  },
  {
   "cell_type": "code",
   "execution_count": 117,
   "id": "df12f85e-9c2a-4cd6-aa40-dbd5682d06bb",
   "metadata": {},
   "outputs": [
    {
     "data": {
      "text/plain": [
       "96.42785671402842"
      ]
     },
     "execution_count": 117,
     "metadata": {},
     "output_type": "execute_result"
    }
   ],
   "source": [
    "percent_null = (city_df[\"hotel_id\"].isnull().sum() * 100) / len(city_df)\n",
    "percent_null"
   ]
  },
  {
   "cell_type": "code",
   "execution_count": 119,
   "id": "74c6a5f0-3093-44dc-8dae-5fdd9b78d41b",
   "metadata": {},
   "outputs": [],
   "source": [
    "clean_city_df = city_df.dropna(subset=[\"hotel_id\"])"
   ]
  },
  {
   "cell_type": "code",
   "execution_count": 121,
   "id": "50cec031-570c-4f82-acfe-88703fd8b372",
   "metadata": {},
   "outputs": [
    {
     "data": {
      "text/plain": [
       "hotel_id    0\n",
       "city        0\n",
       "dtype: int64"
      ]
     },
     "execution_count": 121,
     "metadata": {},
     "output_type": "execute_result"
    }
   ],
   "source": [
    "clean_city_df.isna().sum()"
   ]
  },
  {
   "cell_type": "code",
   "execution_count": 123,
   "id": "06318df3-b668-4dff-9f46-af37142749bd",
   "metadata": {},
   "outputs": [
    {
     "name": "stderr",
     "output_type": "stream",
     "text": [
      "C:\\Users\\ASUS\\AppData\\Local\\Temp\\ipykernel_21512\\855464108.py:1: SettingWithCopyWarning: \n",
      "A value is trying to be set on a copy of a slice from a DataFrame.\n",
      "Try using .loc[row_indexer,col_indexer] = value instead\n",
      "\n",
      "See the caveats in the documentation: https://pandas.pydata.org/pandas-docs/stable/user_guide/indexing.html#returning-a-view-versus-a-copy\n",
      "  clean_city_df[\"hotel_id\"] = clean_city_df[\"hotel_id\"].astype(int)\n"
     ]
    }
   ],
   "source": [
    "clean_city_df[\"hotel_id\"] = clean_city_df[\"hotel_id\"].astype(int)"
   ]
  },
  {
   "cell_type": "code",
   "execution_count": 125,
   "id": "fbdbf2de-d683-4f9d-912c-605465b92aec",
   "metadata": {},
   "outputs": [
    {
     "data": {
      "text/html": [
       "<div>\n",
       "<style scoped>\n",
       "    .dataframe tbody tr th:only-of-type {\n",
       "        vertical-align: middle;\n",
       "    }\n",
       "\n",
       "    .dataframe tbody tr th {\n",
       "        vertical-align: top;\n",
       "    }\n",
       "\n",
       "    .dataframe thead th {\n",
       "        text-align: right;\n",
       "    }\n",
       "</style>\n",
       "<table border=\"1\" class=\"dataframe\">\n",
       "  <thead>\n",
       "    <tr style=\"text-align: right;\">\n",
       "      <th></th>\n",
       "      <th>hotel_id</th>\n",
       "      <th>city</th>\n",
       "    </tr>\n",
       "  </thead>\n",
       "  <tbody>\n",
       "    <tr>\n",
       "      <th>0</th>\n",
       "      <td>3</td>\n",
       "      <td>Gurgaon</td>\n",
       "    </tr>\n",
       "    <tr>\n",
       "      <th>1</th>\n",
       "      <td>13</td>\n",
       "      <td>Gurgaon</td>\n",
       "    </tr>\n",
       "    <tr>\n",
       "      <th>2</th>\n",
       "      <td>16</td>\n",
       "      <td>Gurgaon</td>\n",
       "    </tr>\n",
       "    <tr>\n",
       "      <th>3</th>\n",
       "      <td>21</td>\n",
       "      <td>Gurgaon</td>\n",
       "    </tr>\n",
       "    <tr>\n",
       "      <th>4</th>\n",
       "      <td>25</td>\n",
       "      <td>Delhi</td>\n",
       "    </tr>\n",
       "  </tbody>\n",
       "</table>\n",
       "</div>"
      ],
      "text/plain": [
       "   hotel_id     city\n",
       "0         3  Gurgaon\n",
       "1        13  Gurgaon\n",
       "2        16  Gurgaon\n",
       "3        21  Gurgaon\n",
       "4        25    Delhi"
      ]
     },
     "execution_count": 125,
     "metadata": {},
     "output_type": "execute_result"
    }
   ],
   "source": [
    "clean_city_df.head()"
   ]
  },
  {
   "cell_type": "code",
   "execution_count": 131,
   "id": "a6107b31-1aeb-4069-a80d-e9d55fe55c41",
   "metadata": {},
   "outputs": [],
   "source": [
    "clean_city_df.to_csv(\"oyo_city_cleaned.csv\", index=False)"
   ]
  },
  {
   "cell_type": "markdown",
   "id": "96a56308-20a9-4413-8f91-bed0e5989766",
   "metadata": {},
   "source": [
    "### sales_df"
   ]
  },
  {
   "cell_type": "code",
   "execution_count": null,
   "id": "d6d7b65f-2415-49a7-9402-ba762dea11c0",
   "metadata": {},
   "outputs": [],
   "source": [
    "sales_df = pd.read_csv('oyo_sales.csv')"
   ]
  },
  {
   "cell_type": "code",
   "execution_count": null,
   "id": "9d6751ae-e10f-4df1-9e40-e8ec3590e0ca",
   "metadata": {},
   "outputs": [],
   "source": [
    "sales_df.head()"
   ]
  },
  {
   "cell_type": "code",
   "execution_count": 97,
   "id": "d62140bc-e656-46c2-9543-637d6e0096a0",
   "metadata": {},
   "outputs": [
    {
     "name": "stdout",
     "output_type": "stream",
     "text": [
      "2889\n"
     ]
    }
   ],
   "source": [
    "print(len(sales_df))"
   ]
  },
  {
   "cell_type": "code",
   "execution_count": 99,
   "id": "4af7fb94-61dd-4a78-982d-391f2ccaec3a",
   "metadata": {},
   "outputs": [
    {
     "name": "stdout",
     "output_type": "stream",
     "text": [
      "booking_id          int64\n",
      "customer_id         int64\n",
      "status             object\n",
      "check_in           object\n",
      "check_out          object\n",
      "no_of_rooms         int64\n",
      "hotel_id            int64\n",
      "amount              int64\n",
      "discount            int64\n",
      "date_of_booking    object\n",
      "dtype: object\n"
     ]
    }
   ],
   "source": [
    "print(sales_df.dtypes)"
   ]
  },
  {
   "cell_type": "code",
   "execution_count": 101,
   "id": "25de72b7-c6d1-436d-96e0-3c2c9394b831",
   "metadata": {},
   "outputs": [
    {
     "data": {
      "text/plain": [
       "booking_id         0\n",
       "customer_id        0\n",
       "status             0\n",
       "check_in           0\n",
       "check_out          0\n",
       "no_of_rooms        0\n",
       "hotel_id           0\n",
       "amount             0\n",
       "discount           0\n",
       "date_of_booking    0\n",
       "dtype: int64"
      ]
     },
     "execution_count": 101,
     "metadata": {},
     "output_type": "execute_result"
    }
   ],
   "source": [
    "sales_df.isnull().sum()"
   ]
  }
 ],
 "metadata": {
  "kernelspec": {
   "display_name": "Python [conda env:base] *",
   "language": "python",
   "name": "conda-base-py"
  },
  "language_info": {
   "codemirror_mode": {
    "name": "ipython",
    "version": 3
   },
   "file_extension": ".py",
   "mimetype": "text/x-python",
   "name": "python",
   "nbconvert_exporter": "python",
   "pygments_lexer": "ipython3",
   "version": "3.11.7"
  }
 },
 "nbformat": 4,
 "nbformat_minor": 5
}
