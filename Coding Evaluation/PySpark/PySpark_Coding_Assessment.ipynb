{
  "cells": [
    {
      "cell_type": "markdown",
      "source": [
        "Dataset Name: **Northwind Traders Database**\n",
        "\n",
        "Kaggle Link: https://www.kaggle.com/datasets/jealousleopard/northwind\n",
        "\n",
        "Why this dataset?\n",
        "\n",
        "- Contains 8 related tables (perfect for joins)\n",
        "- Medium-sized dataset (realistic for practice)\n",
        "- Classic relational database structure\n",
        "- Includes customers, orders, products, employees, etc."
      ],
      "metadata": {
        "id": "sppYscoHrcMc"
      }
    },
    {
      "cell_type": "markdown",
      "source": [
        "Dataset Tables:\n",
        "Customers - Customer information\n",
        "\n",
        "- `Orders` - Order headers\n",
        "- `OrderDetails` - Order line items\n",
        "- `Products` - Product information\n",
        "- `Employees` - Employee data\n",
        "- `Categories` - Product categories\n",
        "- `Shippers` - Shipping companies"
      ],
      "metadata": {
        "id": "6wvPbcggroPN"
      }
    },
    {
      "cell_type": "markdown",
      "source": [
        " ## Initialize Spark Session and Load Data"
      ],
      "metadata": {
        "id": "ZB9oDewsuRfm"
      }
    },
    {
      "cell_type": "code",
      "source": [
        "from pyspark.sql import SparkSession\n",
        "from pyspark.sql.functions import *\n",
        "from pyspark.sql.window import Window\n",
        "\n",
        "spark = SparkSession.builder \\\n",
        "    .appName(\"NorthwindAnalysis\") \\\n",
        "    .getOrCreate()"
      ],
      "metadata": {
        "id": "RjK9z54hrnoU"
      },
      "execution_count": 24,
      "outputs": []
    },
    {
      "cell_type": "code",
      "source": [
        "# Load all tables\n",
        "customers = spark.read.csv(\"customers.csv\", header=True, inferSchema=True)\n",
        "orders = spark.read.csv(\"orders.csv\", header=True, inferSchema=True)\n",
        "order_details = spark.read.csv(\"order_details.csv\", header=True, inferSchema=True)\n",
        "products = spark.read.csv(\"products.csv\", header=True, inferSchema=True)\n",
        "employees = spark.read.csv(\"employees.csv\", header=True, inferSchema=True)\n",
        "categories = spark.read.csv(\"categories.csv\", header=True, inferSchema=True)\n",
        "shippers = spark.read.csv(\"shippers.csv\", header=True, inferSchema=True)\n",
        "# suppliers = spark.read.csv(\"suppliers.csv\", header=True, inferSchema=True)"
      ],
      "metadata": {
        "id": "jFJw96ZxuAG8"
      },
      "execution_count": 25,
      "outputs": []
    },
    {
      "cell_type": "markdown",
      "source": [
        "## Transformation Examples with Northwind Data"
      ],
      "metadata": {
        "id": "J80yr9ltuUse"
      }
    },
    {
      "cell_type": "markdown",
      "source": [
        " Basic Transformations"
      ],
      "metadata": {
        "id": "CwA1OhIxuZ_m"
      }
    },
    {
      "cell_type": "code",
      "source": [
        "# Filter - German customers\n",
        "german_customers = customers.filter(col(\"Country\") == \"Germany\")\n",
        "\n",
        "german_customers.show(5)"
      ],
      "metadata": {
        "id": "9ABlI-M4uOJd",
        "colab": {
          "base_uri": "https://localhost:8080/"
        },
        "outputId": "1ec5d099-4d51-4232-d41b-318eb8408b8d"
      },
      "execution_count": 26,
      "outputs": [
        {
          "output_type": "stream",
          "name": "stdout",
          "text": [
            "+----------+--------------------+-------------+--------------------+-----------+-------+\n",
            "|customerID|         companyName|  contactName|        contactTitle|       city|country|\n",
            "+----------+--------------------+-------------+--------------------+-----------+-------+\n",
            "|     ALFKI| Alfreds Futterkiste| Maria Anders|Sales Representative|     Berlin|Germany|\n",
            "|     BLAUS|Blauer See Delika...|   Hanna Moos|Sales Representative|   Mannheim|Germany|\n",
            "|     DRACD|Drachenblut Delik...| Sven Ottlieb| Order Administrator|     Aachen|Germany|\n",
            "|     FRANK|      Frankenversand|Peter Franken|   Marketing Manager|    M�nchen|Germany|\n",
            "|     KOENE|     K�niglich Essen|Philip Cramer|     Sales Associate|Brandenburg|Germany|\n",
            "+----------+--------------------+-------------+--------------------+-----------+-------+\n",
            "only showing top 5 rows\n",
            "\n"
          ]
        }
      ]
    },
    {
      "cell_type": "code",
      "source": [
        "# Select - Specific columns\n",
        "customer_contact = customers.select(\"CustomerID\", \"CompanyName\", \"ContactName\")\n",
        "\n",
        "customer_contact.show(5)"
      ],
      "metadata": {
        "colab": {
          "base_uri": "https://localhost:8080/"
        },
        "id": "jpGucHjs0-0g",
        "outputId": "ff84ce90-df97-4330-ee1c-60195514d67a"
      },
      "execution_count": 27,
      "outputs": [
        {
          "output_type": "stream",
          "name": "stdout",
          "text": [
            "+----------+--------------------+------------------+\n",
            "|CustomerID|         CompanyName|       ContactName|\n",
            "+----------+--------------------+------------------+\n",
            "|     ALFKI| Alfreds Futterkiste|      Maria Anders|\n",
            "|     ANATR|Ana Trujillo Empa...|      Ana Trujillo|\n",
            "|     ANTON|Antonio Moreno Ta...|    Antonio Moreno|\n",
            "|     AROUT|     Around the Horn|      Thomas Hardy|\n",
            "|     BERGS|  Berglunds snabbk�p|Christina Berglund|\n",
            "+----------+--------------------+------------------+\n",
            "only showing top 5 rows\n",
            "\n"
          ]
        }
      ]
    },
    {
      "cell_type": "code",
      "source": [
        "# WithColumn - Calculate order age\n",
        "from pyspark.sql.functions import datediff, current_date\n",
        "orders_with_age = orders.withColumn(\n",
        "    \"OrderAgeDays\",\n",
        "    datediff(current_date(), col(\"OrderDate\"))\n",
        ")\n",
        "\n",
        "orders_with_age.show(5)"
      ],
      "metadata": {
        "colab": {
          "base_uri": "https://localhost:8080/"
        },
        "id": "mVpc-xDM0-yA",
        "outputId": "725a863c-ba18-4e51-d618-e5cd0adee284"
      },
      "execution_count": 28,
      "outputs": [
        {
          "output_type": "stream",
          "name": "stdout",
          "text": [
            "+-------+----------+----------+----------+------------+-----------+---------+-------+------------+\n",
            "|orderID|customerID|employeeID| orderDate|requiredDate|shippedDate|shipperID|freight|OrderAgeDays|\n",
            "+-------+----------+----------+----------+------------+-----------+---------+-------+------------+\n",
            "|  10248|     VINET|         5|2013-07-04|  2013-08-01| 2013-07-16|        3|  32.38|        4415|\n",
            "|  10249|     TOMSP|         6|2013-07-05|  2013-08-16| 2013-07-10|        1|  11.61|        4414|\n",
            "|  10250|     HANAR|         4|2013-07-08|  2013-08-05| 2013-07-12|        2|  65.83|        4411|\n",
            "|  10251|     VICTE|         3|2013-07-08|  2013-08-05| 2013-07-15|        1|  41.34|        4411|\n",
            "|  10252|     SUPRD|         4|2013-07-09|  2013-08-06| 2013-07-11|        2|   51.3|        4410|\n",
            "+-------+----------+----------+----------+------------+-----------+---------+-------+------------+\n",
            "only showing top 5 rows\n",
            "\n"
          ]
        }
      ]
    },
    {
      "cell_type": "code",
      "source": [
        "# Drop - Remove unnecessary columns\n",
        "products_clean = products.drop(\"QuantityPerUnit\")\n",
        "products_clean.show(5)"
      ],
      "metadata": {
        "colab": {
          "base_uri": "https://localhost:8080/"
        },
        "id": "7iFgyFbI0-uw",
        "outputId": "1a643e8a-7057-4e5c-e502-873dcfa6fda1"
      },
      "execution_count": 29,
      "outputs": [
        {
          "output_type": "stream",
          "name": "stdout",
          "text": [
            "+---------+--------------------+---------+------------+----------+\n",
            "|productID|         productName|unitPrice|discontinued|categoryID|\n",
            "+---------+--------------------+---------+------------+----------+\n",
            "|        1|                Chai|     18.0|           0|         1|\n",
            "|        2|               Chang|     19.0|           0|         1|\n",
            "|        3|       Aniseed Syrup|     10.0|           0|         2|\n",
            "|        4|Chef Anton's Caju...|     22.0|           0|         2|\n",
            "|        5|Chef Anton's Gumb...|    21.35|           1|         2|\n",
            "+---------+--------------------+---------+------------+----------+\n",
            "only showing top 5 rows\n",
            "\n"
          ]
        }
      ]
    },
    {
      "cell_type": "code",
      "source": [],
      "metadata": {
        "id": "-75_x02h0-so"
      },
      "execution_count": 29,
      "outputs": []
    },
    {
      "cell_type": "markdown",
      "source": [
        "Aggregations"
      ],
      "metadata": {
        "id": "B_lM9HvvugNX"
      }
    },
    {
      "cell_type": "code",
      "source": [
        "# Product sales aggregation\n",
        "product_sales = order_details.groupBy(\"ProductID\") \\\n",
        "    .agg(\n",
        "        sum(\"Quantity\").alias(\"TotalUnitsSold\"),\n",
        "        sum(col(\"Quantity\") * col(\"UnitPrice\")).alias(\"TotalRevenue\"),\n",
        "        avg(\"UnitPrice\").alias(\"AvgUnitPrice\")\n",
        "    )\n",
        "\n",
        "product_sales.show(5)"
      ],
      "metadata": {
        "id": "aQxAXC8hubtG",
        "colab": {
          "base_uri": "https://localhost:8080/"
        },
        "outputId": "156f2c6b-0720-4739-aa7e-86629015b480"
      },
      "execution_count": 30,
      "outputs": [
        {
          "output_type": "stream",
          "name": "stdout",
          "text": [
            "+---------+--------------+------------------+------------------+\n",
            "|ProductID|TotalUnitsSold|      TotalRevenue|      AvgUnitPrice|\n",
            "+---------+--------------+------------------+------------------+\n",
            "|       31|          1397|           16172.5|11.666666666666666|\n",
            "|       65|           745|14606.999999999998|19.456249999999997|\n",
            "|       53|           722|           21510.2|30.159999999999982|\n",
            "|       34|           506|            6678.0|12.968421052631578|\n",
            "|       28|           640|           26865.6|41.975757575757555|\n",
            "+---------+--------------+------------------+------------------+\n",
            "only showing top 5 rows\n",
            "\n"
          ]
        }
      ]
    },
    {
      "cell_type": "code",
      "source": [
        "# Employee order count\n",
        "employee_performance = orders.groupBy(\"EmployeeID\") \\\n",
        "    .agg(\n",
        "        count(\"OrderID\").alias(\"OrderCount\"),\n",
        "        min(\"OrderDate\").alias(\"FirstOrderDate\"),\n",
        "        max(\"OrderDate\").alias(\"LastOrderDate\")\n",
        "    )\n",
        "\n",
        "employee_performance.show(5)"
      ],
      "metadata": {
        "colab": {
          "base_uri": "https://localhost:8080/"
        },
        "id": "v10yxBro1MF6",
        "outputId": "fc25116a-a5e0-4dde-879f-d46b5e96b63e"
      },
      "execution_count": 31,
      "outputs": [
        {
          "output_type": "stream",
          "name": "stdout",
          "text": [
            "+----------+----------+--------------+-------------+\n",
            "|EmployeeID|OrderCount|FirstOrderDate|LastOrderDate|\n",
            "+----------+----------+--------------+-------------+\n",
            "|         1|       123|    2013-07-17|   2015-05-06|\n",
            "|         6|        67|    2013-07-05|   2015-04-23|\n",
            "|         3|       127|    2013-07-08|   2015-04-30|\n",
            "|         5|        42|    2013-07-04|   2015-04-22|\n",
            "|         9|        43|    2013-07-12|   2015-04-29|\n",
            "+----------+----------+--------------+-------------+\n",
            "only showing top 5 rows\n",
            "\n"
          ]
        }
      ]
    },
    {
      "cell_type": "markdown",
      "source": [
        "Join Operations"
      ],
      "metadata": {
        "id": "qWoasIImujWX"
      }
    },
    {
      "cell_type": "code",
      "source": [
        "# Complete order information\n",
        "complete_orders = orders.join(order_details, \"OrderID\") \\\n",
        "                      .join(products.withColumnRenamed(\"unitPrice\", \"product_unitPrice\"), \"ProductID\") \\\n",
        "                      .join(customers.withColumnRenamed(\"country\", \"customer_country\"), \"CustomerID\") \\\n",
        "                      .join(employees.withColumnRenamed(\"city\", \"employee_city\").withColumnRenamed(\"country\", \"employee_country\"), \"EmployeeID\")\n",
        "\n",
        "complete_orders.show(5)"
      ],
      "metadata": {
        "id": "3sjLvr_yuh6m",
        "colab": {
          "base_uri": "https://localhost:8080/"
        },
        "outputId": "03d0dde7-3696-42ec-c6aa-747cbb3450bd"
      },
      "execution_count": 32,
      "outputs": [
        {
          "output_type": "stream",
          "name": "stdout",
          "text": [
            "+----------+----------+---------+-------+----------+------------+-----------+---------+-------+---------+--------+--------+--------------------+----------------+-----------------+------------+----------+--------------------+-------------+------------------+-------+----------------+---------------+--------------------+-------------+----------------+---------+\n",
            "|employeeID|customerID|productID|orderID| orderDate|requiredDate|shippedDate|shipperID|freight|unitPrice|quantity|discount|         productName| quantityPerUnit|product_unitPrice|discontinued|categoryID|         companyName|  contactName|      contactTitle|   city|customer_country|   employeeName|               title|employee_city|employee_country|reportsTo|\n",
            "+----------+----------+---------+-------+----------+------------+-----------+---------+-------+---------+--------+--------+--------------------+----------------+-----------------+------------+----------+--------------------+-------------+------------------+-------+----------------+---------------+--------------------+-------------+----------------+---------+\n",
            "|         5|     VINET|       72|  10248|2013-07-04|  2013-08-01| 2013-07-16|        3|  32.38|     34.8|       5|     0.0|Mozzarella di Gio...|24 - 200 g pkgs.|             34.8|           0|         4|Vins et alcools C...| Paul Henriot|Accounting Manager|  Reims|          France|Steven Buchanan|       Sales Manager|       London|              UK|        2|\n",
            "|         5|     VINET|       42|  10248|2013-07-04|  2013-08-01| 2013-07-16|        3|  32.38|      9.8|      10|     0.0|Singaporean Hokki...| 32 - 1 kg pkgs.|             14.0|           1|         5|Vins et alcools C...| Paul Henriot|Accounting Manager|  Reims|          France|Steven Buchanan|       Sales Manager|       London|              UK|        2|\n",
            "|         5|     VINET|       11|  10248|2013-07-04|  2013-08-01| 2013-07-16|        3|  32.38|     14.0|      12|     0.0|      Queso Cabrales|       1 kg pkg.|             21.0|           0|         4|Vins et alcools C...| Paul Henriot|Accounting Manager|  Reims|          France|Steven Buchanan|       Sales Manager|       London|              UK|        2|\n",
            "|         6|     TOMSP|       51|  10249|2013-07-05|  2013-08-16| 2013-07-10|        1|  11.61|     42.4|      40|     0.0|Manjimup Dried Ap...|50 - 300 g pkgs.|             53.0|           0|         7|  Toms Spezialit�ten|Karin Josephs| Marketing Manager|M�nster|         Germany| Michael Suyama|Sales Representative|       London|              UK|        5|\n",
            "|         6|     TOMSP|       14|  10249|2013-07-05|  2013-08-16| 2013-07-10|        1|  11.61|     18.6|       9|     0.0|                Tofu|40 - 100 g pkgs.|            23.25|           0|         7|  Toms Spezialit�ten|Karin Josephs| Marketing Manager|M�nster|         Germany| Michael Suyama|Sales Representative|       London|              UK|        5|\n",
            "+----------+----------+---------+-------+----------+------------+-----------+---------+-------+---------+--------+--------+--------------------+----------------+-----------------+------------+----------+--------------------+-------------+------------------+-------+----------------+---------------+--------------------+-------------+----------------+---------+\n",
            "only showing top 5 rows\n",
            "\n"
          ]
        }
      ]
    },
    {
      "cell_type": "code",
      "source": [
        "# Products with category names\n",
        "products_with_categories = products.join(categories, \"CategoryID\")\n",
        "\n",
        "products_with_categories.show(5)"
      ],
      "metadata": {
        "colab": {
          "base_uri": "https://localhost:8080/"
        },
        "id": "jWzmdAQ61V4K",
        "outputId": "83ab4113-3c63-4278-8e66-e5bd5b0fee45"
      },
      "execution_count": 33,
      "outputs": [
        {
          "output_type": "stream",
          "name": "stdout",
          "text": [
            "+----------+---------+--------------------+-------------------+---------+------------+------------+--------------------+\n",
            "|categoryID|productID|         productName|    quantityPerUnit|unitPrice|discontinued|categoryName|         description|\n",
            "+----------+---------+--------------------+-------------------+---------+------------+------------+--------------------+\n",
            "|         1|        1|                Chai| 10 boxes x 20 bags|     18.0|           0|   Beverages|Soft drinks, coff...|\n",
            "|         1|        2|               Chang| 24 - 12 oz bottles|     19.0|           0|   Beverages|Soft drinks, coff...|\n",
            "|         2|        3|       Aniseed Syrup|12 - 550 ml bottles|     10.0|           0|  Condiments|Sweet and savory ...|\n",
            "|         2|        4|Chef Anton's Caju...|     48 - 6 oz jars|     22.0|           0|  Condiments|Sweet and savory ...|\n",
            "|         2|        5|Chef Anton's Gumb...|           36 boxes|    21.35|           1|  Condiments|Sweet and savory ...|\n",
            "+----------+---------+--------------------+-------------------+---------+------------+------------+--------------------+\n",
            "only showing top 5 rows\n",
            "\n"
          ]
        }
      ]
    },
    {
      "cell_type": "code",
      "source": [
        "# Left join to find unsold products\n",
        "unsold_products = products.join(\n",
        "    order_details,\n",
        "    \"ProductID\",\n",
        "    \"left\"\n",
        ").filter(col(\"OrderID\").isNull())\n",
        "\n",
        "\n",
        "unsold_products.show(5)"
      ],
      "metadata": {
        "colab": {
          "base_uri": "https://localhost:8080/"
        },
        "id": "1mR_seO81Voi",
        "outputId": "c2b4bdd1-ec72-4af7-e786-5faf6d1adcc9"
      },
      "execution_count": 34,
      "outputs": [
        {
          "output_type": "stream",
          "name": "stdout",
          "text": [
            "+---------+-----------+---------------+---------+------------+----------+-------+---------+--------+--------+\n",
            "|productID|productName|quantityPerUnit|unitPrice|discontinued|categoryID|orderID|unitPrice|quantity|discount|\n",
            "+---------+-----------+---------------+---------+------------+----------+-------+---------+--------+--------+\n",
            "+---------+-----------+---------------+---------+------------+----------+-------+---------+--------+--------+\n",
            "\n"
          ]
        }
      ]
    },
    {
      "cell_type": "code",
      "source": [],
      "metadata": {
        "id": "kjuhbGJe1Vgi"
      },
      "execution_count": 34,
      "outputs": []
    },
    {
      "cell_type": "markdown",
      "source": [
        "Window Functions"
      ],
      "metadata": {
        "id": "t73Ji_H3umff"
      }
    },
    {
      "cell_type": "code",
      "source": [
        "# Customer order ranking\n",
        "customer_window = Window.partitionBy(\"CustomerID\").orderBy(col(\"OrderDate\").desc())\n",
        "customer_orders_ranked = orders.withColumn(\n",
        "    \"OrderRank\",\n",
        "    rank().over(customer_window)\n",
        ")\n",
        "\n",
        "customer_orders_ranked.show(5)"
      ],
      "metadata": {
        "id": "uXdsASRouk93",
        "colab": {
          "base_uri": "https://localhost:8080/"
        },
        "outputId": "55f90298-b2a6-4803-9ebd-89e281938994"
      },
      "execution_count": 36,
      "outputs": [
        {
          "output_type": "stream",
          "name": "stdout",
          "text": [
            "+-------+----------+----------+----------+------------+-----------+---------+-------+---------+\n",
            "|orderID|customerID|employeeID| orderDate|requiredDate|shippedDate|shipperID|freight|OrderRank|\n",
            "+-------+----------+----------+----------+------------+-----------+---------+-------+---------+\n",
            "|  11011|     ALFKI|         3|2015-04-09|  2015-05-07| 2015-04-13|        1|   1.21|        1|\n",
            "|  10952|     ALFKI|         1|2015-03-16|  2015-04-27| 2015-03-24|        1|  40.42|        2|\n",
            "|  10835|     ALFKI|         1|2015-01-15|  2015-02-12| 2015-01-21|        3|  69.53|        3|\n",
            "|  10702|     ALFKI|         4|2014-10-13|  2014-11-24| 2014-10-21|        1|  23.94|        4|\n",
            "|  10692|     ALFKI|         4|2014-10-03|  2014-10-31| 2014-10-13|        2|  61.02|        5|\n",
            "+-------+----------+----------+----------+------------+-----------+---------+-------+---------+\n",
            "only showing top 5 rows\n",
            "\n"
          ]
        }
      ]
    },
    {
      "cell_type": "code",
      "source": [
        "# Monthly sales growth\n",
        "monthly_sales = orders.join(order_details, \"OrderID\") \\\n",
        "    .groupBy(month(\"OrderDate\").alias(\"Month\")) \\\n",
        "    .agg(sum(col(\"Quantity\") * col(\"UnitPrice\")).alias(\"MonthlySales\"))\n",
        "\n",
        "sales_window = Window.orderBy(\"Month\")\n",
        "monthly_growth = monthly_sales.withColumn(\n",
        "    \"PrevMonthSales\",\n",
        "    lag(\"MonthlySales\").over(sales_window)\n",
        ").withColumn(\n",
        "    \"GrowthPct\",\n",
        "    (col(\"MonthlySales\") - col(\"PrevMonthSales\")) / col(\"PrevMonthSales\") * 100\n",
        ")\n",
        "\n",
        "monthly_growth.show(5)"
      ],
      "metadata": {
        "colab": {
          "base_uri": "https://localhost:8080/"
        },
        "id": "Fs3OTaCc1iG7",
        "outputId": "a93ea9ab-7fd8-44fd-ea94-68759dc31d1a"
      },
      "execution_count": 37,
      "outputs": [
        {
          "output_type": "stream",
          "name": "stdout",
          "text": [
            "+-----+------------------+------------------+-------------------+\n",
            "|Month|      MonthlySales|    PrevMonthSales|          GrowthPct|\n",
            "+-----+------------------+------------------+-------------------+\n",
            "|    1|         167547.52|              NULL|               NULL|\n",
            "|    2|145769.15000000002|         167547.52|-12.998324296295143|\n",
            "|    3|         149805.35|145769.15000000002| 2.7688986318435567|\n",
            "|    4|         190329.95|         149805.35| 27.051503834809644|\n",
            "|    5|          76722.36|         190329.95|-59.689812349554025|\n",
            "+-----+------------------+------------------+-------------------+\n",
            "only showing top 5 rows\n",
            "\n"
          ]
        }
      ]
    },
    {
      "cell_type": "markdown",
      "source": [
        "## Action Examples"
      ],
      "metadata": {
        "id": "5_x3mC3ZupyQ"
      }
    },
    {
      "cell_type": "code",
      "source": [
        "# Show results\n",
        "complete_orders.show(5)\n",
        "\n",
        "# Count records\n",
        "print(f\"Total customers: {customers.count()}\")\n",
        "print(f\"Total orders: {orders.count()}\")\n",
        "\n",
        "# Collect top products to driver\n",
        "top_products = product_sales.orderBy(col(\"TotalRevenue\").desc()).take(5)\n",
        "\n",
        "# Save results\n",
        "complete_orders.write.mode(\"overwrite\").parquet(\"output/complete_orders.parquet\")\n",
        "product_sales.write.mode(\"overwrite\").csv(\"output/product_sales.csv\", header=True)"
      ],
      "metadata": {
        "colab": {
          "base_uri": "https://localhost:8080/"
        },
        "id": "dZOEyLpFuqvg",
        "outputId": "d343488c-e5be-4d7b-e5be-140df3d4bce2"
      },
      "execution_count": 38,
      "outputs": [
        {
          "output_type": "stream",
          "name": "stdout",
          "text": [
            "+----------+----------+---------+-------+----------+------------+-----------+---------+-------+---------+--------+--------+--------------------+----------------+-----------------+------------+----------+--------------------+-------------+------------------+-------+----------------+---------------+--------------------+-------------+----------------+---------+\n",
            "|employeeID|customerID|productID|orderID| orderDate|requiredDate|shippedDate|shipperID|freight|unitPrice|quantity|discount|         productName| quantityPerUnit|product_unitPrice|discontinued|categoryID|         companyName|  contactName|      contactTitle|   city|customer_country|   employeeName|               title|employee_city|employee_country|reportsTo|\n",
            "+----------+----------+---------+-------+----------+------------+-----------+---------+-------+---------+--------+--------+--------------------+----------------+-----------------+------------+----------+--------------------+-------------+------------------+-------+----------------+---------------+--------------------+-------------+----------------+---------+\n",
            "|         5|     VINET|       72|  10248|2013-07-04|  2013-08-01| 2013-07-16|        3|  32.38|     34.8|       5|     0.0|Mozzarella di Gio...|24 - 200 g pkgs.|             34.8|           0|         4|Vins et alcools C...| Paul Henriot|Accounting Manager|  Reims|          France|Steven Buchanan|       Sales Manager|       London|              UK|        2|\n",
            "|         5|     VINET|       42|  10248|2013-07-04|  2013-08-01| 2013-07-16|        3|  32.38|      9.8|      10|     0.0|Singaporean Hokki...| 32 - 1 kg pkgs.|             14.0|           1|         5|Vins et alcools C...| Paul Henriot|Accounting Manager|  Reims|          France|Steven Buchanan|       Sales Manager|       London|              UK|        2|\n",
            "|         5|     VINET|       11|  10248|2013-07-04|  2013-08-01| 2013-07-16|        3|  32.38|     14.0|      12|     0.0|      Queso Cabrales|       1 kg pkg.|             21.0|           0|         4|Vins et alcools C...| Paul Henriot|Accounting Manager|  Reims|          France|Steven Buchanan|       Sales Manager|       London|              UK|        2|\n",
            "|         6|     TOMSP|       51|  10249|2013-07-05|  2013-08-16| 2013-07-10|        1|  11.61|     42.4|      40|     0.0|Manjimup Dried Ap...|50 - 300 g pkgs.|             53.0|           0|         7|  Toms Spezialit�ten|Karin Josephs| Marketing Manager|M�nster|         Germany| Michael Suyama|Sales Representative|       London|              UK|        5|\n",
            "|         6|     TOMSP|       14|  10249|2013-07-05|  2013-08-16| 2013-07-10|        1|  11.61|     18.6|       9|     0.0|                Tofu|40 - 100 g pkgs.|            23.25|           0|         7|  Toms Spezialit�ten|Karin Josephs| Marketing Manager|M�nster|         Germany| Michael Suyama|Sales Representative|       London|              UK|        5|\n",
            "+----------+----------+---------+-------+----------+------------+-----------+---------+-------+---------+--------+--------+--------------------+----------------+-----------------+------------+----------+--------------------+-------------+------------------+-------+----------------+---------------+--------------------+-------------+----------------+---------+\n",
            "only showing top 5 rows\n",
            "\n",
            "Total customers: 91\n",
            "Total orders: 830\n"
          ]
        }
      ]
    },
    {
      "cell_type": "markdown",
      "source": [
        "## Complex Business Queries"
      ],
      "metadata": {
        "id": "gwg3Bet7uwv4"
      }
    },
    {
      "cell_type": "markdown",
      "source": [
        "Top 5 Customers by Revenue"
      ],
      "metadata": {
        "id": "ZiOib2KXu1Qx"
      }
    },
    {
      "cell_type": "code",
      "source": [
        "top_customers = complete_orders.groupBy(\n",
        "    \"CustomerID\", \"CompanyName\"\n",
        ").agg(\n",
        "    sum(col(\"Quantity\") * col(\"UnitPrice\")).alias(\"TotalSpent\"),\n",
        "    countDistinct(\"OrderID\").alias(\"OrderCount\")\n",
        ").orderBy(\n",
        "    col(\"TotalSpent\").desc()\n",
        ").limit(5)\n",
        "top_customers.show()"
      ],
      "metadata": {
        "id": "CMrG7-pluspw",
        "colab": {
          "base_uri": "https://localhost:8080/"
        },
        "outputId": "df3eafa4-a7ea-4751-e637-d0a84f4356a7"
      },
      "execution_count": 39,
      "outputs": [
        {
          "output_type": "stream",
          "name": "stdout",
          "text": [
            "+----------+--------------------+------------------+----------+\n",
            "|CustomerID|         CompanyName|        TotalSpent|OrderCount|\n",
            "+----------+--------------------+------------------+----------+\n",
            "|     QUICK|          QUICK-Stop|         117483.39|        28|\n",
            "|     SAVEA|  Save-a-lot Markets|         115673.39|        31|\n",
            "|     ERNSH|        Ernst Handel|         113236.68|        30|\n",
            "|     HUNGO|Hungry Owl All-Ni...|57317.390000000014|        19|\n",
            "|     RATTC|Rattlesnake Canyo...|52245.899999999994|        18|\n",
            "+----------+--------------------+------------------+----------+\n",
            "\n"
          ]
        }
      ]
    },
    {
      "cell_type": "markdown",
      "source": [
        "Employee Sales Performance"
      ],
      "metadata": {
        "id": "-kTcccZMvXhN"
      }
    },
    {
      "cell_type": "code",
      "source": [
        "employee_sales = complete_orders.groupBy(\n",
        "    \"EmployeeID\",\n",
        "    \"employeeName\"\n",
        ").agg(\n",
        "    sum(col(\"Quantity\") * col(\"UnitPrice\")).alias(\"TotalSales\"),\n",
        "    countDistinct(\"OrderID\").alias(\"OrderCount\"),\n",
        "    avg(col(\"Quantity\") * col(\"UnitPrice\")).alias(\"AvgOrderValue\")\n",
        ").orderBy(\n",
        "    col(\"TotalSales\").desc()\n",
        ")\n",
        "employee_sales.show()"
      ],
      "metadata": {
        "id": "NUyshCZKu2iw",
        "colab": {
          "base_uri": "https://localhost:8080/"
        },
        "outputId": "b908485d-70d6-4287-b962-ec29dff84859"
      },
      "execution_count": 40,
      "outputs": [
        {
          "output_type": "stream",
          "name": "stdout",
          "text": [
            "+----------+----------------+------------------+----------+-----------------+\n",
            "|EmployeeID|    employeeName|        TotalSales|OrderCount|    AvgOrderValue|\n",
            "+----------+----------------+------------------+----------+-----------------+\n",
            "|         4|Margaret Peacock|250187.44999999998|       156|595.6844047619047|\n",
            "|         3| Janet Leverling|          213051.3|       127| 663.711214953271|\n",
            "|         1|   Nancy Davolio|202143.71000000002|       123|585.9237971014493|\n",
            "|         2|   Andrew Fuller|         177749.26|        96| 737.548796680498|\n",
            "|         7|     Robert King|141295.99000000002|        72|802.8181250000001|\n",
            "|         8|  Laura Callahan|         133301.03|       104|512.6962692307692|\n",
            "|         9|  Anne Dodsworth| 82963.99999999999|        43|775.3644859813082|\n",
            "|         6|  Michael Suyama| 78198.09999999999|        67|465.4648809523809|\n",
            "|         5| Steven Buchanan|          75567.75|        42|645.8782051282051|\n",
            "+----------+----------------+------------------+----------+-----------------+\n",
            "\n"
          ]
        }
      ]
    },
    {
      "cell_type": "markdown",
      "source": [
        "Product Category Analysis"
      ],
      "metadata": {
        "id": "4O3jMUTsvYnk"
      }
    },
    {
      "cell_type": "code",
      "source": [
        "category_performance = products_with_categories.join(\n",
        "    order_details.withColumnRenamed(\"unitPrice\", \"order_unitPrice\"), \"ProductID\"\n",
        ").groupBy(\n",
        "    \"CategoryID\", \"CategoryName\"\n",
        ").agg(\n",
        "    sum(col(\"Quantity\") * col(\"order_unitPrice\")).alias(\"CategoryRevenue\"),\n",
        "    avg(col(\"order_unitPrice\")).alias(\"AvgProductPrice\"),\n",
        "    countDistinct(\"ProductID\").alias(\"ProductCount\")\n",
        ")\n",
        "category_performance.show()"
      ],
      "metadata": {
        "id": "RG-Opa20vaht",
        "colab": {
          "base_uri": "https://localhost:8080/"
        },
        "outputId": "530692fc-03f2-4618-dd9d-5a68c1eb75ee"
      },
      "execution_count": 41,
      "outputs": [
        {
          "output_type": "stream",
          "name": "stdout",
          "text": [
            "+----------+----------------+------------------+------------------+------------+\n",
            "|CategoryID|    CategoryName|   CategoryRevenue|   AvgProductPrice|ProductCount|\n",
            "+----------+----------------+------------------+------------------+------------+\n",
            "|         7|         Produce|105268.59999999998| 35.19448529411767|           5|\n",
            "|         4|  Dairy Products|          251330.5|26.983060109289614|          10|\n",
            "|         8|         Seafood|         141623.09|  19.0629696969697|          12|\n",
            "|         1|       Beverages|286526.94999999995|29.236757425742578|          12|\n",
            "|         5|Grains & Cereals|          100726.8| 21.24642857142858|           7|\n",
            "|         3|     Confections|          177099.1| 22.60269461077844|          13|\n",
            "|         6|  Meat & Poultry|178188.80000000002|42.874739884393065|           6|\n",
            "|         2|      Condiments|         113694.75| 21.32083333333333|          12|\n",
            "+----------+----------------+------------------+------------------+------------+\n",
            "\n"
          ]
        }
      ]
    },
    {
      "cell_type": "code",
      "source": [],
      "metadata": {
        "id": "KXHQbPytv8Tn"
      },
      "execution_count": 41,
      "outputs": []
    },
    {
      "cell_type": "markdown",
      "source": [
        "---"
      ],
      "metadata": {
        "id": "OGLJ_SWc1roM"
      }
    },
    {
      "cell_type": "markdown",
      "metadata": {
        "id": "5fab199b"
      },
      "source": [
        "This notebook demonstrates various PySpark transformations and actions applied to the Northwind Traders database. The goal is to showcase common data manipulation techniques using Spark DataFrames.\n",
        "\n",
        "The dataset tables used include:\n",
        "- `Customers`\n",
        "- `Orders`\n",
        "- `OrderDetails`\n",
        "- `Products`\n",
        "- `Employees`\n",
        "- `Categories`\n",
        "- `Shippers`"
      ]
    },
    {
      "cell_type": "markdown",
      "metadata": {
        "id": "a0c41c28"
      },
      "source": [
        "### PySpark Transformations\n",
        "\n",
        "Transformations are lazy operations that define the data manipulation logic. They do not execute immediately but build a plan that is executed when an action is called.\n",
        "\n",
        "---\n",
        "\n",
        "#### Filtering Data\n",
        "\n",
        "Filtering selects rows based on a condition. Below is an example of filtering the `customers` DataFrame to get only customers from Germany.\n"
      ]
    },
    {
      "cell_type": "markdown",
      "metadata": {
        "id": "12fe6c37"
      },
      "source": [
        "#### Selecting Columns\n",
        "\n",
        "- Selecting chooses specific columns from a DataFrame. Here, we select the CustomerID, CompanyName, and ContactName from the `customers` DataFrame.\n",
        "\n"
      ]
    },
    {
      "cell_type": "markdown",
      "metadata": {
        "id": "0d021ef4"
      },
      "source": [
        "#### Adding New Columns (`withColumn`)\n",
        "\n",
        "- `withColumn` is used to add a new column to a DataFrame or replace an existing one. In this example, we calculate the age of each order in days.\n",
        "\n"
      ]
    },
    {
      "cell_type": "markdown",
      "metadata": {
        "id": "e671bc4e"
      },
      "source": [
        "#### Dropping Columns (`drop`)\n",
        "\n",
        "- The `drop` transformation removes specified columns from a DataFrame. Here, we remove the `QuantityPerUnit` column from the `products` DataFrame.\n",
        "\n",
        "---"
      ]
    },
    {
      "cell_type": "markdown",
      "metadata": {
        "id": "a5687a61"
      },
      "source": [
        "#### Aggregations (`groupBy` and `agg`)\n",
        "\n",
        "Aggregations are used to group data by one or more columns and then perform aggregate functions (like sum, count, average, min, max) on other columns.\n",
        "\n",
        "Below is an example of calculating total units sold, total revenue, and average unit price for each product.\n",
        "\n"
      ]
    },
    {
      "cell_type": "markdown",
      "metadata": {
        "id": "6d5bbc02"
      },
      "source": [
        "Here, we aggregate the `orders` DataFrame to find the order count, first order date, and last order date for each employee.\n",
        "\n",
        "---"
      ]
    },
    {
      "cell_type": "markdown",
      "metadata": {
        "id": "b1baa807"
      },
      "source": [
        "#### Join Operations\n",
        "\n",
        "Joins combine data from two or more DataFrames based on related columns. Different types of joins exist, such as inner, outer, left, and right joins.\n",
        "\n",
        "This example demonstrates joining multiple tables (`orders`, `order_details`, `products`, `customers`, `employees`) to create a comprehensive view of orders."
      ]
    },
    {
      "cell_type": "markdown",
      "metadata": {
        "id": "52e37cc7"
      },
      "source": [
        "This code joins `products` with `categories` to add category names to the product information."
      ]
    },
    {
      "cell_type": "markdown",
      "metadata": {
        "id": "15e9bc23"
      },
      "source": [
        "This example uses a left join to identify products that have not been sold by checking for null OrderID values in the joined result.\n",
        "\n",
        "---\n"
      ]
    },
    {
      "cell_type": "markdown",
      "metadata": {
        "id": "be23e56f"
      },
      "source": [
        "#### Window Functions\n",
        "\n",
        "Window functions perform calculations across a set of DataFrame rows that are related to the current row. They are used for tasks like ranking, calculating moving averages, and accessing previous or subsequent rows.\n",
        "\n",
        "This example uses a window function to rank orders for each customer based on the order date."
      ]
    },
    {
      "cell_type": "markdown",
      "metadata": {
        "id": "df77e8a8"
      },
      "source": [
        "This code calculates the monthly sales and then uses a window function (`lag`) to determine the previous month's sales and calculate the monthly growth percentage.\n",
        "\n",
        "---"
      ]
    },
    {
      "cell_type": "markdown",
      "metadata": {
        "id": "a6a27f76"
      },
      "source": [
        "### PySpark Actions\n",
        "\n",
        "Actions are operations that trigger the execution of the transformations plan and return a result to the driver program or write data to storage.\n",
        "\n",
        "#### Displaying Results (`show`)\n",
        "\n",
        "- The `show()` action displays the top rows of a DataFrame."
      ]
    },
    {
      "cell_type": "markdown",
      "metadata": {
        "id": "97f0e6e9"
      },
      "source": [
        "#### Counting Records (`count`)\n",
        "\n",
        "- The `count()` action returns the number of rows in a DataFrame."
      ]
    },
    {
      "cell_type": "markdown",
      "metadata": {
        "id": "7d8339b9"
      },
      "source": [
        "#### Collecting Data (`collect`, `take`)\n",
        "\n",
        "- Actions like `collect()` and `take()` return data from the DataFrame to the driver program. `collect()` brings all data (use with caution on large datasets), while `take(n)` brings the first `n` rows. Here, we collect the top 5 products by revenue."
      ]
    },
    {
      "cell_type": "markdown",
      "metadata": {
        "id": "bf12c69c"
      },
      "source": [
        "#### Saving Data (`write`)\n",
        "\n",
        "- The `write` action saves the contents of a DataFrame to various data sources (e.g., Parquet, CSV, JSON). The `mode(\"overwrite\")` option is used here to replace the file if it already exists."
      ]
    },
    {
      "cell_type": "code",
      "source": [],
      "metadata": {
        "id": "GXTqEshwzDBD"
      },
      "execution_count": null,
      "outputs": []
    }
  ],
  "metadata": {
    "colab": {
      "provenance": []
    },
    "kernelspec": {
      "display_name": "Python 3",
      "name": "python3"
    }
  },
  "nbformat": 4,
  "nbformat_minor": 0
}