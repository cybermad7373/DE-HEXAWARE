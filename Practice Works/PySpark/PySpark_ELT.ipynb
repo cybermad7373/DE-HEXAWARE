{
  "nbformat": 4,
  "nbformat_minor": 0,
  "metadata": {
    "colab": {
      "provenance": []
    },
    "kernelspec": {
      "name": "python3",
      "display_name": "Python 3"
    },
    "language_info": {
      "name": "python"
    }
  },
  "cells": [
    {
      "cell_type": "code",
      "execution_count": null,
      "metadata": {
        "id": "eify8XLf8gsz"
      },
      "outputs": [],
      "source": [
        "from pyspark.sql import SparkSession\n",
        "from pyspark.sql.functions import col, concat, lit, floor, rand\n",
        "\n",
        "# Initialize a Spark session\n",
        "spark = SparkSession.builder.appName(\"ComplexETL\").getOrCreate()\n"
      ]
    },
    {
      "cell_type": "code",
      "source": [
        "import pandas as pd\n",
        "\n",
        "# Create a sample DataFrame\n",
        "data = {\n",
        "    \"cust_id\": [1,2,3,4,5],\n",
        "    \"first_name\": [\"Arun\", \"Priya\", \"Kumar\", \"Divya\", \"Siva\"],\n",
        "    \"last_name\": [\"Kumar\", \"Sharma\", \"Rao\", \"Raj\", \"Moorthy\"],\n",
        "    \"cust_order\": [10, 12, 7, 15, 9],\n",
        "    \"cust_status\": [\"Active\", \"Inactive\", \"Active\", \"Active\", \"Inactive\"],\n",
        "}\n",
        "pdf = pd.DataFrame(data)\n",
        "sample_csv_path = \"sample_customers.csv\"\n",
        "pdf.to_csv(sample_csv_path, index=False)\n"
      ],
      "metadata": {
        "id": "xse_BXxu9-4O"
      },
      "execution_count": null,
      "outputs": []
    },
    {
      "cell_type": "code",
      "source": [
        "source_path = sample_csv_path                  # Demo source CSV\n",
        "target_path = \"output_customers\"               # Folder for PySpark output\n"
      ],
      "metadata": {
        "id": "5P9_xt8x-ADO"
      },
      "execution_count": null,
      "outputs": []
    },
    {
      "cell_type": "code",
      "source": [
        "df = spark.read.csv(\n",
        "    source_path,\n",
        "    header=True,\n",
        "    schema=\"cust_id int, first_name string, last_name string, cust_order int, cust_status string\"\n",
        ")\n",
        "df.show()\n"
      ],
      "metadata": {
        "colab": {
          "base_uri": "https://localhost:8080/"
        },
        "id": "TJZMrCRK-B_t",
        "outputId": "05cd44cc-b462-44ee-c281-0e5ad7262973"
      },
      "execution_count": null,
      "outputs": [
        {
          "output_type": "stream",
          "name": "stdout",
          "text": [
            "+-------+----------+---------+----------+-----------+\n",
            "|cust_id|first_name|last_name|cust_order|cust_status|\n",
            "+-------+----------+---------+----------+-----------+\n",
            "|      1|      Arun|    Kumar|        10|     Active|\n",
            "|      2|     Priya|   Sharma|        12|   Inactive|\n",
            "|      3|     Kumar|      Rao|         7|     Active|\n",
            "|      4|     Divya|      Raj|        15|     Active|\n",
            "|      5|      Siva|  Moorthy|         9|   Inactive|\n",
            "+-------+----------+---------+----------+-----------+\n",
            "\n"
          ]
        }
      ]
    },
    {
      "cell_type": "code",
      "source": [
        "df = df.withColumn(\n",
        "    \"full_name\",\n",
        "    concat(col(\"first_name\"), lit(\" \"), col(\"last_name\"))\n",
        ")\n"
      ],
      "metadata": {
        "id": "WcIc9w90-Dcf"
      },
      "execution_count": null,
      "outputs": []
    },
    {
      "cell_type": "code",
      "source": [
        "df = df.withColumn(\n",
        "    \"net_salary\",\n",
        "    floor(lit(10000) + rand() * lit(50))  # Simulate salary near 10,000\n",
        ")\n"
      ],
      "metadata": {
        "id": "GqWAs0Qr-E5G"
      },
      "execution_count": null,
      "outputs": []
    },
    {
      "cell_type": "code",
      "source": [
        "df = df.withColumn(\n",
        "    \"age\",\n",
        "    floor(lit(20) + rand() * lit(31))   # Ages 20-50\n",
        ")\n"
      ],
      "metadata": {
        "id": "fURtLjAr-GkG"
      },
      "execution_count": null,
      "outputs": []
    },
    {
      "cell_type": "code",
      "source": [
        "df = df.filter(col(\"age\") >= 30)\n"
      ],
      "metadata": {
        "id": "N_dpGXIn-JZH"
      },
      "execution_count": null,
      "outputs": []
    },
    {
      "cell_type": "code",
      "source": [
        "avg_salary_by_age = df.groupBy(\"age\").agg({\"net_salary\": \"avg\"}).withColumnRenamed(\"avg(net_salary)\", \"avg_salary\")\n",
        "avg_salary_by_age.show()\n"
      ],
      "metadata": {
        "colab": {
          "base_uri": "https://localhost:8080/"
        },
        "id": "FIEQ1BiH-Mpm",
        "outputId": "95a48e5e-0eaa-4ba8-c840-8770d7013446"
      },
      "execution_count": null,
      "outputs": [
        {
          "output_type": "stream",
          "name": "stdout",
          "text": [
            "+---+----------+\n",
            "|age|avg_salary|\n",
            "+---+----------+\n",
            "| 33|   10037.0|\n",
            "| 42|   10042.0|\n",
            "+---+----------+\n",
            "\n"
          ]
        }
      ]
    },
    {
      "cell_type": "code",
      "source": [
        "df = df.orderBy(\"age\")\n",
        "df.show()\n"
      ],
      "metadata": {
        "colab": {
          "base_uri": "https://localhost:8080/"
        },
        "id": "sXKAXbTb-OCH",
        "outputId": "4f485679-6a9d-48fc-95f8-5a1252614750"
      },
      "execution_count": null,
      "outputs": [
        {
          "output_type": "stream",
          "name": "stdout",
          "text": [
            "+-------+----------+---------+----------+-----------+------------+----------+---+\n",
            "|cust_id|first_name|last_name|cust_order|cust_status|   full_name|net_salary|age|\n",
            "+-------+----------+---------+----------+-----------+------------+----------+---+\n",
            "|      2|     Priya|   Sharma|        12|   Inactive|Priya Sharma|     10037| 33|\n",
            "|      1|      Arun|    Kumar|        10|     Active|  Arun Kumar|     10042| 42|\n",
            "+-------+----------+---------+----------+-----------+------------+----------+---+\n",
            "\n"
          ]
        }
      ]
    },
    {
      "cell_type": "code",
      "source": [
        "df.write.csv(target_path, mode=\"overwrite\", header=True)\n"
      ],
      "metadata": {
        "id": "gWViD4K4-PGf"
      },
      "execution_count": null,
      "outputs": []
    },
    {
      "cell_type": "code",
      "source": [
        "import shutil\n",
        "\n",
        "shutil.make_archive(\"output_customers_zip\", 'zip', target_path)\n",
        "from google.colab import files\n",
        "files.download(\"output_customers_zip.zip\")\n"
      ],
      "metadata": {
        "id": "f6mm1-Pg-S_g",
        "outputId": "ca8d061b-782d-47f4-be4a-1e08a52ecc3c",
        "colab": {
          "base_uri": "https://localhost:8080/",
          "height": 17
        }
      },
      "execution_count": null,
      "outputs": [
        {
          "output_type": "display_data",
          "data": {
            "text/plain": [
              "<IPython.core.display.Javascript object>"
            ],
            "application/javascript": [
              "\n",
              "    async function download(id, filename, size) {\n",
              "      if (!google.colab.kernel.accessAllowed) {\n",
              "        return;\n",
              "      }\n",
              "      const div = document.createElement('div');\n",
              "      const label = document.createElement('label');\n",
              "      label.textContent = `Downloading \"${filename}\": `;\n",
              "      div.appendChild(label);\n",
              "      const progress = document.createElement('progress');\n",
              "      progress.max = size;\n",
              "      div.appendChild(progress);\n",
              "      document.body.appendChild(div);\n",
              "\n",
              "      const buffers = [];\n",
              "      let downloaded = 0;\n",
              "\n",
              "      const channel = await google.colab.kernel.comms.open(id);\n",
              "      // Send a message to notify the kernel that we're ready.\n",
              "      channel.send({})\n",
              "\n",
              "      for await (const message of channel.messages) {\n",
              "        // Send a message to notify the kernel that we're ready.\n",
              "        channel.send({})\n",
              "        if (message.buffers) {\n",
              "          for (const buffer of message.buffers) {\n",
              "            buffers.push(buffer);\n",
              "            downloaded += buffer.byteLength;\n",
              "            progress.value = downloaded;\n",
              "          }\n",
              "        }\n",
              "      }\n",
              "      const blob = new Blob(buffers, {type: 'application/binary'});\n",
              "      const a = document.createElement('a');\n",
              "      a.href = window.URL.createObjectURL(blob);\n",
              "      a.download = filename;\n",
              "      div.appendChild(a);\n",
              "      a.click();\n",
              "      div.remove();\n",
              "    }\n",
              "  "
            ]
          },
          "metadata": {}
        },
        {
          "output_type": "display_data",
          "data": {
            "text/plain": [
              "<IPython.core.display.Javascript object>"
            ],
            "application/javascript": [
              "download(\"download_a246a938-8a99-4a13-b2a1-96aed451c49b\", \"output_customers_zip.zip\", 746)"
            ]
          },
          "metadata": {}
        }
      ]
    },
    {
      "cell_type": "code",
      "source": [],
      "metadata": {
        "id": "MyUFixyh-UNQ"
      },
      "execution_count": null,
      "outputs": []
    }
  ]
}